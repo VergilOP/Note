{
 "cells": [
  {
   "cell_type": "code",
   "execution_count": null,
   "id": "640feaf6-57ea-48da-96f3-0ef4e9588b22",
   "metadata": {},
   "outputs": [],
   "source": [
    "import numpy as np"
   ]
  },
  {
   "cell_type": "code",
   "execution_count": null,
   "id": "c59a5264-e65d-4f74-85ab-910d016c40b4",
   "metadata": {},
   "outputs": [],
   "source": [
    "X = np.array([[1, 2.7, 1], [1, 4.1, 1], [1, 1.0, 0], [1, 5.2, 1], [1, 2.8, 0]])"
   ]
  },
  {
   "cell_type": "code",
   "execution_count": null,
   "id": "8337e9ba-c377-4322-8147-a3e704bceda6",
   "metadata": {},
   "outputs": [],
   "source": [
    "print(X)"
   ]
  },
  {
   "cell_type": "code",
   "execution_count": null,
   "id": "faa7cb66-ce0c-4ee5-9bb9-81a0170d4463",
   "metadata": {},
   "outputs": [],
   "source": [
    "y = np.array([25, 33, 15, 45, 22])"
   ]
  },
  {
   "cell_type": "code",
   "execution_count": null,
   "id": "e03539cd-862b-40c2-bb91-a422157bfa0f",
   "metadata": {},
   "outputs": [],
   "source": [
    "X.shape"
   ]
  },
  {
   "cell_type": "code",
   "execution_count": null,
   "id": "a9f3bcc0-240a-4560-83b8-d773c29223bd",
   "metadata": {},
   "outputs": [],
   "source": [
    "y.shape"
   ]
  },
  {
   "cell_type": "markdown",
   "id": "f59cf85d-53d1-4dc7-ab90-de08654b9bfd",
   "metadata": {},
   "source": [
    "First we use the closed form solution to compute W* which is given by $W^*=(X^TX)^{-1}X^Ty$"
   ]
  },
  {
   "cell_type": "code",
   "execution_count": null,
   "id": "ad0f281d-1494-46a2-92a8-9fe0c37b812d",
   "metadata": {},
   "outputs": [],
   "source": [
    "tmp = np.matmul(X.T,X)"
   ]
  },
  {
   "cell_type": "code",
   "execution_count": null,
   "id": "85923b47-6811-42e6-928e-620e3f7c8bd6",
   "metadata": {},
   "outputs": [],
   "source": [
    "tmp = np.linalg.inv(tmp)"
   ]
  },
  {
   "cell_type": "code",
   "execution_count": null,
   "id": "4e5a8d58-da4f-47ea-9a44-2e7ec5e60be0",
   "metadata": {},
   "outputs": [],
   "source": [
    "tmp = np.matmul(tmp,X.T)"
   ]
  },
  {
   "cell_type": "code",
   "execution_count": null,
   "id": "c0c2575b-8eaa-4e90-93f8-dd73083929e6",
   "metadata": {},
   "outputs": [],
   "source": [
    "W_star = np.matmul(tmp,y)"
   ]
  },
  {
   "cell_type": "code",
   "execution_count": null,
   "id": "d6cb86b8-cc3c-480a-babe-cb9eacc77984",
   "metadata": {},
   "outputs": [],
   "source": [
    "print(W_star)"
   ]
  },
  {
   "cell_type": "code",
   "execution_count": null,
   "id": "f9d0a8ca-996e-44f4-aec4-0eacaec392a3",
   "metadata": {},
   "outputs": [],
   "source": [
    "W_star.shape"
   ]
  },
  {
   "cell_type": "code",
   "execution_count": null,
   "id": "3b8506b7-abec-4c3b-b9f9-71b9e348742b",
   "metadata": {},
   "outputs": [],
   "source": [
    "y_bar = np.matmul(X,W_star) "
   ]
  },
  {
   "cell_type": "code",
   "execution_count": null,
   "id": "dc2294e7-1b14-467b-af10-5ab6234196a8",
   "metadata": {},
   "outputs": [],
   "source": [
    "print(y_bar)"
   ]
  },
  {
   "cell_type": "markdown",
   "id": "dcba3c5f-27f5-46b0-991a-8ed5d8982033",
   "metadata": {},
   "source": []
  },
  {
   "cell_type": "markdown",
   "id": "6acf85aa-ac61-430c-b8c8-ee51f8d7bf75",
   "metadata": {},
   "source": [
    "Let us do it using gradient descen, which is given by $W^{t+1}=W^t - \\eta / n*(X^TXW^t-X^Ty)$"
   ]
  },
  {
   "cell_type": "code",
   "execution_count": null,
   "id": "36377de1-0b6c-4a33-9bb1-35c7bc5d175b",
   "metadata": {},
   "outputs": [],
   "source": [
    "W = np.array([0, 0, 0])"
   ]
  },
  {
   "cell_type": "code",
   "execution_count": null,
   "id": "e5881098-dd65-4611-82ec-7378be922345",
   "metadata": {},
   "outputs": [],
   "source": [
    "eta = 0.02 #step size: small=0.002, medium=0.02, large=0.2 "
   ]
  },
  {
   "cell_type": "code",
   "execution_count": null,
   "id": "a2370e0e-a324-4aff-86d2-46f2ee78be8f",
   "metadata": {},
   "outputs": [],
   "source": [
    "C_W = []\n",
    "for t in range(3000):\n",
    "    grad = 1/5 * (np.matmul(np.matmul(X.T, X), W) - np.matmul(X.T, y))\n",
    "    W = W - eta * grad\n",
    "    loss = 1/10 * ( np.dot(W.T, np.dot(X.T, np.dot(X, W))) - 2*np.dot(W.T, np.dot(X.T, y)) + np.dot(y.T, y) )\n",
    "    C_W.append(loss) \n",
    "    if t % 100 == 0:\n",
    "        print(W)"
   ]
  },
  {
   "cell_type": "code",
   "execution_count": null,
   "id": "5719f032-e837-4ebe-8c33-e142ecd54f69",
   "metadata": {},
   "outputs": [],
   "source": [
    "import matplotlib.pyplot as plt"
   ]
  },
  {
   "cell_type": "code",
   "execution_count": null,
   "id": "a46bc577-dcdb-445a-8c19-c079c6343077",
   "metadata": {},
   "outputs": [],
   "source": [
    "plt.title(\"Loss Curve\")\n",
    "plt.xlabel(\"Iteration number\")\n",
    "plt.ylabel(\"The value of loss\")\n",
    "plt.plot(C_W[:40], color =\"red\")\n",
    "plt.show()"
   ]
  },
  {
   "cell_type": "code",
   "execution_count": null,
   "id": "cad806d8-e0af-4f10-b104-df82d465c108",
   "metadata": {},
   "outputs": [],
   "source": []
  }
 ],
 "metadata": {
  "kernelspec": {
   "display_name": "Python 3 (ipykernel)",
   "language": "python",
   "name": "python3"
  },
  "language_info": {
   "codemirror_mode": {
    "name": "ipython",
    "version": 3
   },
   "file_extension": ".py",
   "mimetype": "text/x-python",
   "name": "python",
   "nbconvert_exporter": "python",
   "pygments_lexer": "ipython3",
   "version": "3.7.16"
  }
 },
 "nbformat": 4,
 "nbformat_minor": 5
}
