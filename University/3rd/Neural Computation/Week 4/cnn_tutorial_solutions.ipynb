{
  "cells": [
    {
      "cell_type": "markdown",
      "metadata": {
        "id": "8p--yEGcozLE"
      },
      "source": [
        "\n",
        "Training a Classifier\n",
        "=====================\n",
        "\n",
        "This is it, you have seen how to define neural networks, compute loss and make\n",
        "updates to the weights of the network.\n",
        "\n",
        "Now you might be thinking, What about data?\n",
        "\n",
        "Generally, when you have to deal with image, text, audio or video data,\n",
        "you can use standard python packages that load data into a numpy array.\n",
        "Then you can convert this array into a ``torch.*Tensor``.\n",
        "\n",
        "-  For images, packages such as Pillow, OpenCV are useful\n",
        "-  For audio, packages such as scipy and librosa\n",
        "-  For text, either raw Python or Cython based loading, or NLTK and\n",
        "   SpaCy are useful\n",
        "\n",
        "Specifically for vision, we have created a package called\n",
        "``torchvision``, that has data loaders for common datasets such as\n",
        "ImageNet, CIFAR10, MNIST, etc. and data transformers for images, viz.,\n",
        "``torchvision.datasets`` and ``torch.utils.data.DataLoader``.\n",
        "\n",
        "This provides a huge convenience and avoids writing boilerplate code.\n",
        "\n",
        "For this tutorial, we will use the CIFAR10 dataset.\n",
        "It has the classes: ‘airplane’, ‘automobile’, ‘bird’, ‘cat’, ‘deer’,\n",
        "‘dog’, ‘frog’, ‘horse’, ‘ship’, ‘truck’. The images in CIFAR-10 are of\n",
        "size 3x32x32, i.e. 3-channel color images of 32x32 pixels in size.\n",
        "\n",
        "# Training an image classifier\n",
        "\n",
        "We will do the following steps in order:\n",
        "\n",
        "1. Load and normalize the CIFAR10 training and test datasets using\n",
        "   ``torchvision``\n",
        "2. Define a Convolutional Neural Network\n",
        "3. Define a loss function\n",
        "4. Train the network on the training data\n",
        "5. Test the network on the test data\n",
        "\n",
        "# Load and normalize CIFAR10\n",
        "\n",
        "\n",
        "Using ``torchvision``, it’s extremely easy to load CIFAR10.\n",
        "\n"
      ]
    },
    {
      "cell_type": "code",
      "execution_count": 2,
      "metadata": {
        "id": "ACqdNbfMozLH"
      },
      "outputs": [],
      "source": [
        "import torch\n",
        "import torchvision\n",
        "import torchvision.transforms as transforms"
      ]
    },
    {
      "cell_type": "markdown",
      "metadata": {
        "id": "5EM2Gw7nLAlN"
      },
      "source": [
        "Using the same method we did in the last tutorial, we will take advantage of a GPU if one is available."
      ]
    },
    {
      "cell_type": "code",
      "execution_count": 3,
      "metadata": {
        "colab": {
          "base_uri": "https://localhost:8080/"
        },
        "id": "zPJm8401LAH2",
        "outputId": "b42cab75-7fd5-4cf8-8a94-730dcb895041"
      },
      "outputs": [
        {
          "name": "stdout",
          "output_type": "stream",
          "text": [
            "The current device is cpu\n"
          ]
        }
      ],
      "source": [
        "device = torch.device(\"cuda:0\" if torch.cuda.is_available() else \"cpu\")\n",
        "print(f\"The current device is {device}\")\n"
      ]
    },
    {
      "cell_type": "markdown",
      "metadata": {
        "id": "Iw8PyfmzozLI"
      },
      "source": [
        "The output of torchvision datasets are PILImage images of range [0, 1].\n",
        "We transform them to Tensors of normalized range [-1, 1]. Since the CIFAR10 images are RGB they are made up of 3 channels, representing the red, blue and green components of the image. The `transforms.Normalize()` function applys a normalising transformation to each channel of the data, the first tuple is a value to be subtracted from each respective channel, and the second tuple gives the value each respective channel will be divided by.  i.e.:Given `mean = (mean[1],...,mean[n])` and `std = (std[1],..,std[n])` for n channels, this transform will normalize each channel of the input torch.*Tensor: `output[channel] = (input[channel] - mean[channel]) / std[channel]`\n"
      ]
    },
    {
      "cell_type": "markdown",
      "metadata": {
        "id": "ui3BB0kTozLI"
      },
      "source": [
        "<div class=\"alert alert-info\"><h4>Note</h4><p>If running on Windows and you get a BrokenPipeError, try setting\n",
        "    the num_worker of torch.utils.data.DataLoader() to 0.</p></div>\n",
        "\n"
      ]
    },
    {
      "cell_type": "code",
      "execution_count": 4,
      "metadata": {
        "colab": {
          "base_uri": "https://localhost:8080/"
        },
        "id": "pDRMBmMzozLJ",
        "outputId": "4e6be96e-1ced-4dd9-8e4f-811a8177e8f0"
      },
      "outputs": [
        {
          "name": "stdout",
          "output_type": "stream",
          "text": [
            "Files already downloaded and verified\n",
            "Files already downloaded and verified\n"
          ]
        }
      ],
      "source": [
        "transform = transforms.Compose(\n",
        "    [transforms.ToTensor(),\n",
        "     transforms.Normalize((0.5, 0.5, 0.5), (0.5, 0.5, 0.5))])\n",
        "\n",
        "batch_size = 4\n",
        "\n",
        "trainset = torchvision.datasets.CIFAR10(root='./data', train=True,\n",
        "                                        download=True, transform=transform)\n",
        "trainloader = torch.utils.data.DataLoader(trainset, batch_size=batch_size,\n",
        "                                          shuffle=True, num_workers=2)\n",
        "\n",
        "testset = torchvision.datasets.CIFAR10(root='./data', train=False,\n",
        "                                       download=True, transform=transform)\n",
        "testloader = torch.utils.data.DataLoader(testset, batch_size=batch_size,\n",
        "                                         shuffle=False, num_workers=2)\n",
        "\n",
        "classes = ('plane', 'car', 'bird', 'cat',\n",
        "           'deer', 'dog', 'frog', 'horse', 'ship', 'truck')"
      ]
    },
    {
      "cell_type": "markdown",
      "metadata": {
        "id": "6awsWm1YozLK"
      },
      "source": [
        "Let us show some of the training images, for fun.\n",
        "\n"
      ]
    },
    {
      "cell_type": "code",
      "execution_count": 5,
      "metadata": {
        "colab": {
          "base_uri": "https://localhost:8080/",
          "height": 155
        },
        "id": "NMDQgSVoozLL",
        "outputId": "0b97534d-156c-460c-b146-9c2e03c6d3a9"
      },
      "outputs": [
        {
          "data": {
            "image/png": "[encoded data removed]",
            "text/plain": [
              "<Figure size 640x480 with 1 Axes>"
            ]
          },
          "metadata": {},
          "output_type": "display_data"
        },
        {
          "name": "stdout",
          "output_type": "stream",
          "text": [
            " ship truck   cat plane\n"
          ]
        }
      ],
      "source": [
        "import matplotlib.pyplot as plt\n",
        "import numpy as np\n",
        "\n",
        "# functions to show an image\n",
        "\n",
        "\n",
        "def imshow(img):\n",
        "    img = img / 2 + 0.5     # unnormalize\n",
        "    npimg = img.numpy()\n",
        "    plt.imshow(np.transpose(npimg, (1, 2, 0)))\n",
        "    plt.show()\n",
        "\n",
        "\n",
        "# get some random training images\n",
        "dataiter = iter(trainloader)\n",
        "images, labels = next(dataiter)\n",
        "\n",
        "# show images\n",
        "imshow(torchvision.utils.make_grid(images))\n",
        "# print labels\n",
        "print(' '.join('%5s' % classes[labels[j]] for j in range(batch_size)))"
      ]
    },
    {
      "cell_type": "markdown",
      "metadata": {
        "id": "UjD7sA-cozLN"
      },
      "source": [
        "# Define a Convolutional Neural Network\n",
        "Here we will define the Convolutional Neural Network which we will be using to classify the images. We develop this network using some components you will be familiar with from lectures, consisting of convolutional layers, max pooling layers and fully connected layers. We use the respective pytorch sub-modules seen in the `__init__` definition below. The Pytorch documentation is a good way of seeing what each of these sub modules does. \n",
        "\n",
        "For the forward pass of this network we input a 3 channeled image into the neural network, and it outputs a vector of length 10. This vector contains the raw un-normalised scores for each of the 10 classes. Once trained, the class with the highest score will be the predicted class. Understanding what each sub-module in the network is doing is key, so I give a brief overview below:\n",
        "\n",
        "- `nn.Conv2d(in_channels, out_channels, kernel_size)` - an instance of this sub-module will be a 2 d convolution layer which takes a mini-batch of images with `in_channels` and convolves these images with `out_channels` kernels of height and width `kernel_size` (and `in_channels` depth) to give an output image with `out_channels` many channels. \n",
        "\n",
        "- `nn.MaxPool2d(kernel_size)` - an instance of this sub-module will be a 2d maxpooling with a `kernel_size` sized kernel.\n",
        "\n",
        "- `nn.Linear(in_channels,out_channels)` - was covered in the last tutorial and acts as a fully connected layer between a vector of length `in_features` and a vector of length `out_features`.\n",
        "\n",
        "These are by no means exhaustive explanations, please refer to the official Pytorch documentation to find out more. The instances of these submodules, which are created in the `__init__` method, are then arranged in the `forward` method of the model to define a forward pass. Note that `F.relu()` functionals are also used in the `forward` method, however are not required to be defined in the `__init__` method, this is the case with any functionals used in the forward sequence of a neural network (one example being most activation functions).\n",
        "\n"
      ]
    },
    {
      "cell_type": "code",
      "execution_count": 6,
      "metadata": {
        "id": "UgsKzWjoozLO"
      },
      "outputs": [],
      "source": [
        "import torch.nn as nn\n",
        "import torch.nn.functional as F\n",
        "\n",
        "\n",
        "class Net(nn.Module):\n",
        "    def __init__(self):\n",
        "        super().__init__()\n",
        "        self.conv1 = nn.Conv2d(3, 6, 5)\n",
        "        self.pool = nn.MaxPool2d(2, 2)\n",
        "        self.conv2 = nn.Conv2d(6, 16, 5)\n",
        "        self.fc1 = nn.Linear(16 * 5 * 5, 120)\n",
        "        self.fc2 = nn.Linear(120, 84)\n",
        "        self.fc3 = nn.Linear(84, 10)\n",
        "\n",
        "    def forward(self, x):\n",
        "        x = self.pool(F.relu(self.conv1(x)))\n",
        "        x = self.pool(F.relu(self.conv2(x)))\n",
        "        x = torch.flatten(x, 1) # flatten all dimensions except batch\n",
        "        x = F.relu(self.fc1(x))\n",
        "        x = F.relu(self.fc2(x))\n",
        "        x = self.fc3(x)\n",
        "        return x\n",
        "\n",
        "\n",
        "net = Net().to(device)"
      ]
    },
    {
      "cell_type": "markdown",
      "metadata": {
        "id": "sA7uY_cEozLP"
      },
      "source": [
        "# Define a Loss function and optimizer\n",
        "\n",
        "Let's use a Classification Cross-Entropy loss and SGD with momentum. The `nn.CrossEntropyLoss` only requires the raw un-normalised scores for each class, hence why we don't need a soft-max layer in our network (it is actually built into this loss function). `optim.SGD` allows us to apply minibatch gradient descent with momentum using the hyperparameters parameters below. \n",
        "\n"
      ]
    },
    {
      "cell_type": "code",
      "execution_count": 7,
      "metadata": {
        "id": "S2JYmmPaozLP"
      },
      "outputs": [],
      "source": [
        "import torch.optim as optim\n",
        "\n",
        "criterion = nn.CrossEntropyLoss()\n",
        "optimizer = optim.SGD(net.parameters(), lr=0.001, momentum=0.9)"
      ]
    },
    {
      "cell_type": "markdown",
      "metadata": {
        "id": "xS9RWEU3ozLQ"
      },
      "source": [
        "# Train the network\n",
        "\n",
        "\n",
        "This is when things start to get interesting.\n",
        "We simply have to loop over our data iterator, and feed the inputs to the\n",
        "network and optimize. These lines of code are key to training networks in Pytorch and it is essential you understand how they work. As you can see the main steps are the same as those used in the previous tutorial, showing how their importance in training neural models in Pytorch.\n",
        "\n"
      ]
    },
    {
      "cell_type": "code",
      "execution_count": 17,
      "metadata": {
        "colab": {
          "base_uri": "https://localhost:8080/"
        },
        "id": "UM618RphozLQ",
        "outputId": "ec75de98-1d07-445e-dd08-273649ed141b"
      },
      "outputs": [
        {
          "name": "stdout",
          "output_type": "stream",
          "text": [
            "[1,  2000] loss: 1.153\n",
            "[1,  4000] loss: 1.166\n",
            "[1,  6000] loss: 1.166\n",
            "[1,  8000] loss: 1.192\n",
            "[1, 10000] loss: 1.170\n",
            "[1, 12000] loss: 1.146\n",
            "[2,  2000] loss: 1.150\n",
            "[2,  4000] loss: 1.178\n",
            "[2,  6000] loss: 1.166\n",
            "[2,  8000] loss: 1.175\n",
            "[2, 10000] loss: 1.160\n",
            "[2, 12000] loss: 1.165\n",
            "[3,  2000] loss: 1.170\n",
            "[3,  4000] loss: 1.177\n",
            "[3,  6000] loss: 1.168\n",
            "[3,  8000] loss: 1.161\n",
            "[3, 10000] loss: 1.155\n",
            "[3, 12000] loss: 1.159\n",
            "[4,  2000] loss: 1.161\n",
            "[4,  4000] loss: 1.157\n",
            "[4,  6000] loss: 1.168\n",
            "[4,  8000] loss: 1.174\n",
            "[4, 10000] loss: 1.168\n",
            "[4, 12000] loss: 1.159\n",
            "[5,  2000] loss: 1.152\n",
            "[5,  4000] loss: 1.177\n",
            "[5,  6000] loss: 1.152\n",
            "[5,  8000] loss: 1.166\n",
            "[5, 10000] loss: 1.171\n",
            "[5, 12000] loss: 1.168\n",
            "[6,  2000] loss: 1.170\n",
            "[6,  4000] loss: 1.147\n",
            "[6,  6000] loss: 1.156\n",
            "[6,  8000] loss: 1.176\n",
            "[6, 10000] loss: 1.153\n",
            "[6, 12000] loss: 1.182\n",
            "[7,  2000] loss: 1.154\n",
            "[7,  4000] loss: 1.163\n",
            "[7,  6000] loss: 1.174\n",
            "[7,  8000] loss: 1.166\n",
            "[7, 10000] loss: 1.158\n",
            "[7, 12000] loss: 1.172\n",
            "[8,  2000] loss: 1.155\n",
            "[8,  4000] loss: 1.149\n",
            "[8,  6000] loss: 1.169\n",
            "[8,  8000] loss: 1.179\n",
            "[8, 10000] loss: 1.171\n",
            "[8, 12000] loss: 1.171\n",
            "[9,  2000] loss: 1.175\n",
            "[9,  4000] loss: 1.159\n",
            "[9,  6000] loss: 1.166\n",
            "[9,  8000] loss: 1.164\n",
            "[9, 10000] loss: 1.168\n",
            "[9, 12000] loss: 1.160\n",
            "[10,  2000] loss: 1.163\n",
            "[10,  4000] loss: 1.161\n",
            "[10,  6000] loss: 1.178\n",
            "[10,  8000] loss: 1.150\n",
            "[10, 10000] loss: 1.165\n",
            "[10, 12000] loss: 1.180\n",
            "Finished Training\n"
          ]
        }
      ],
      "source": [
        "for epoch in range(2):  # loop over the dataset multiple times\n",
        "\n",
        "    running_loss = 0.0\n",
        "    for i, data in enumerate(trainloader, 0):\n",
        "        # get the inputs; data is a list of [inputs, labels] and move them to\n",
        "        #the current device\n",
        "        inputs, labels = data\n",
        "        inputs = inputs.to(device)\n",
        "        labels = labels.to(device)\n",
        "        \n",
        "        # zero the parameter gradients\n",
        "        optimizer.zero_grad()\n",
        "\n",
        "        # forward + backward + optimize\n",
        "        outputs = net(inputs)\n",
        "        loss = criterion(outputs, labels)\n",
        "        loss.backward()\n",
        "        optimizer.step()\n",
        "\n",
        "        # print statistics - epoch and loss\n",
        "        running_loss += loss.item()\n",
        "        if i % 2000 == 1999:    # print every 2000 mini-batches\n",
        "            print('[%d, %5d] loss: %.3f' %\n",
        "                  (epoch + 1, i + 1, running_loss / 2000))\n",
        "            running_loss = 0.0\n",
        "\n",
        "print('Finished Training')"
      ]
    },
    {
      "cell_type": "markdown",
      "metadata": {
        "id": "dmsv1Pj5ozLR"
      },
      "source": [
        "Let's quickly save our trained model:\n",
        "\n"
      ]
    },
    {
      "cell_type": "code",
      "execution_count": 18,
      "metadata": {
        "id": "9FGm9rI7ozLS"
      },
      "outputs": [],
      "source": [
        "PATH = './cifar_net.pth'\n",
        "torch.save(net.state_dict(), PATH)"
      ]
    },
    {
      "cell_type": "markdown",
      "metadata": {
        "id": "ymQdATFtozLS"
      },
      "source": [
        "See `here <https://pytorch.org/docs/stable/notes/serialization.html>`_\n",
        "for more details on saving PyTorch models.\n",
        "\n",
        "# Test the network on the test data\n",
        "\n",
        "\n",
        "We have trained the network for 2 passes over the training dataset.\n",
        "But we need to check if the network has learnt anything at all.\n",
        "\n",
        "We will check this by predicting the class label that the neural network\n",
        "outputs, and checking it against the ground-truth. If the prediction is\n",
        "correct, we add the sample to the list of correct predictions.\n",
        "\n",
        "Okay, first step. Let us display a mini-batch of images from the test set to get familiar.\n",
        "\n"
      ]
    },
    {
      "cell_type": "code",
      "execution_count": 19,
      "metadata": {
        "colab": {
          "base_uri": "https://localhost:8080/",
          "height": 155
        },
        "id": "voiOC07KozLT",
        "outputId": "f7ae8697-be3a-450b-cfee-5a0a35ab51cd"
      },
      "outputs": [
        {
          "data": {
            "image/png": "[encoded data removed]",
            "text/plain": [
              "<Figure size 640x480 with 1 Axes>"
            ]
          },
          "metadata": {},
          "output_type": "display_data"
        },
        {
          "name": "stdout",
          "output_type": "stream",
          "text": [
            "GroundTruth:    cat  ship  ship plane\n"
          ]
        }
      ],
      "source": [
        "dataiter = iter(testloader)\n",
        "images, labels = next(dataiter) #Selects a mini-batch and its labels\n",
        "\n",
        "# print images\n",
        "imshow(torchvision.utils.make_grid(images))\n",
        "print('GroundTruth: ', ' '.join('%5s' % classes[labels[j]] for j in range(4)))"
      ]
    },
    {
      "cell_type": "markdown",
      "metadata": {
        "id": "1fr5gf9JozLT"
      },
      "source": [
        "Next, let's load back in our saved model (note: saving and re-loading the model\n",
        "wasn't necessary here, we only did it to illustrate how to do so):\n",
        "\n"
      ]
    },
    {
      "cell_type": "code",
      "execution_count": 20,
      "metadata": {
        "colab": {
          "base_uri": "https://localhost:8080/"
        },
        "id": "ubhQCrEEozLT",
        "outputId": "2f2aea14-d9e6-4e6f-a662-b6d5c8102a20"
      },
      "outputs": [
        {
          "data": {
            "text/plain": [
              "<All keys matched successfully>"
            ]
          },
          "execution_count": 20,
          "metadata": {},
          "output_type": "execute_result"
        }
      ],
      "source": [
        "net = Net()\n",
        "net.load_state_dict(torch.load(PATH))"
      ]
    },
    {
      "cell_type": "markdown",
      "metadata": {
        "id": "hht9YwkXozLU"
      },
      "source": [
        "Okay, now let us see what the neural network thinks these examples above are:\n",
        "\n"
      ]
    },
    {
      "cell_type": "code",
      "execution_count": 21,
      "metadata": {
        "id": "ngSKYwfuozLU"
      },
      "outputs": [],
      "source": [
        "images = images.to(device)\n",
        "labels = labels.to(device)\n",
        "outputs = net(images)"
      ]
    },
    {
      "cell_type": "markdown",
      "metadata": {
        "id": "2sQePV7aozLU"
      },
      "source": [
        "The outputs are energies for the 10 classes.\n",
        "The higher the energy for a class, the more the network\n",
        "thinks that the image is of the particular class.\n",
        "So, let's get the index of the highest energy.\n",
        "\n"
      ]
    },
    {
      "cell_type": "code",
      "execution_count": 22,
      "metadata": {
        "colab": {
          "base_uri": "https://localhost:8080/"
        },
        "id": "YjSheh1XozLV",
        "outputId": "b59ab58a-d8b4-4be2-fcc9-21f90539a95b"
      },
      "outputs": [
        {
          "name": "stdout",
          "output_type": "stream",
          "text": [
            "Predicted:    cat  ship  ship  ship\n"
          ]
        }
      ],
      "source": [
        "_, predicted = torch.max(outputs, 1) #Returns a tuple (max,max indicies), we only need the max indicies.\n",
        "\n",
        "print('Predicted: ', ' '.join('%5s' % classes[predicted[j]]\n",
        "                              for j in range(4)))"
      ]
    },
    {
      "cell_type": "markdown",
      "metadata": {
        "id": "7PACPhadozLV"
      },
      "source": [
        "The results seem pretty good.\n",
        "\n",
        "Let us look at how the network performs on the whole dataset.\n",
        "\n"
      ]
    },
    {
      "cell_type": "code",
      "execution_count": 23,
      "metadata": {
        "colab": {
          "base_uri": "https://localhost:8080/"
        },
        "id": "--mqyNY1ozLV",
        "outputId": "8345eaf4-15e9-4cc4-8571-67898f429af2"
      },
      "outputs": [
        {
          "name": "stdout",
          "output_type": "stream",
          "text": [
            "Accuracy of the network on the 10000 test images: 56 %\n"
          ]
        }
      ],
      "source": [
        "correct = 0\n",
        "total = 0\n",
        "# since we're not training, we don't need to calculate the gradients for our outputs\n",
        "with torch.no_grad():\n",
        "    for data in testloader:\n",
        "        images, labels = data\n",
        "        images = images.to(device)\n",
        "        labels = labels.to(device)\n",
        "\n",
        "        # calculate outputs by running images through the network \n",
        "        outputs = net(images)\n",
        "        \n",
        "        # the class with the highest energy is what we choose as prediction\n",
        "        _, predicted = torch.max(outputs.data, 1)\n",
        "        total += labels.size(0)\n",
        "        correct += (predicted == labels).sum().item()\n",
        "\n",
        "print('Accuracy of the network on the 10000 test images: %d %%' % (\n",
        "    100 * correct / total))"
      ]
    },
    {
      "cell_type": "markdown",
      "metadata": {
        "id": "1NcHcSFjozLV"
      },
      "source": [
        "That looks way better than chance, which is 10% accuracy (randomly picking\n",
        "a class out of 10 classes).\n",
        "It seems like the network learnt something.\n",
        "\n",
        "Hmmm, what are the classes that performed well, and the classes that did\n",
        "not perform well. This can be some useful analysis to carry out as it can show you the limits of your neural network, and they are often areas where the network could be improved. \n",
        "\n"
      ]
    },
    {
      "cell_type": "code",
      "execution_count": 24,
      "metadata": {
        "colab": {
          "base_uri": "https://localhost:8080/"
        },
        "id": "4I78hvpgozLV",
        "outputId": "647efbd0-9c82-459f-fdaf-fc04681afdaf"
      },
      "outputs": [
        {
          "name": "stdout",
          "output_type": "stream",
          "text": [
            "Accuracy for class plane is: 53.2 %\n",
            "Accuracy for class car   is: 72.5 %\n",
            "Accuracy for class bird  is: 46.2 %\n",
            "Accuracy for class cat   is: 35.6 %\n",
            "Accuracy for class deer  is: 40.5 %\n",
            "Accuracy for class dog   is: 49.2 %\n",
            "Accuracy for class frog  is: 68.1 %\n",
            "Accuracy for class horse is: 69.7 %\n",
            "Accuracy for class ship  is: 73.2 %\n",
            "Accuracy for class truck is: 57.7 %\n"
          ]
        }
      ],
      "source": [
        "# prepare to count predictions for each class\n",
        "correct_pred = {classname: 0 for classname in classes}\n",
        "total_pred = {classname: 0 for classname in classes}\n",
        "\n",
        "# again no gradients needed\n",
        "with torch.no_grad():\n",
        "    for data in testloader:\n",
        "        images, labels = data\n",
        "        images = images.to(device)\n",
        "        labels = labels.to(device)\n",
        "            \n",
        "        outputs = net(images)    \n",
        "        _, predictions = torch.max(outputs, 1)\n",
        "        # collect the correct predictions for each class\n",
        "        for label, prediction in zip(labels, predictions):\n",
        "            if label == prediction:\n",
        "                correct_pred[classes[label]] += 1\n",
        "            total_pred[classes[label]] += 1\n",
        "\n",
        "  \n",
        "# print accuracy for each class\n",
        "for classname, correct_count in correct_pred.items():\n",
        "    accuracy = 100 * float(correct_count) / total_pred[classname]\n",
        "    print(\"Accuracy for class {:5s} is: {:.1f} %\".format(classname, \n",
        "                                                   accuracy))"
      ]
    },
    {
      "cell_type": "markdown",
      "metadata": {
        "id": "uWF1bSVdozLW"
      },
      "source": [
        "So now you have trained a convolutional neural nework to perform an image classification task, potentially on a GPU. If this is the case you may ask yourself, 'why don't I notice MASSIVE speedup compared to CPU?' The answer is simply that the network you are training is really small. \n",
        "\n",
        "**Exercise:** Try increasing the width of your network (argument 2 of\n",
        "the first ``nn.Conv2d``, and argument 1 of the second ``nn.Conv2d`` –\n",
        "they need to be the same number), see what kind of speedup you get.\n",
        "\n",
        "**Goals achieved**:\n",
        "\n",
        "- Understanding PyTorch's Tensor library and neural networks at a high level.\n",
        "- Train a small neural network to classify images\n",
        "\n",
        "\n",
        "\n",
        "\n"
      ]
    }
  ],
  "metadata": {
    "accelerator": "GPU",
    "colab": {
      "collapsed_sections": [],
      "name": "Copy of cifar10_tutorial.ipynb",
      "provenance": []
    },
    "kernelspec": {
      "display_name": "Python 3",
      "language": "python",
      "name": "python3"
    },
    "language_info": {
      "codemirror_mode": {
        "name": "ipython",
        "version": 3
      },
      "file_extension": ".py",
      "mimetype": "text/x-python",
      "name": "python",
      "nbconvert_exporter": "python",
      "pygments_lexer": "ipython3",
      "version": "3.11.3"
    }
  },
  "nbformat": 4,
  "nbformat_minor": 0
}
