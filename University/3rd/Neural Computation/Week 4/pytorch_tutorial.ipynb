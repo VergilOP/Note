{
 "cells": [
  {
   "cell_type": "markdown",
   "metadata": {
    "id": "MKVFxn3kiFk8"
   },
   "source": [
    "# Neural Computation Exercise 6-1: Pytorch\n",
    "\n",
    "It is now the time to introduce you [`Pytorch`](https://pytorch.org/features/), which allows implementations of modern, powerful deep learning neural networks in a very simple yet efficient way. \n",
    "\n",
    "The question naturally arises as to what Pytorch is?\n",
    "\n",
    "`Pytorch` is a python-based scientific computing package targeted at two sets of audiences:\n",
    "\n",
    "* A replacement for Numpy to use the power of GPUs\n",
    "* A deep learning research platform that provides maximum flexibility and speed\n",
    "\n",
    "As a start point, we will first introduce some basic examples of Pytorch Tensors can be used. For more details, one may check the official tutorial from [here](https://pytorch.org/tutorials/beginner/blitz/tensor_tutorial.html#sphx-glr-beginner-blitz-tensor-tutorial-py). We also include how to transfer a tensor between CPU and GPUs.\n",
    "\n",
    "In addition to the use of GPUs, another very important feature about `Pytorch` is *Automatic Differentiation*, which allows us to numerically evaluate the derivative of a function/model specified by a computer program without any manual gradient calculations. For a more detailed introduction of *Automatic Differentiation* in Pytorch, please read [here](https://pytorch.org/tutorials/beginner/blitz/autograd_tutorial.html#sphx-glr-beginner-blitz-autograd-tutorial-py)."
   ]
  },
  {
   "cell_type": "markdown",
   "metadata": {
    "id": "eKZxQiX11L64"
   },
   "source": [
    "# Tensors\n",
    "\n",
    "The most basic building block of Pytorch is an object called a tensor, which are matrix-like data structures very similar to Numpy's ndarrays with the advantage being that Tensors can also be stored/used on GPUs to accelerate computing. A scalar has zero dimension, so is called 0D tensor. A vector has one dimension (i.e., 1D tensor) , while a matrix has two dimension (2D tensor).\n",
    " In this section, we will show you how to create a tensor using Pytorch. First, we need to `import` the package."
   ]
  },
  {
   "cell_type": "code",
   "execution_count": 1,
   "metadata": {
    "id": "PChD9B0LRuMk"
   },
   "outputs": [],
   "source": [
    "import torch \n",
    "import numpy as np"
   ]
  },
  {
   "cell_type": "markdown",
   "metadata": {
    "id": "1nX9IT1vRxAk"
   },
   "source": [
    "You can construct a 3x4 randomly initialised matrix:"
   ]
  },
  {
   "cell_type": "code",
   "execution_count": 2,
   "metadata": {
    "colab": {
     "base_uri": "https://localhost:8080/"
    },
    "id": "CJrqe6ouWVOp",
    "outputId": "206ac767-cdf9-4ff7-8caf-9cbd1ffc46f1"
   },
   "outputs": [
    {
     "name": "stdout",
     "output_type": "stream",
     "text": [
      "tensor([[0.2045, 0.3609, 0.0857, 0.6659],\n",
      "        [0.8514, 0.2213, 0.9795, 0.3910],\n",
      "        [0.8986, 0.5472, 0.8465, 0.4717]])\n"
     ]
    }
   ],
   "source": [
    "x = torch.rand(3,4)\n",
    "print(x)"
   ]
  },
  {
   "cell_type": "markdown",
   "metadata": {
    "id": "zsm3IfN0W_qb"
   },
   "source": [
    "Construct a tensor directly from data (i.e. from a list object) :"
   ]
  },
  {
   "cell_type": "code",
   "execution_count": null,
   "metadata": {
    "colab": {
     "base_uri": "https://localhost:8080/"
    },
    "id": "dIuHjz_dW38R",
    "outputId": "68197207-0dae-402f-9483-c741eee07a26"
   },
   "outputs": [
    {
     "name": "stdout",
     "output_type": "stream",
     "text": [
      "tensor([3.0000, 4.5000])\n"
     ]
    }
   ],
   "source": [
    "x = torch.tensor([3, 4.5])\n",
    "print(x)"
   ]
  },
  {
   "cell_type": "markdown",
   "metadata": {
    "id": "SWkStdiyXM1K"
   },
   "source": [
    "You can retrieve the size of the tensor using `size` as follows:"
   ]
  },
  {
   "cell_type": "code",
   "execution_count": null,
   "metadata": {
    "colab": {
     "base_uri": "https://localhost:8080/"
    },
    "id": "ey10qXjUXecc",
    "outputId": "ce89e4fc-d5cd-4489-fbd8-258f65291af8"
   },
   "outputs": [
    {
     "name": "stdout",
     "output_type": "stream",
     "text": [
      "torch.Size([2])\n",
      "torch.Size([2])\n"
     ]
    }
   ],
   "source": [
    "print(x.size())\n",
    "# Besides .size(), one may find .shape works as well\n",
    "print(x.shape)"
   ]
  },
  {
   "cell_type": "markdown",
   "metadata": {
    "id": "TGIIR6MSXrpy"
   },
   "source": [
    "There are many operations that can be performed on tensors. The addition operation can be done as follows:"
   ]
  },
  {
   "cell_type": "code",
   "execution_count": null,
   "metadata": {
    "colab": {
     "base_uri": "https://localhost:8080/"
    },
    "id": "O8xk1-cPX4o6",
    "outputId": "54f7341a-2c9c-477d-a097-24314514ae8d"
   },
   "outputs": [
    {
     "name": "stdout",
     "output_type": "stream",
     "text": [
      "tensor([[1.7933, 0.3334, 0.5948, 1.4624],\n",
      "        [0.7556, 1.6135, 0.0776, 0.5896],\n",
      "        [0.7903, 1.6160, 1.3694, 0.5571]])\n"
     ]
    }
   ],
   "source": [
    "x = torch.rand(3,4)\n",
    "y = torch.rand(3,4)\n",
    "print(x+y)"
   ]
  },
  {
   "cell_type": "markdown",
   "metadata": {
    "id": "MksZH3NjYAvo"
   },
   "source": [
    "Or you can use another syntax:"
   ]
  },
  {
   "cell_type": "code",
   "execution_count": null,
   "metadata": {
    "colab": {
     "base_uri": "https://localhost:8080/"
    },
    "id": "KmuseWzZW7wZ",
    "outputId": "526de0a0-bd6e-4026-b8a6-9e719e997097"
   },
   "outputs": [
    {
     "name": "stdout",
     "output_type": "stream",
     "text": [
      "tensor([[1.7933, 0.3334, 0.5948, 1.4624],\n",
      "        [0.7556, 1.6135, 0.0776, 0.5896],\n",
      "        [0.7903, 1.6160, 1.3694, 0.5571]])\n"
     ]
    }
   ],
   "source": [
    "print(torch.add(x, y))"
   ]
  },
  {
   "cell_type": "markdown",
   "metadata": {
    "id": "Bq9lIO8TYOCA"
   },
   "source": [
    "You can also provide an output tensor as argument as follows:"
   ]
  },
  {
   "cell_type": "code",
   "execution_count": null,
   "metadata": {
    "colab": {
     "base_uri": "https://localhost:8080/"
    },
    "id": "V5qygvlQYTrB",
    "outputId": "d1039a48-324a-49ec-b783-d04ee80ee37a"
   },
   "outputs": [
    {
     "name": "stdout",
     "output_type": "stream",
     "text": [
      "tensor([[1.7933, 0.3334, 0.5948, 1.4624],\n",
      "        [0.7556, 1.6135, 0.0776, 0.5896],\n",
      "        [0.7903, 1.6160, 1.3694, 0.5571]])\n"
     ]
    }
   ],
   "source": [
    "result = torch.empty(3,4)\n",
    "torch.add(x, y, out=result)\n",
    "print(result)"
   ]
  },
  {
   "cell_type": "markdown",
   "metadata": {
    "id": "M6Av5bfUYlYq"
   },
   "source": [
    "You can also convert a Torch Tensor to a Numpy Array using `numpy()` function."
   ]
  },
  {
   "cell_type": "code",
   "execution_count": null,
   "metadata": {
    "colab": {
     "base_uri": "https://localhost:8080/"
    },
    "id": "IYbK-qDHYuhy",
    "outputId": "dfdcfa8b-7a60-47e2-8057-30990e993f2a"
   },
   "outputs": [
    {
     "name": "stdout",
     "output_type": "stream",
     "text": [
      "tensor([1., 1., 1., 1., 1.])\n",
      "torch.float32\n",
      "[1. 1. 1. 1. 1.]\n",
      "float32\n"
     ]
    }
   ],
   "source": [
    "x = torch.ones(5)\n",
    "print(x)\n",
    "print(x.dtype)\n",
    "\n",
    "y = x.numpy()\n",
    "print(y)\n",
    "print(y.dtype)"
   ]
  },
  {
   "cell_type": "markdown",
   "metadata": {
    "id": "kTTRw5aeZU_8"
   },
   "source": [
    "The torch.from_numpy() function can converts a Numpy Array to Torch Tensor. Notice how changing the np array has changed the Torch Tensor automatically. This occurs since the returned ndarray and tensor share the same underlying storage. See how changing an entry in the torch array, y, impacts the np array, x."
   ]
  },
  {
   "cell_type": "code",
   "execution_count": null,
   "metadata": {
    "colab": {
     "base_uri": "https://localhost:8080/"
    },
    "id": "KlAB2g9eZcKi",
    "outputId": "2cf652ec-64a8-46a8-9c23-9c0d30771604"
   },
   "outputs": [
    {
     "name": "stdout",
     "output_type": "stream",
     "text": [
      "[2. 2. 2.]\n",
      "tensor([2., 2., 2.], dtype=torch.float64)\n"
     ]
    }
   ],
   "source": [
    "x = np.ones(3)\n",
    "y = torch.from_numpy(x)\n",
    "\n",
    "np.add(x, 1, out=x)\n",
    "print(x)\n",
    "print(y)\n",
    "\n"
   ]
  },
  {
   "cell_type": "code",
   "execution_count": null,
   "metadata": {
    "colab": {
     "base_uri": "https://localhost:8080/"
    },
    "id": "TePd69vH4LAe",
    "outputId": "10c3e029-6908-47bb-f7a5-ccc81cd91b12"
   },
   "outputs": [
    {
     "name": "stdout",
     "output_type": "stream",
     "text": [
      "[2. 2. 2.]\n",
      "tensor([1., 1., 1.], dtype=torch.float64)\n"
     ]
    }
   ],
   "source": [
    "#Use .copy() to only copy the values, and avoid using the same underlying sturcture .\n",
    "x = np.ones(3)\n",
    "y = torch.from_numpy(x.copy())\n",
    "\n",
    "np.add(x, 1, out=x)\n",
    "print(x)\n",
    "print(y)"
   ]
  },
  {
   "cell_type": "markdown",
   "metadata": {
    "id": "gx2EYILCZ69-"
   },
   "source": [
    "Tensors can be moved onto any device using the `.to` method. You can check whether a GPU is available using the `torch.cuda.is_available()` method. The `.to()` method sends your tensor to whatever device you specify, including your CPU (referred to as `cpu`) or your GPUs (referred to as `cuda` or `cuda:0`)."
   ]
  },
  {
   "cell_type": "code",
   "execution_count": null,
   "metadata": {
    "colab": {
     "base_uri": "https://localhost:8080/"
    },
    "id": "H1SFLjDqaQFJ",
    "outputId": "24e1d318-b803-4c91-d0b5-50db85d96234"
   },
   "outputs": [
    {
     "name": "stdout",
     "output_type": "stream",
     "text": [
      "tensor([[1.0537, 1.2964, 1.7960, 1.4172],\n",
      "        [1.1361, 1.7038, 1.6541, 1.0892],\n",
      "        [1.7165, 1.3436, 1.5554, 1.2671]], device='cuda:0')\n",
      "cuda:0\n"
     ]
    }
   ],
   "source": [
    "device = 'cuda:0' if torch.cuda.is_available() else 'cpu'  # check whether a GPU is available\n",
    "y = torch.ones(3,4, device=device)  # directly create a tensor on GPU\n",
    "x = torch.rand(3,4).to(device)      # or just use .to(device) \n",
    "z = x+y\n",
    "print(z)\n",
    "print(z.device)"
   ]
  },
  {
   "cell_type": "markdown",
   "metadata": {
    "id": "iRU_ta07bcll"
   },
   "source": [
    "#Autograd\n",
    "\n",
    "\n",
    " *Autograd is now a core torch package for automatic differentiation. It uses a tape based system for automatic differentiation.*\n",
    "\n",
    "*In the forward phase, the autograd tape will remember all the operations which are executed, and in the backward phase, it will replay the operations.*\n",
    "\n",
    "\n",
    "\n",
    "\n",
    "---\n",
    "\n",
    "\n",
    "\n",
    "If you set a tensor's attribute `.require_grad` as `True`, it starts to track all operations on it. When you finish your computation you can call `.backward()` and have all the gradients computed automatically. The gradient for this tensor will be accumulated into `.grad` attribute.\n",
    "\n",
    "The following piece of code creates a tensor and sets `requires_grad=True` to track computation with it."
   ]
  },
  {
   "cell_type": "code",
   "execution_count": null,
   "metadata": {
    "colab": {
     "base_uri": "https://localhost:8080/"
    },
    "id": "XuorHYAKcATS",
    "outputId": "9e0e038a-ffbc-4bdd-b83c-5ae68e633d8b"
   },
   "outputs": [
    {
     "name": "stdout",
     "output_type": "stream",
     "text": [
      "tensor([[1., 1.],\n",
      "        [1., 1.]], requires_grad=True)\n"
     ]
    }
   ],
   "source": [
    "x = torch.ones(2, 2, requires_grad=True)\n",
    "print(x)"
   ]
  },
  {
   "cell_type": "markdown",
   "metadata": {
    "id": "ucWrE-uOcweu"
   },
   "source": [
    "Perform a tensor operation:"
   ]
  },
  {
   "cell_type": "code",
   "execution_count": null,
   "metadata": {
    "colab": {
     "base_uri": "https://localhost:8080/"
    },
    "id": "5lxAKRQqc0Eq",
    "outputId": "d96e6843-2f27-46f5-e65d-689fbad483b0"
   },
   "outputs": [
    {
     "name": "stdout",
     "output_type": "stream",
     "text": [
      "tensor([[3., 3.],\n",
      "        [3., 3.]], grad_fn=<AddBackward0>)\n"
     ]
    }
   ],
   "source": [
    "y = x + 2\n",
    "print(y)"
   ]
  },
  {
   "cell_type": "markdown",
   "metadata": {
    "id": "kMxdIiPDc-OR"
   },
   "source": [
    " *A `Function` is also an important class for autograd implementation in Pytorch. ``Tensor`` and ``Function`` are interconnected and build up an acyclic\n",
    "graph, that encodes a complete history of computation. Each tensor has\n",
    "a ``.grad_fn`` attribute that references a ``Function`` that has created\n",
    "the ``Tensor`` (except for Tensors created by the user - their\n",
    "`grad_fn is None`). In the example above, you see that `y` has a `grad_fn` since it was created as a result of an operation.*\n",
    "\n",
    "We can print the value of that attribute:"
   ]
  },
  {
   "cell_type": "code",
   "execution_count": null,
   "metadata": {
    "colab": {
     "base_uri": "https://localhost:8080/"
    },
    "id": "yhGbDBhadiLg",
    "outputId": "2062ef06-c341-4aa4-8178-26794b1a901b"
   },
   "outputs": [
    {
     "name": "stdout",
     "output_type": "stream",
     "text": [
      "<AddBackward0 object at 0x7f28380237d0>\n",
      "None\n"
     ]
    }
   ],
   "source": [
    "print(y.grad_fn)\n",
    "print(x.grad_fn)"
   ]
  },
  {
   "cell_type": "markdown",
   "metadata": {
    "id": "5QyluhmyeCpB"
   },
   "source": [
    "You can do more operations on `y`:"
   ]
  },
  {
   "cell_type": "code",
   "execution_count": null,
   "metadata": {
    "colab": {
     "base_uri": "https://localhost:8080/"
    },
    "id": "XiBKtweUeBuh",
    "outputId": "de326a71-2aec-487a-d807-17018653c0c0"
   },
   "outputs": [
    {
     "name": "stdout",
     "output_type": "stream",
     "text": [
      "tensor([[18., 18.],\n",
      "        [18., 18.]], grad_fn=<MulBackward0>)\n",
      "tensor(18., grad_fn=<MeanBackward0>)\n"
     ]
    }
   ],
   "source": [
    "z = y * y * 2\n",
    "out = z.mean()\n",
    "\n",
    "print(z)\n",
    "print(out)"
   ]
  },
  {
   "cell_type": "markdown",
   "metadata": {
    "id": "e-9vAUHUeaPr"
   },
   "source": [
    "You can change an existing Tensor's `requires_grad` flag in-place by using `.requires_grad_(...)`. The input flag defaults to `False` if not given. Note that an operation that mutates a tensor in-place is post-fixed with an `_`. For example, `x.copy_(y)` and `x.t_()` will change `x`."
   ]
  },
  {
   "cell_type": "code",
   "execution_count": null,
   "metadata": {
    "colab": {
     "base_uri": "https://localhost:8080/"
    },
    "id": "tUwR9Q5ge-hR",
    "outputId": "5f2886bd-1687-4d3f-ef21-1d55548fb645"
   },
   "outputs": [
    {
     "name": "stdout",
     "output_type": "stream",
     "text": [
      "False\n"
     ]
    }
   ],
   "source": [
    "x = torch.randn(2, 2)\n",
    "print(x.requires_grad)  # default to False"
   ]
  },
  {
   "cell_type": "code",
   "execution_count": null,
   "metadata": {
    "colab": {
     "base_uri": "https://localhost:8080/"
    },
    "id": "ZvLh7bvvfLQZ",
    "outputId": "07bc0b7d-e28d-4bc0-dad5-09b5e61c46ae"
   },
   "outputs": [
    {
     "name": "stdout",
     "output_type": "stream",
     "text": [
      "True\n"
     ]
    }
   ],
   "source": [
    "x.requires_grad_(True)   # change the flag to True\n",
    "print(x.requires_grad)"
   ]
  },
  {
   "cell_type": "code",
   "execution_count": null,
   "metadata": {
    "colab": {
     "base_uri": "https://localhost:8080/"
    },
    "id": "2Qf2ZMiDfYer",
    "outputId": "50cd1a6d-9078-410c-ef0c-a02027a2e35b"
   },
   "outputs": [
    {
     "name": "stdout",
     "output_type": "stream",
     "text": [
      "True\n",
      "<SumBackward0 object at 0x7f2838551dd0>\n"
     ]
    }
   ],
   "source": [
    "y = (x + 1).sum()\n",
    "print(y.requires_grad)\n",
    "print(y.grad_fn)"
   ]
  },
  {
   "cell_type": "markdown",
   "metadata": {
    "id": "zptrR5EcgJhK"
   },
   "source": [
    "Let's backprop now. Consider the following piece of code:"
   ]
  },
  {
   "cell_type": "code",
   "execution_count": null,
   "metadata": {
    "id": "CCPF0UHDgYlZ"
   },
   "outputs": [],
   "source": [
    "x = torch.ones(4, 1, requires_grad=True)\n",
    "y = x + 2\n",
    "z = y * y * 3\n",
    "out= z.mean()"
   ]
  },
  {
   "cell_type": "code",
   "execution_count": null,
   "metadata": {
    "colab": {
     "base_uri": "https://localhost:8080/"
    },
    "id": "S9JCe0Y8gp2C",
    "outputId": "86c3e910-bb9f-4081-ddff-edb57e82f0d5"
   },
   "outputs": [
    {
     "name": "stdout",
     "output_type": "stream",
     "text": [
      "1:  tensor([[1.],\n",
      "        [1.],\n",
      "        [1.],\n",
      "        [1.]], requires_grad=True)\n",
      "2:  tensor([[3.],\n",
      "        [3.],\n",
      "        [3.],\n",
      "        [3.]], grad_fn=<AddBackward0>)\n",
      "3:  <AddBackward0 object at 0x7f2838033950>\n",
      "4:  tensor([[27.],\n",
      "        [27.],\n",
      "        [27.],\n",
      "        [27.]], grad_fn=<MulBackward0>)\n",
      "5:  tensor(27., grad_fn=<MeanBackward0>)\n"
     ]
    }
   ],
   "source": [
    "print(\"1: \", x)\n",
    "print(\"2: \", y)\n",
    "print(\"3: \", y.grad_fn)\n",
    "print(\"4: \", z)\n",
    "print(\"5: \", out)"
   ]
  },
  {
   "cell_type": "markdown",
   "metadata": {
    "id": "QlVpst3Pg_9N"
   },
   "source": [
    "If you want to compute the derivatives, you can call ``.backward()`` on\n",
    "a ``Tensor``. If ``Tensor`` is a scalar (i.e. it holds a one element\n",
    "data), you don’t need to specify any arguments to ``backward()``,\n",
    "however if it has more elements, you need to specify a ``gradient``\n",
    "argument that is a tensor of matching shape."
   ]
  },
  {
   "cell_type": "code",
   "execution_count": null,
   "metadata": {
    "id": "5HA3C9nohCuv"
   },
   "outputs": [],
   "source": [
    "out.backward()"
   ]
  },
  {
   "cell_type": "markdown",
   "metadata": {
    "id": "Ibru7AK9hNtj"
   },
   "source": [
    "Since `out` contains a single scalar (i.e., mean), `out.backward()` is equivalent to `out.backward(torch.tensor(1.))`.  You can retrieve the gradient of d(out)/dx as follows:"
   ]
  },
  {
   "cell_type": "code",
   "execution_count": null,
   "metadata": {
    "colab": {
     "base_uri": "https://localhost:8080/"
    },
    "id": "C1vBcQ62hS-B",
    "outputId": "dbeeb310-e70e-4795-a928-82d93fb2c695"
   },
   "outputs": [
    {
     "name": "stdout",
     "output_type": "stream",
     "text": [
      "tensor([[4.5000],\n",
      "        [4.5000],\n",
      "        [4.5000],\n",
      "        [4.5000]])\n"
     ]
    }
   ],
   "source": [
    "print(x.grad)"
   ]
  },
  {
   "cell_type": "markdown",
   "metadata": {
    "id": "dvVToP20Oq9D"
   },
   "source": [
    "You should have got a vector containing 4 entries ``4.5``. Let’s call the ``out``\n",
    "*Tensor* “$o$”.\n",
    "We have that $o = \\frac{1}{4}\\sum_i z_i$,\n",
    "$z_i = 3(x_i+2)^2$ and $z_i\\bigr\\rvert_{x_i=1} = 27$.\n",
    "Therefore,\n",
    "$\\frac{\\partial o}{\\partial x_i} = \\frac{3}{2}(x_i+2)$, hence\n",
    "$\\frac{\\partial o}{\\partial x_i}\\bigr\\rvert_{x_i=1} = \\frac{9}{2} = 4.5$.\n",
    "In the above function every entry of $x$ has the same function applied hence every entry in the gradient vector is the same (4.5), this will not always be the case. \n",
    "\n"
   ]
  },
  {
   "cell_type": "markdown",
   "metadata": {
    "id": "MGDNbmVhihEh"
   },
   "source": [
    "Mathematically, if you have a vector valued function $\\vec{y}=f(\\vec{x})$,\n",
    "then the gradient of $\\vec{y}$ with respect to $\\vec{x}$\n",
    "is a Jacobian matrix:\n",
    "\n",
    "\\begin{align}J=\\left(\\begin{array}{ccc}\n",
    "   \\frac{\\partial y_{1}}{\\partial x_{1}} & \\cdots & \\frac{\\partial y_{1}}{\\partial x_{n}}\\\\\n",
    "   \\vdots & \\ddots & \\vdots\\\\\n",
    "   \\frac{\\partial y_{m}}{\\partial x_{1}} & \\cdots & \\frac{\\partial y_{m}}{\\partial x_{n}}\n",
    "   \\end{array}\\right)\\end{align}\n",
    "\n",
    "Generally speaking, ``torch.autograd`` is an engine for computing\n",
    "vector-Jacobian product. That is, given any vector\n",
    "$v=\\left(\\begin{array}{cccc} v_{1} & v_{2} & \\cdots & v_{m}\\end{array}\\right)^{T}$,\n",
    "compute the product $v^{T}\\cdot J$. If $v$ happens to be\n",
    "the gradient of a scalar function $l=g\\left(\\vec{y}\\right)$,\n",
    "that is,\n",
    "$v=\\left(\\begin{array}{ccc}\\frac{\\partial l}{\\partial y_{1}} & \\cdots & \\frac{\\partial l}{\\partial y_{m}}\\end{array}\\right)^{T}$,\n",
    "then by the chain rule, the vector-Jacobian product would be the\n",
    "gradient of $l$ with respect to $\\vec{x}$:\n",
    "\n",
    "\\begin{align}J^{T}\\cdot v=\\left(\\begin{array}{ccc}\n",
    "   \\frac{\\partial y_{1}}{\\partial x_{1}} & \\cdots & \\frac{\\partial y_{m}}{\\partial x_{1}}\\\\\n",
    "   \\vdots & \\ddots & \\vdots\\\\\n",
    "   \\frac{\\partial y_{1}}{\\partial x_{n}} & \\cdots & \\frac{\\partial y_{m}}{\\partial x_{n}}\n",
    "   \\end{array}\\right)\\left(\\begin{array}{c}\n",
    "   \\frac{\\partial l}{\\partial y_{1}}\\\\\n",
    "   \\vdots\\\\\n",
    "   \\frac{\\partial l}{\\partial y_{m}}\n",
    "   \\end{array}\\right)=\\left(\\begin{array}{c}\n",
    "   \\frac{\\partial l}{\\partial x_{1}}\\\\\n",
    "   \\vdots\\\\\n",
    "   \\frac{\\partial l}{\\partial x_{n}}\n",
    "   \\end{array}\\right)\\end{align}\n",
    "\n",
    "(Note that $v^{T}\\cdot J$ gives a row vector which can be\n",
    "treated as a column vector by taking the transpose i.e. $J^{T}\\cdot v$.)\n",
    "\n",
    "This characteristic of vector-Jacobian product makes it very\n",
    "convenient to feed external gradients into a model that has\n",
    "non-scalar output. In the case above we consider a classic vector function where the function is displayed as a column vector. This method can still be applied to matrices, however the matrix must be converted into a vector (by concatenating the matrix's columns on top of eachother). The final gradient can then be rearranged into a matrix using the opposite of this proccess. You may want to try applying autograd to the function above only with a matrix input."
   ]
  },
  {
   "cell_type": "markdown",
   "metadata": {
    "id": "qhiFcpowpNhC"
   },
   "source": [
    "To solve an optimization problem in Pytorch, we have the following main building blocks (their orders may change):\n",
    "\n",
    "* define a model \n",
    "* choose a optimiser\n",
    "* define a loss function \n",
    "* load data \n",
    "* train model parameters iteratively to minimise the loss\n",
    "\n",
    "## How to define a model in Pytorch?\n",
    "\n",
    "### An example \n",
    "\n",
    "To illustrate this step, let's create some synthetic data. We choose a vector of some points for our feature `x` and create our labels (targets) using the following model $y=a + b \\cdot x + \\epsilon\\cdot  \\mathcal{N}$, where `a`, `b` and $\\epsilon$ are some constants and $\\mathcal{N}$ is noise following a standard normal distribution (mean=0, variance=1).\n",
    "\n",
    "#### **Question 1**:\n",
    "Let's consider `a=1`, `b=2` and $\\epsilon=0.1$. Could you please generate a vector of 100 points for our feature `x` and another vector of the same size for our target `y`?"
   ]
  },
  {
   "cell_type": "code",
   "execution_count": null,
   "metadata": {
    "id": "J7nAf4wLsGIy"
   },
   "outputs": [],
   "source": [
    "import numpy as np\n",
    "import torch\n",
    "# Add you codes here (use x and y as variable names for input and tagets)\n",
    "np.random.seed(42)\n",
    "x = np.random.rand(100, 1)\n",
    "y = 1 + 2 * x + 0.1 * np.random.randn(100, 1)"
   ]
  },
  {
   "cell_type": "markdown",
   "metadata": {
    "id": "Oycbp5Aksb4Z"
   },
   "source": [
    "Now we split the dataset into a training set (used for training, about 80% of the original dataset) and a validation set (used for testing, about 20%). We need to shuffle the array of indices:"
   ]
  },
  {
   "cell_type": "code",
   "execution_count": null,
   "metadata": {
    "colab": {
     "base_uri": "https://localhost:8080/"
    },
    "id": "G4LnTtfsMU2F",
    "outputId": "9e3d0537-864d-4a9a-d07f-598814499616"
   },
   "outputs": [
    {
     "name": "stdout",
     "output_type": "stream",
     "text": [
      "Before shuffle: \n",
      " [ 0  1  2  3  4  5  6  7  8  9 10 11 12 13 14 15 16 17 18 19 20 21 22 23\n",
      " 24 25 26 27 28 29 30 31 32 33 34 35 36 37 38 39 40 41 42 43 44 45 46 47\n",
      " 48 49 50 51 52 53 54 55 56 57 58 59 60 61 62 63 64 65 66 67 68 69 70 71\n",
      " 72 73 74 75 76 77 78 79 80 81 82 83 84 85 86 87 88 89 90 91 92 93 94 95\n",
      " 96 97 98 99]\n",
      "After shuffle: \n",
      " [76 83 80 98  2 77 71 84 89 50 40 51 67 86 37 49  4 10 69 81  9 54 55 87\n",
      " 64 44 90 75 33 30 93 95 14 61 11 13 15  7  0 19 35  6 12 65 70 88 56 58\n",
      " 28 38 91 42  8 73 39 85 25 92 41 26  1 22 21 46 74 79 78 72 57 53 24 17\n",
      " 66 32 31 62 59 52 82 23 36  5 45 99 43 16 48 94 34  3 18 47 60 68 63 27\n",
      " 96 29 20 97]\n"
     ]
    }
   ],
   "source": [
    "indx = np.arange(100)  # indices for all data points in x\n",
    "print(\"Before shuffle: \\n\", indx)\n",
    "\n",
    "np.random.shuffle(indx)\n",
    "print(\"After shuffle: \\n\", indx)"
   ]
  },
  {
   "cell_type": "markdown",
   "metadata": {
    "id": "7xEEWsPn05kb"
   },
   "source": [
    "Now split the indices into two sets:"
   ]
  },
  {
   "cell_type": "code",
   "execution_count": null,
   "metadata": {
    "id": "HBCl0__7tNAy"
   },
   "outputs": [],
   "source": [
    "train_indx = indx[:80]  # first 80% for training\n",
    "val_indx = indx[80:]    # remaining 20% for validation"
   ]
  },
  {
   "cell_type": "markdown",
   "metadata": {
    "id": "g-Sb75Sx1Jpm"
   },
   "source": [
    "Split the dataset into training and validation sets:"
   ]
  },
  {
   "cell_type": "code",
   "execution_count": null,
   "metadata": {
    "colab": {
     "base_uri": "https://localhost:8080/"
    },
    "id": "prr746jgtZO7",
    "outputId": "630cb4df-3d7f-4b3e-d4a6-efdbf708ed08"
   },
   "outputs": [
    {
     "name": "stdout",
     "output_type": "stream",
     "text": [
      "80 80\n",
      "20 20\n"
     ]
    }
   ],
   "source": [
    "# Generate inputs and targets for training step\n",
    "x_train, y_train = x[train_indx], y[train_indx]\n",
    "print(x_train.size, y_train.size)\n",
    "\n",
    "# Generate inputs and targets for validation step\n",
    "x_val, y_val = x[val_indx], y[val_indx]\n",
    "print(x_val.size, y_val.size)"
   ]
  },
  {
   "cell_type": "markdown",
   "metadata": {
    "id": "etPmmYt3-F56"
   },
   "source": [
    "We need to convert these Numpy's ndarray into Torch tensors of type `float`:"
   ]
  },
  {
   "cell_type": "code",
   "execution_count": null,
   "metadata": {
    "id": "k8HrWL-d-CIj"
   },
   "outputs": [],
   "source": [
    "x_train_tensor = torch.from_numpy(x_train).float()\n",
    "y_train_tensor = torch.from_numpy(y_train).float()\n",
    "\n",
    "x_val_tensor = torch.from_numpy(x_val).float()\n",
    "y_val_tensor = torch.from_numpy(y_val).float()"
   ]
  },
  {
   "cell_type": "markdown",
   "metadata": {
    "id": "_YyKFUrH1UMT"
   },
   "source": [
    "We can also plot the points using the `scatter` method."
   ]
  },
  {
   "cell_type": "code",
   "execution_count": null,
   "metadata": {
    "colab": {
     "base_uri": "https://localhost:8080/",
     "height": 283
    },
    "id": "VJUfOAcKt9EL",
    "outputId": "c151726a-fb54-4b0b-e9d4-64825c85ce86"
   },
   "outputs": [
    {
     "data": {
      "text/plain": [
       "<matplotlib.collections.PathCollection at 0x7f28360c4a90>"
      ]
     },
     "execution_count": 28,
     "metadata": {},
     "output_type": "execute_result"
    },
    {
     "data": {
      "image/png": "[encoded data removed]",
      "text/plain": [
       "<Figure size 432x288 with 2 Axes>"
      ]
     },
     "metadata": {
      "needs_background": "light"
     },
     "output_type": "display_data"
    }
   ],
   "source": [
    "import matplotlib.pyplot as plt\n",
    "fig, axs = plt.subplots(nrows = 1, ncols = 2)\n",
    "axs[0].scatter(x_train, y_train)  # plot the training dataset\n",
    "axs[1].scatter(x_val, y_val)      # plot the validation dataset"
   ]
  },
  {
   "cell_type": "markdown",
   "metadata": {
    "id": "_i3x6addpIP7"
   },
   "source": [
    "### A simple linear regression model\n",
    "Let's define a simple linear regression model to learn the values for two parameters `a` and `b` in the model above.\n",
    "\n",
    "As you might see last week, a model can be constructed in Pytorch using the `torch.nn` class. To explicitly define the model, you need to implement (at least) the following methods:\n",
    "\n",
    "- `__init__(self)`, which defines the components that make up the model. Here, you are not limited to defining parameters and other models (or layers in neural networks) as our model's attributes (see more about this later).\n",
    "- `forward(self, x)`, which performs the actual computation, that is, it ouputs a prediction, given the input `x`. You need not call the `forward(x)` method, and should call the whole model itself to perform a forward pass and output predictions.\n",
    "\n",
    "Out first model will look like this:"
   ]
  },
  {
   "cell_type": "code",
   "execution_count": null,
   "metadata": {
    "id": "9EpKttBNzFhK"
   },
   "outputs": [],
   "source": [
    "import torch.nn as nn\n",
    "\n",
    "class FirstModel(nn.Module):\n",
    "\n",
    "    def __init__(self):\n",
    "        super().__init__()\n",
    "        self.a = nn.Parameter(torch.randn(1).float())\n",
    "        self.b = nn.Parameter(torch.randn(1).float())\n",
    "        \n",
    "    def forward(self, x):\n",
    "        return self.a + self.b * x"
   ]
  },
  {
   "cell_type": "markdown",
   "metadata": {
    "id": "xGQPchZ6z_kT"
   },
   "source": [
    "In the `__init__` method, we define two parameters, `a` and `b`, using the `Parameter()` class. By doing this, you can invoke the `parameters()` method of our model to retrieve an iterator over all model's parameters, that we can feed our optimiser. Moreover, we can get the current values for all parameters using the model's `state_dict()` method.\n",
    "\n",
    "In the following, we will use stochastic gradient descent, i.e., the `SGD` method from `torch.optim` package, which takes two arguments: the iterator over the model's parameters (`model.parameters()`) and the learning rate `lr`."
   ]
  },
  {
   "cell_type": "code",
   "execution_count": null,
   "metadata": {
    "colab": {
     "base_uri": "https://localhost:8080/"
    },
    "id": "QSFNtSSU7aeW",
    "outputId": "8e4abf23-78c7-451a-f63e-4723d891ddc9"
   },
   "outputs": [
    {
     "name": "stdout",
     "output_type": "stream",
     "text": [
      "The device used is: cuda:0\n",
      "\n",
      "Parameters before training: \n",
      " OrderedDict([('a', tensor([0.3367], device='cuda:0')), ('b', tensor([0.1288], device='cuda:0'))])\n"
     ]
    }
   ],
   "source": [
    "import torch.optim as optim\n",
    "torch.manual_seed(42)\n",
    "\n",
    "device = 'cuda:0' if torch.cuda.is_available() else 'cpu'\n",
    "print(f\"The device used is: {device}\\n\")\n",
    "\n",
    "# Now we can create a model\n",
    "model = FirstModel().to(device)\n",
    "\n",
    "# we can also inspect its parameters\n",
    "print(\"Parameters before training: \\n\", model.state_dict())\n",
    "\n"
   ]
  },
  {
   "cell_type": "code",
   "execution_count": null,
   "metadata": {
    "colab": {
     "base_uri": "https://localhost:8080/"
    },
    "id": "zQr1RUXhRizi",
    "outputId": "076472ca-3737-4690-c238-59eccb135ead"
   },
   "outputs": [
    {
     "name": "stdout",
     "output_type": "stream",
     "text": [
      "Parameters after training: \n",
      " OrderedDict([('a', tensor([1.1552], device='cuda:0')), ('b', tensor([1.7113], device='cuda:0'))])\n"
     ]
    }
   ],
   "source": [
    "# set learning rate\n",
    "lr = 1e-1\n",
    "\n",
    "# set number of epoches, i.e., number of times we iterate through the training set\n",
    "epoches = 100\n",
    "\n",
    "# We use mean square error (MSELoss)\n",
    "loss_fn = nn.MSELoss(reduction='mean')\n",
    "\n",
    "# We also use stochastic gradient descent (SGD) to update a and b\n",
    "optimiser = optim.SGD(model.parameters(), lr=lr)\n",
    "\n",
    "for epoch in range(epoches):\n",
    "    model.train()             # set the model to training mode \n",
    "    optimiser.zero_grad()     # avoid accumulating gradients\n",
    "    y_pred = model(x_train_tensor.to(device))\n",
    "    loss = loss_fn(y_train_tensor.to(device), y_pred)\n",
    "    loss.backward()           # calculate gradients\n",
    "    optimiser.step()          # updates model's params\n",
    "\n",
    "print(\"Parameters after training: \\n\", model.state_dict())"
   ]
  },
  {
   "cell_type": "markdown",
   "metadata": {
    "id": "yL2y-zlk_P8v"
   },
   "source": [
    "**When setting the number of epoches sufficiently large, you should be able to obtain some values for parameters `a` and `b` which are really close to their ground-truth values of 1 and 2. You can play with the model above by changing the number of epoches (`epoches`) and the learning rate (`lr`).**"
   ]
  },
  {
   "cell_type": "markdown",
   "metadata": {
    "id": "EdPqZj1qATwP"
   },
   "source": [
    "### Nested model\n",
    "\n",
    "In our model above, we manually created two parameters to perform a linear regression. We can also use Pytorch's `Linear` model as an attribute of our model, which results in a nested model. In the general case, Pytorch's linear model applies a linear transformation, of the form $y = xA^{T} + b$, to the input $x$. The values passed into the model indicate the size of $y$ and $x$ and therefore also dictate the size of $A$ and $b$. In our case both $x$ and $y$ are scalars therefore $A$ and $b$ are also scalars. \n",
    "\n",
    "To do this, we need to change the `__init__` method, where we create an attribute that contains our nested `Linear` model. Also in the `forward()`, we will simply call the nested model itself (`self.linear()`) to perform the forward pass.\n",
    "\n",
    "Our new model will look like:\n"
   ]
  },
  {
   "cell_type": "code",
   "execution_count": null,
   "metadata": {
    "id": "59rl5A8ABFZi"
   },
   "outputs": [],
   "source": [
    "class NewModel(nn.Module):\n",
    "\n",
    "    def __init__(self):\n",
    "        super().__init__()\n",
    "        # a simple linear layer with a scalar input and a scalar output\n",
    "        self.linear = nn.Linear(1, 1)\n",
    "\n",
    "    def forward(self, x):\n",
    "        return self.linear(x)"
   ]
  },
  {
   "cell_type": "code",
   "execution_count": null,
   "metadata": {
    "colab": {
     "base_uri": "https://localhost:8080/"
    },
    "id": "_IFAvr-nCCr9",
    "outputId": "f9b57098-764d-45a2-e9bd-41665108185b"
   },
   "outputs": [
    {
     "name": "stdout",
     "output_type": "stream",
     "text": [
      "[Parameter containing:\n",
      "tensor([[-0.2191]], device='cuda:0', requires_grad=True), Parameter containing:\n",
      "tensor([0.2018], device='cuda:0', requires_grad=True)]\n"
     ]
    }
   ],
   "source": [
    "new_model = NewModel().to(device) #Create an instance of the model\n",
    "print(list(new_model.parameters()))"
   ]
  },
  {
   "cell_type": "markdown",
   "metadata": {
    "id": "H650FfseCjhj"
   },
   "source": [
    "You should see that the model has two parameters. The first one is the **weight** `b`, while the other one is the **bias** `a` in our linear model defined at the beginning (recall that $y=a + bx + \\epsilon \\cdot \\mathcal{N}$). You can see this clearly when using the `state_dict()` method."
   ]
  },
  {
   "cell_type": "code",
   "execution_count": null,
   "metadata": {
    "colab": {
     "base_uri": "https://localhost:8080/"
    },
    "id": "oDEgsLE3DB0z",
    "outputId": "7c9cf881-8d67-4560-ebb0-b37c63754317"
   },
   "outputs": [
    {
     "name": "stdout",
     "output_type": "stream",
     "text": [
      "OrderedDict([('linear.weight', tensor([[-0.2191]], device='cuda:0')), ('linear.bias', tensor([0.2018], device='cuda:0'))])\n"
     ]
    }
   ],
   "source": [
    "print(new_model.state_dict())"
   ]
  },
  {
   "cell_type": "code",
   "execution_count": null,
   "metadata": {
    "colab": {
     "base_uri": "https://localhost:8080/"
    },
    "id": "2EvI7mDpIRbU",
    "outputId": "3945cc7c-de8d-4a4e-b243-2cb0340b2861"
   },
   "outputs": [
    {
     "name": "stdout",
     "output_type": "stream",
     "text": [
      "NewModel(\n",
      "  (linear): Linear(in_features=1, out_features=1, bias=True)\n",
      ")\n"
     ]
    }
   ],
   "source": [
    "# print the model\n",
    "print(new_model)  "
   ]
  },
  {
   "cell_type": "markdown",
   "metadata": {
    "id": "hQJK86xVLfSV"
   },
   "source": [
    "Because we use SGD as our optimiser, so we need mini-batches (i.e., small subsets of our dataset) to feed the model. In Pytorch, we can use the `DataLoader` class to do this. We simply need to tell it which dataset (of `TensorDataset`) to use, the size of the mini-batch (or simply batch size). The loader is an iterator-like, which can loop over the dataset and fetch a adifferent mini-batch every time. By setting `shuffle=True` we ensure that the data is reshuffled at every epoch."
   ]
  },
  {
   "cell_type": "code",
   "execution_count": null,
   "metadata": {
    "id": "pldG3XcJLjPF"
   },
   "outputs": [],
   "source": [
    "from torch.utils.data import TensorDataset, DataLoader\n",
    "\n",
    "train_data = TensorDataset(x_train_tensor, y_train_tensor)\n",
    "train_loader = DataLoader(dataset=train_data, batch_size=16, shuffle=True)"
   ]
  },
  {
   "cell_type": "markdown",
   "metadata": {
    "id": "tKehfvlILlZQ"
   },
   "source": [
    "Let's see how we train the model now."
   ]
  },
  {
   "cell_type": "code",
   "execution_count": null,
   "metadata": {
    "colab": {
     "base_uri": "https://localhost:8080/"
    },
    "id": "tdXY9JdkGVXl",
    "outputId": "106c4345-aa55-4ea4-8d35-32d03355e88c"
   },
   "outputs": [
    {
     "name": "stdout",
     "output_type": "stream",
     "text": [
      "Parameters before training: \n",
      " OrderedDict([('linear.weight', tensor([[-0.4869]], device='cuda:0')), ('linear.bias', tensor([0.5873], device='cuda:0'))])\n"
     ]
    }
   ],
   "source": [
    "# Now we can create a model\n",
    "new_model = NewModel().to(device)\n",
    "\n",
    "# we can also inspect its parameters\n",
    "print(\"Parameters before training: \\n\", new_model.state_dict())\n",
    "\n",
    "# set learning rate\n",
    "lr = 1e-1\n",
    "\n",
    "# set number of epoches, i.e., number of times we iterate through the training set\n",
    "epoches = 100\n",
    "\n",
    "# We use mean square error (MSELoss)\n",
    "loss_fn = nn.MSELoss(reduction='mean')\n",
    "\n",
    "# We also use stochastic gradient descent (SGD) to update a and b\n",
    "optimiser = optim.SGD(new_model.parameters(), lr=lr)"
   ]
  },
  {
   "cell_type": "code",
   "execution_count": null,
   "metadata": {
    "colab": {
     "base_uri": "https://localhost:8080/"
    },
    "id": "yWp83XLfSTD1",
    "outputId": "9bc2b8b6-bbf6-4961-8b9d-eb28062368a0"
   },
   "outputs": [
    {
     "name": "stdout",
     "output_type": "stream",
     "text": [
      "Parameters after training: \n",
      " OrderedDict([('linear.weight', tensor([[1.9649]], device='cuda:0')), ('linear.bias', tensor([1.0185], device='cuda:0'))])\n"
     ]
    }
   ],
   "source": [
    "for epoch in range(epoches):\n",
    "    new_model.train() \n",
    "    for x_batch, y_batch in train_loader:\n",
    "        # send tensors to device (cpu/cuda)\n",
    "        x_batch = x_batch.to(device)\n",
    "        y_batch = y_batch.to(device)\n",
    "\n",
    "        optimiser.zero_grad()\n",
    "        y_pred = new_model(x_batch)\n",
    "        loss = loss_fn(y_batch, y_pred)\n",
    "        loss.backward()\n",
    "        optimiser.step()\n",
    "\n",
    "print(\"Parameters after training: \\n\", new_model.state_dict())"
   ]
  },
  {
   "cell_type": "markdown",
   "metadata": {
    "id": "v2filI6iDWwk"
   },
   "source": [
    "So far, we have defined an optimiser, a loss function and a (nested) model. We realise that if we use the code above, we have to modify it whenever we'd like to use a different optimiser or a different loss function. We might want to make our code more generic. How about writing a function that takes three arguments (optimiser, loss function and a model) and performs the training procedure. You will see below how to write a function in Python which returns another function."
   ]
  },
  {
   "cell_type": "code",
   "execution_count": null,
   "metadata": {
    "id": "fYkzbnblEBuc"
   },
   "outputs": [],
   "source": [
    "def generic_code(model, loss_fn, optimiser):\n",
    "\n",
    "    # define a function inside another function\n",
    "    def train_step(x_batch, y_batch):\n",
    "        optimiser.zero_grad()\n",
    "        y_pred = model(x_batch)   # forward pass\n",
    "        loss = loss_fn(y_batch, y_pred)  # calculate loss value\n",
    "        loss.backward()                # autograd\n",
    "        optimiser.step()               # update parameters  \n",
    "        return loss.item()             # return the loss\n",
    "\n",
    "    # return the newly defined function\n",
    "    return train_step                # return a function"
   ]
  },
  {
   "cell_type": "markdown",
   "metadata": {
    "id": "W1tW68QyFNNm"
   },
   "source": [
    "The function `train_step()` changes based on what is input into the `generic_code()` function. In order to use this code we first have to call the `generic code()` function to create the function based on `model`, `loss_fn` and `optimiser`. We can then apply this function to some data to train the model. **You** can now perform the training process as usual:"
   ]
  },
  {
   "cell_type": "code",
   "execution_count": null,
   "metadata": {
    "colab": {
     "base_uri": "https://localhost:8080/"
    },
    "id": "-yQQxqmjFSlY",
    "outputId": "4be1af5a-91a9-4e87-b5d1-4fd1e5b4b1fd"
   },
   "outputs": [
    {
     "name": "stdout",
     "output_type": "stream",
     "text": [
      "Parameters before training\n",
      " OrderedDict([('linear.weight', tensor([[-0.5083]])), ('linear.bias', tensor([0.3116]))]) \n",
      "\n",
      "Parameters after training \n",
      " OrderedDict([('linear.weight', tensor([[1.9687]])), ('linear.bias', tensor([1.0239]))])\n"
     ]
    }
   ],
   "source": [
    "new_model = NewModel()\n",
    "print(\"Parameters before training\\n\",new_model.state_dict(),\"\\n\")\n",
    "\n",
    "# set learning rate\n",
    "lr = 1e-1\n",
    "\n",
    "# set number of epoches, i.e., number of times we iterate through the training set\n",
    "epoches = 100\n",
    "\n",
    "# We use mean square error (MSELoss)\n",
    "loss_fn = nn.MSELoss(reduction='mean')\n",
    "\n",
    "# We also use stochastic gradient descent (SGD) to update a and b\n",
    "optimiser = optim.SGD(new_model.parameters(), lr=lr)\n",
    "\n",
    "# after this step, train_step is actually a FUNCTION, which takes x_train_tensor \n",
    "# y_train_tensor as inputs and return the loss value\n",
    "train_step = generic_code(new_model, loss_fn, optimiser)\n",
    "\n",
    "# list to record the loss over training course\n",
    "losses = list()\n",
    "\n",
    "for epoch in range(epoches):\n",
    "    for x_batch, y_batch in train_loader:\n",
    "        losses.append(train_step(x_batch, y_batch))\n",
    "\n",
    "print(\"Parameters after training \\n\",new_model.state_dict())"
   ]
  },
  {
   "cell_type": "markdown",
   "metadata": {
    "id": "3vlTQRxXTczN"
   },
   "source": [
    "You can now plot the loss value over time as follows:"
   ]
  },
  {
   "cell_type": "code",
   "execution_count": null,
   "metadata": {
    "colab": {
     "base_uri": "https://localhost:8080/",
     "height": 279
    },
    "id": "P4DwOiVoH1u1",
    "outputId": "1a0da92f-c86e-4648-aa8f-6e2d7add948b"
   },
   "outputs": [
    {
     "data": {
      "image/png": "[encoded data removed]",
      "text/plain": [
       "<Figure size 432x288 with 1 Axes>"
      ]
     },
     "metadata": {
      "needs_background": "light"
     },
     "output_type": "display_data"
    }
   ],
   "source": [
    "plt.plot(range(len(losses)), losses, label=\"Training loss\")\n",
    "plt.xlabel(\"Training iterations\")\n",
    "plt.ylabel(\"Loss\")\n",
    "plt.legend()\n",
    "plt.show()"
   ]
  },
  {
   "cell_type": "markdown",
   "metadata": {
    "id": "w8VPPsolIfak"
   },
   "source": [
    "## Evaluation\n",
    "\n",
    "We have not used the validation set that we created at the beginning of the tutorial. We have split the dataset of 100 points into a training set (80%) and a validation set (20%). We now change our model to include the evaluation phase, that is, computing the validation loss. Intuitively speaking, since we do not use the validation set when training the model, so the validation set is actually *unseen* to our model, and turns out to be a good choice to inspect how well our model performs on unseen data (i.e., making predictions). \n",
    "\n",
    "\n",
    "\n"
   ]
  },
  {
   "cell_type": "markdown",
   "metadata": {
    "id": "V284foTANIn9"
   },
   "source": [
    "We first need to create a DataLoader for the validation set."
   ]
  },
  {
   "cell_type": "code",
   "execution_count": null,
   "metadata": {
    "id": "DnSltGM3KeV8"
   },
   "outputs": [],
   "source": [
    "val_dataset = TensorDataset(x_val_tensor, y_val_tensor)\n",
    "val_loader = DataLoader(dataset=val_dataset, batch_size=20)"
   ]
  },
  {
   "cell_type": "markdown",
   "metadata": {
    "id": "Cgj7wSc5Nx10"
   },
   "source": [
    "Our training loop should look like this:"
   ]
  },
  {
   "cell_type": "code",
   "execution_count": null,
   "metadata": {
    "colab": {
     "base_uri": "https://localhost:8080/",
     "height": 314
    },
    "id": "8QHRfaE_N-AT",
    "outputId": "a6361c1d-e667-4d73-ebca-978e336170f9"
   },
   "outputs": [
    {
     "name": "stdout",
     "output_type": "stream",
     "text": [
      "OrderedDict([('linear.weight', tensor([[-0.4921]], device='cuda:0')), ('linear.bias', tensor([0.1923], device='cuda:0'))])\n",
      "OrderedDict([('linear.weight', tensor([[1.6197]], device='cuda:0')), ('linear.bias', tensor([1.1970], device='cuda:0'))])\n"
     ]
    },
    {
     "data": {
      "image/png": "[encoded data removed]",
      "text/plain": [
       "<Figure size 432x288 with 1 Axes>"
      ]
     },
     "metadata": {
      "needs_background": "light"
     },
     "output_type": "display_data"
    }
   ],
   "source": [
    "new_model = NewModel().to(device)\n",
    "print(new_model.state_dict())\n",
    "\n",
    "lr = 1e-1\n",
    "epoches = 20\n",
    "loss_fn = nn.MSELoss()\n",
    "optimiser = optim.SGD(new_model.parameters(), lr=lr)\n",
    "\n",
    "losses = list()\n",
    "val_losses = list()\n",
    "train_step = generic_code(new_model, loss_fn, optimiser)\n",
    "\n",
    "for epoch in range(epoches):\n",
    "    new_model.train()\n",
    "    for x_batch, y_batch in train_loader:\n",
    "        x_batch = x_batch.to(device)\n",
    "        y_batch = y_batch.to(device)\n",
    "        losses.append(train_step(x_batch, y_batch))\n",
    "        \n",
    "        with torch.no_grad():       # fix the model's params (reduces cost)\n",
    "            for x_val, y_val in val_loader:\n",
    "                x_val = x_val.to(device)\n",
    "                y_val = y_val.to(device)\n",
    "                new_model.eval()    # set model to evaluation mode\n",
    "                y_pred = new_model(x_val)\n",
    "                val_loss = loss_fn(y_val, y_pred)\n",
    "                val_losses.append(val_loss.item())\n",
    "\n",
    "print(new_model.state_dict())\n",
    "plt.plot(range(len(losses)), losses,'r', label=\"Training loss\")\n",
    "plt.plot(range(len(val_losses)), val_losses,'g', label=\"Validation loss\")\n",
    "plt.xlabel(\"Training iterations\")\n",
    "plt.ylabel(\"Loss\")\n",
    "plt.legend()\n",
    "plt.show()"
   ]
  },
  {
   "cell_type": "markdown",
   "metadata": {
    "id": "4YSpK-2L4tKh"
   },
   "source": [
    "Given the learning rate in `np.linspace(0.01, 0.5, 50)`. Could you plot a graph showing how the validation loss changes according to different values of the learning rate? Please use a number of epoches of at most, e.g., 200 for reasonable runtime."
   ]
  },
  {
   "cell_type": "code",
   "execution_count": null,
   "metadata": {
    "colab": {
     "base_uri": "https://localhost:8080/",
     "height": 279
    },
    "id": "ttcR6O5JhpjS",
    "outputId": "1cdaeca8-7f5d-4a9a-e0d5-8667914fce03"
   },
   "outputs": [
    {
     "data": {
      "image/png": "[encoded data removed]",
      "text/plain": [
       "<Figure size 432x288 with 1 Axes>"
      ]
     },
     "metadata": {
      "needs_background": "light"
     },
     "output_type": "display_data"
    }
   ],
   "source": [
    "new_model = NewModel().to(device)\n",
    "lrs = np.linspace(0.01, 0.5, 50)\n",
    "\n",
    "epoches = 200\n",
    "loss_fn = nn.MSELoss()\n",
    "\n",
    "losses = list()\n",
    "\n",
    "for lr in lrs:\n",
    "    val_losses = list()\n",
    "    optimiser = optim.SGD(new_model.parameters(), lr=lr)\n",
    "    train_step = generic_code(new_model, loss_fn, optimiser)\n",
    "    for epoch in range(epoches):\n",
    "      new_model.train()\n",
    "      for x_batch, y_batch in train_loader:\n",
    "          x_batch = x_batch.to(device)\n",
    "          y_batch = y_batch.to(device)\n",
    "          train_step(x_batch, y_batch)\n",
    "    with torch.no_grad():\n",
    "      for x_val, y_val in val_loader:\n",
    "        x_val = x_val.to(device)\n",
    "        y_val = y_val.to(device)\n",
    "        new_model.eval()\n",
    "        y_pred = new_model(x_val)\n",
    "        val_loss = loss_fn(y_val, y_pred)\n",
    "        val_losses.append(val_loss.item())\n",
    "        losses.append(np.mean(val_losses))\n",
    "plt.plot(lrs, losses,'b', label=\"Validation loss\")\n",
    "plt.xlabel(\"Learning Rates\")\n",
    "plt.ylabel(\"Validation Loss\")\n",
    "plt.legend()\n",
    "plt.show()"
   ]
  },
  {
   "cell_type": "markdown",
   "metadata": {
    "id": "EN9Aj6u-qn_6"
   },
   "source": [
    "## Neural Networks for data classfication\n",
    "\n",
    "In previous sections, you should have learnt how to use Python and Pytorch to do gradient descent and optimisation. In this section, we will introduce how to build and use a network for data classfication. By the end of this tutorial, you will know:\n",
    "\n",
    "- How to create a spiral dataset for classification \n",
    "- How to train a softmax classifier\n",
    "- What is a multilayer perceptron network\n",
    "- What is regularisation\n",
    "- How to train a neural network with pytorch"
   ]
  },
  {
   "cell_type": "markdown",
   "metadata": {
    "id": "0Y4JRbzGq6KF"
   },
   "source": [
    "### Generating Data\n",
    "We will genearte some data to for the following test.\n",
    "Note that the content below are mostly borrowed from [cs231n](https://cs231n.github.io/neural-networks-case-study/)"
   ]
  },
  {
   "cell_type": "code",
   "execution_count": null,
   "metadata": {
    "id": "q5ikLDOKq6KG"
   },
   "outputs": [],
   "source": [
    "import numpy as np\n",
    "import math\n",
    "import matplotlib.pyplot as plt"
   ]
  },
  {
   "cell_type": "code",
   "execution_count": null,
   "metadata": {
    "colab": {
     "base_uri": "https://localhost:8080/",
     "height": 265
    },
    "id": "3PgdFjLcq6KK",
    "outputId": "09bd9f12-66a0-4f8c-8478-cbb3026fd4b5"
   },
   "outputs": [
    {
     "data": {
      "image/png": "[encoded data removed]",
      "text/plain": [
       "<Figure size 432x288 with 1 Axes>"
      ]
     },
     "metadata": {
      "needs_background": "light"
     },
     "output_type": "display_data"
    }
   ],
   "source": [
    "N = 400 # number of points per class\n",
    "D = 2 # dimensionality\n",
    "K = 4 # number of classes\n",
    "X = np.zeros((N*K,D)) # data matrix (each row = single example)\n",
    "y = np.zeros(N*K, dtype='uint8') # class labels\n",
    "for j in range(K):\n",
    "  ix = range(N*j,N*(j+1))\n",
    "  r = np.linspace(0.0,1,N) # radius\n",
    "  t = np.linspace(j*4,(j+1)*4,N) + np.random.randn(N)*0.2 # theta\n",
    "  X[ix] = np.c_[r*np.sin(t), r*np.cos(t)]\n",
    "  y[ix] = j\n",
    "# lets visualize the data:\n",
    "plt.scatter(X[:, 0], X[:, 1], c=y, s=40, cmap=plt.cm.Spectral)\n",
    "plt.show()"
   ]
  },
  {
   "cell_type": "markdown",
   "metadata": {
    "id": "-_y5FwpEriIo"
   },
   "source": [
    "The toy spiral data consists of three classes (blue, red, yellow) that are not linearly separable. It should be noted that the purle and red arms of the spiral are very close together, we would expect these arms to be particularly hard to seperate. "
   ]
  },
  {
   "cell_type": "markdown",
   "metadata": {
    "id": "Ip9NhpVTq6LD"
   },
   "source": [
    "### Train a network in Pytorch\n",
    "\n",
    "Following the previous section, we\n",
    "\n",
    "\n",
    "1.   First define a model and choose a proper classificaiton function\n",
    "2.   Compute the initial classification loss\n",
    "3.   Iteratively update the model parameters\n",
    "4.   Evaluate the accuracy\n",
    "\n"
   ]
  },
  {
   "cell_type": "code",
   "execution_count": null,
   "metadata": {
    "id": "xD4UZUc8q6LE"
   },
   "outputs": [],
   "source": [
    "import torch\n",
    "import torch.nn as nn\n",
    "import torch.nn.functional as F\n",
    "import torch.optim as optim"
   ]
  },
  {
   "cell_type": "markdown",
   "metadata": {
    "id": "QLsjWCQrq6LF"
   },
   "source": [
    "Now we define a 3 layers network like this.\n"
   ]
  },
  {
   "cell_type": "code",
   "execution_count": null,
   "metadata": {
    "id": "pT8p2WQSq6LF"
   },
   "outputs": [],
   "source": [
    "class class_data(nn.Module):\n",
    "    def __init__(self):\n",
    "        super(class_data, self).__init__()\n",
    "\n",
    "        self.lin1 = torch.nn.Linear(2, 100) \n",
    "        self.lin2 = torch.nn.Linear(100, 100)\n",
    "        self.lin3 = torch.nn.Linear(100, 4)\n",
    "\n",
    "    def forward(self, x):\n",
    "  \n",
    "        x = self.lin1(x)\n",
    "        x = F.relu(x)\n",
    "        x = self.lin2(x)\n",
    "        x = F.relu(x)\n",
    "        x = self.lin3(x)      \n",
    "   \n",
    "        return x"
   ]
  },
  {
   "cell_type": "code",
   "execution_count": null,
   "metadata": {
    "colab": {
     "base_uri": "https://localhost:8080/"
    },
    "id": "Jnrc-Rtrq6LG",
    "outputId": "194f7f87-6347-49a3-d1e5-5eb24686361f"
   },
   "outputs": [
    {
     "name": "stdout",
     "output_type": "stream",
     "text": [
      "tensor(1.3831, grad_fn=<NllLossBackward>)\n",
      "tensor(1.0336, grad_fn=<NllLossBackward>)\n",
      "tensor(0.9589, grad_fn=<NllLossBackward>)\n",
      "tensor(0.8766, grad_fn=<NllLossBackward>)\n",
      "tensor(0.7701, grad_fn=<NllLossBackward>)\n",
      "tensor(0.6554, grad_fn=<NllLossBackward>)\n",
      "tensor(0.5584, grad_fn=<NllLossBackward>)\n",
      "tensor(0.4822, grad_fn=<NllLossBackward>)\n",
      "tensor(0.4210, grad_fn=<NllLossBackward>)\n",
      "tensor(0.3708, grad_fn=<NllLossBackward>)\n",
      "Training done\n"
     ]
    }
   ],
   "source": [
    "#Prepare Training Data\n",
    "#X1 denotes the training examples\n",
    "#labels denote the groud truth with repsect to X1\n",
    "X1 = torch.Tensor(X)\n",
    "data_size = X1.shape[0]\n",
    "X1 = X1.unsqueeze(0)\n",
    "labels = y\n",
    "labels = torch.Tensor(labels)\n",
    "labels = labels.unsqueeze(0)\n",
    "\n",
    "\n",
    "# Choose a proper classification function\n",
    "# As we have 4 classes here, CrossEntropyloss will suit for this problem.\n",
    "loss_fn = nn.CrossEntropyLoss()\n",
    "classifier = class_data() \n",
    "optimizer = optim.SGD(classifier.parameters(), lr =0.01, momentum=0.9)\n",
    "batchsize = 1600\n",
    "\n",
    "for i in range(1000):\n",
    "    choice = np.random.choice(data_size, batchsize, replace=False)\n",
    "    X_ = X1[0,choice,:]\n",
    "    labels_ =  labels[0,choice]\n",
    "    output = classifier(X_)\n",
    "    loss = loss_fn(output, labels_.long())    \n",
    "    optimizer.zero_grad()\n",
    "    loss.backward()\n",
    "    if i %100==0:\n",
    "        print(loss)\n",
    "    optimizer.step()\n",
    "\n",
    "print('Training done')\n",
    "preds = output.max(1)[1]"
   ]
  },
  {
   "cell_type": "markdown",
   "metadata": {
    "id": "1Vvfqcc9ie5x"
   },
   "source": [
    "Below we visualise how well the neural network has learnt the training data. Normally if we were testing the performance of a neural network we would use a validation set in order to to assess generalisation, however in this case we are only assessing how well the neural network has learnt the training data."
   ]
  },
  {
   "cell_type": "code",
   "execution_count": null,
   "metadata": {
    "colab": {
     "base_uri": "https://localhost:8080/",
     "height": 531
    },
    "id": "kIpsU0m2q6LH",
    "outputId": "b932b1ba-01e4-4f86-84a6-62aad4fa688e"
   },
   "outputs": [
    {
     "name": "stdout",
     "output_type": "stream",
     "text": [
      "training accuracy:  0.8925\n"
     ]
    },
    {
     "data": {
      "image/png": "[encoded data removed]",
      "text/plain": [
       "<Figure size 432x288 with 1 Axes>"
      ]
     },
     "metadata": {
      "needs_background": "light"
     },
     "output_type": "display_data"
    },
    {
     "data": {
      "image/png": "[encoded data removed]",
      "text/plain": [
       "<Figure size 432x288 with 1 Axes>"
      ]
     },
     "metadata": {
      "needs_background": "light"
     },
     "output_type": "display_data"
    }
   ],
   "source": [
    "h = 0.02\n",
    "x_min, x_max = X[:, 0].min() - 1, X[:, 0].max() + 1\n",
    "y_min, y_max = X[:, 1].min() - 1, X[:, 1].max() + 1\n",
    "xx, yy = np.meshgrid(np.arange(x_min, x_max, h),\n",
    "                     np.arange(y_min, y_max, h))\n",
    "\n",
    "## ground truth show\n",
    "fig = plt.figure()\n",
    "plt.scatter(X[:, 0], X[:, 1], c=y, s=40, cmap=plt.cm.Spectral)\n",
    "plt.xlim(xx.min(), xx.max())\n",
    "plt.ylim(yy.min(), yy.max())\n",
    "\n",
    "## prediction show\n",
    "fig = plt.figure()\n",
    "\n",
    "plt.scatter(X[choice, 0], X[choice, 1], c=preds.numpy(), s=40, cmap=plt.cm.Spectral)\n",
    "plt.xlim(xx.min(), xx.max())\n",
    "plt.ylim(yy.min(), yy.max())\n",
    "\n",
    "\n",
    "\n",
    "## The accuracy\n",
    "\n",
    "predicted_results = preds.numpy()\n",
    "ground_truth = y[choice]\n",
    "\n",
    "acc = np.mean(predicted_results==ground_truth)\n",
    "\n",
    "print ('training accuracy: ', acc)\n",
    "\n"
   ]
  },
  {
   "cell_type": "markdown",
   "metadata": {
    "id": "o2bYpd1V9txu"
   },
   "source": [
    "We can see that the network classifies the majority points correctly. Some of the extreme values however are misclassified, for example at the end of each of the arms of the spiral there are misclassifications. There is also some misclassification at the boundary between the red and purple arms caused by the fact that these classes overlap. We can use the below code to get a better idea of the decision boundaries which the neural network learns. The circles whose colour is different to that of the background colour are misclassified.  "
   ]
  },
  {
   "cell_type": "code",
   "execution_count": null,
   "metadata": {
    "colab": {
     "base_uri": "https://localhost:8080/",
     "height": 531
    },
    "id": "1d1-V_Zm92vg",
    "outputId": "039773a6-53ff-426a-adb4-9cc32033c86d"
   },
   "outputs": [
    {
     "data": {
      "text/plain": [
       "<matplotlib.collections.PathCollection at 0x7f283584d2d0>"
      ]
     },
     "execution_count": 51,
     "metadata": {},
     "output_type": "execute_result"
    },
    {
     "data": {
      "image/png": "[encoded data removed]",
      "text/plain": [
       "<Figure size 432x288 with 1 Axes>"
      ]
     },
     "metadata": {
      "needs_background": "light"
     },
     "output_type": "display_data"
    },
    {
     "data": {
      "image/png": "[encoded data removed]",
      "text/plain": [
       "<Figure size 432x288 with 1 Axes>"
      ]
     },
     "metadata": {
      "needs_background": "light"
     },
     "output_type": "display_data"
    }
   ],
   "source": [
    "#concatenating the meshgrid\n",
    "xx = np.expand_dims(xx.flatten(), axis = 1)\n",
    "yy = np.expand_dims(yy.flatten(), axis = 1)\n",
    "val = np.concatenate((xx,yy),axis = 1)\n",
    "\n",
    "#Converting the input to a tensor which the network will recognise\n",
    "val = torch.from_numpy(val)\n",
    "val = val.to(torch.float32)\n",
    "\n",
    "#Calculating the label at each point of the meshgrid\n",
    "probs = classifier(val)\n",
    "seg = torch.argmax(probs,dim=1)\n",
    "\n",
    "#Visualising the results\n",
    "plt.figure()\n",
    "plt.scatter(xx, yy, c=seg.numpy(), s=40, cmap=plt.cm.Spectral)\n",
    "plt.figure()\n",
    "plt.scatter(xx, yy, c=seg.numpy(), s=40, cmap=plt.cm.Spectral)\n",
    "plt.scatter(X[:, 0], X[:, 1], c=y, s=40, cmap=plt.cm.Spectral, edgecolors='k')\n"
   ]
  }
 ],
 "metadata": {
  "accelerator": "GPU",
  "colab": {
   "collapsed_sections": [
    "qhiFcpowpNhC",
    "_i3x6addpIP7",
    "EdPqZj1qATwP"
   ],
   "name": "[2021][NC]Pytorch.ipynb",
   "provenance": []
  },
  "kernelspec": {
   "display_name": "Python 3",
   "language": "python",
   "name": "python3"
  },
  "language_info": {
   "codemirror_mode": {
    "name": "ipython",
    "version": 3
   },
   "file_extension": ".py",
   "mimetype": "text/x-python",
   "name": "python",
   "nbconvert_exporter": "python",
   "pygments_lexer": "ipython3",
   "version": "3.8.2"
  }
 },
 "nbformat": 4,
 "nbformat_minor": 4
}
