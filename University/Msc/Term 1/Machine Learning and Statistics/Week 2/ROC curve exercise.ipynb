{
 "cells": [
  {
   "cell_type": "markdown",
   "metadata": {},
   "source": [
    "# ROC curve exercise"
   ]
  },
  {
   "cell_type": "code",
   "execution_count": null,
   "metadata": {},
   "outputs": [],
   "source": [
    "from sklearn import datasets\n",
    "import numpy as np\n",
    "from matplotlib import pyplot as plt\n",
    "from matplotlib.colors import ListedColormap\n",
    "\n",
    "from ipywidgets import widgets,interactive\n",
    "from sklearn.metrics import roc_curve"
   ]
  },
  {
   "cell_type": "markdown",
   "metadata": {},
   "source": [
    "This section loads the data and plots it"
   ]
  },
  {
   "cell_type": "code",
   "execution_count": null,
   "metadata": {},
   "outputs": [],
   "source": [
    "cancer=datasets.load_breast_cancer()\n",
    "#only take two features\n",
    "X=cancer.data[:,:2]\n",
    "y=cancer.target\n",
    "malignent=cancer.data[y==1]\n",
    "benign=cancer.data[y==0]\n",
    "xb,yb=benign[:,0],benign[:,1]\n",
    "xm,ym=malignent[:,0],malignent[:,1]\n",
    "plt.scatter(xb,yb,color='g',alpha=0.2,label='benign')\n",
    "plt.scatter(xm,ym,color='r',alpha=0.2,label='malignent')\n",
    "plt.legend();"
   ]
  },
  {
   "cell_type": "markdown",
   "metadata": {},
   "source": [
    "## Task 1\n",
    "\n",
    "Now we use `sklearn` to train a logistic regression model to classify our data. We will discuss the meaning of `C` in a later lecture. "
   ]
  },
  {
   "cell_type": "code",
   "execution_count": null,
   "metadata": {},
   "outputs": [],
   "source": [
    "from sklearn.linear_model import LogisticRegression\n",
    "lr = LogisticRegression(C=1000.0, random_state=0, solver='lbfgs')\n",
    "lr.fit(X,y)"
   ]
  },
  {
   "cell_type": "markdown",
   "metadata": {
    "deletable": false,
    "editable": false,
    "nbgrader": {
     "cell_type": "markdown",
     "checksum": "6354744cd6b471539ab9dc8831ed1068",
     "grade": false,
     "grade_id": "cell-d1186f55ff87fae2",
     "locked": true,
     "schema_version": 3,
     "solution": false,
     "task": false
    }
   },
   "source": [
    "Use the `decision_function` member function of the linear regression model to create four arrays containing the z values correspoinding to true positive, false positive, etc. in the function `getDecisionArrays`. The return values of this function should be four one-dimensional arrays of floats. "
   ]
  },
  {
   "cell_type": "code",
   "execution_count": null,
   "metadata": {},
   "outputs": [],
   "source": [
    "def getDecisionArrays(X, y, model):\n",
    "    ''' Return tp, fp, tn, fn, four arrays of values of z corresponding to true positive, \n",
    "        false positive, and false negative.\n",
    "    '''\n",
    "    tp = []\n",
    "    tn = []\n",
    "    fp = []\n",
    "    fn = []\n",
    "    \n",
    "    res_lr = model.decision_function(X)\n",
    "    for ii in range(len(res_lr)):\n",
    "        if res_lr[ii]>0:\n",
    "            if y[ii]==1:\n",
    "                tp.append(res_lr[ii])\n",
    "            else:\n",
    "                fp.append(res_lr[ii])\n",
    "        else:\n",
    "            if y[ii]==1:\n",
    "                fn.append(res_lr[ii])\n",
    "            else:\n",
    "                tn.append(res_lr[ii])\n",
    "    return tp, fp, tn, fn\n"
   ]
  },
  {
   "cell_type": "code",
   "execution_count": null,
   "metadata": {
    "deletable": false,
    "editable": false,
    "nbgrader": {
     "cell_type": "code",
     "checksum": "13f91ea7fd529c84c3b4e407724f703b",
     "grade": true,
     "grade_id": "cell-3455b1fd2eeed339",
     "locked": true,
     "points": 4,
     "schema_version": 3,
     "solution": false,
     "task": false
    }
   },
   "outputs": [],
   "source": [
    "tp, fp, tn, fn = getDecisionArrays(X, y, lr)\n",
    "assert len(tp) == 334, 'There should be 334 events which are correctly classified as positive.'\n",
    "assert np.isclose(tp[:5],np.array([2.403741551788574, 2.5955164324497595, 7.08899451935018, 2.0572141926784724, 7.511859816549476])).all()\n",
    "assert len(fp) == 39, 'There should be 39 events which are incorrectly classified as positive.'\n",
    "assert np.isclose(fp[:5],np.array([3.33158079625165, 3.2636661961861755, 0.8126760344878186, 1.3472541433135312, 1.433815447821221])).all()\n",
    "assert len(tn) == 173\n",
    "assert np.isclose(tn[:3],np.array([-1.4321272777718903, -5.771474037175768, -5.600356454622837])).all()\n",
    "assert len(fn) == 23\n",
    "assert np.isclose(fn[:3],np.array([-0.845141907046763, -0.048752379756617614, -2.19717345542551])).all()"
   ]
  },
  {
   "cell_type": "markdown",
   "metadata": {
    "deletable": false,
    "editable": false,
    "nbgrader": {
     "cell_type": "markdown",
     "checksum": "7a130257665abaec7c22e9cf4722600f",
     "grade": false,
     "grade_id": "cell-5367a0ca07f6157f",
     "locked": true,
     "schema_version": 3,
     "solution": false,
     "task": false
    }
   },
   "source": [
    "Use the `getDecisionArrays` function, which you defined above, to reproduce the following plot\n",
    "\n",
    "![](yofz_colors.png)\n",
    "\n",
    "The definitions of $y$ and $z$ are the same as in the lecture notes."
   ]
  },
  {
   "cell_type": "code",
   "execution_count": null,
   "metadata": {},
   "outputs": [],
   "source": [
    "tp, fp, tn, fn = getDecisionArrays(X, y, lr)\n",
    "'''Create your plot here'''\n",
    "plt.scatter(tp,np.ones(len(tp)),  label = 'TP', alpha=0.3)\n",
    "plt.scatter(fp,np.zeros(len(fp)), label = 'FP', alpha=0.3)\n",
    "plt.scatter(tn,np.zeros(len(tn)), label = 'TN', alpha=0.3)\n",
    "plt.scatter(fn,np.ones(len(fn)),  label = 'FN', alpha=0.3)\n",
    "plt.xlabel('z')\n",
    "plt.ylabel('y')\n",
    "plt.axvline(linewidth=2, color='black')\n",
    "plt.legend()\n",
    "plt.show()"
   ]
  },
  {
   "cell_type": "markdown",
   "metadata": {
    "deletable": false,
    "editable": false,
    "nbgrader": {
     "cell_type": "markdown",
     "checksum": "cfa5f80fbaf4a7343845760b93690150",
     "grade": false,
     "grade_id": "cell-649a5616eda5b295",
     "locked": true,
     "schema_version": 3,
     "solution": false,
     "task": false
    }
   },
   "source": [
    "## Task 2\n",
    "\n",
    "Create a ROC curve for this logistic regression model."
   ]
  },
  {
   "cell_type": "code",
   "execution_count": null,
   "metadata": {},
   "outputs": [],
   "source": [
    "'''Plot your ROC curve here'''\n",
    "res_lr = lr.decision_function(X)\n",
    "res_matrix = np.column_stack((res_lr,y))\n",
    "res_matrix = res_matrix[res_matrix[:,0].argsort()]\n",
    "true_val = np.count_nonzero(y == 1)\n",
    "false_val = len(y)-true_val\n",
    "count_fn = 0\n",
    "count_tn = 0\n",
    "tpr = []\n",
    "fpr = []\n",
    "for ii in range(len(res_matrix)):\n",
    "    if(res_matrix[ii,1]==0):\n",
    "        count_tn += 1\n",
    "    else:\n",
    "        count_fn += 1\n",
    "    count_tp = true_val - count_fn\n",
    "    count_fp = false_val - count_tn\n",
    "    tpr.append(count_tp/true_val)\n",
    "    fpr.append(count_fp/false_val)\n",
    "    \n",
    "plt.plot(fpr,tpr)\n",
    "plt.xlabel('FPR')\n",
    "plt.ylabel('TPR')\n",
    "plt.plot()"
   ]
  },
  {
   "cell_type": "markdown",
   "metadata": {},
   "source": [
    "## Bonus exercise 1\n",
    "\n",
    "\n",
    "Now that we did the curve the hard way we can check that we got the right answer using `sklearn` and the `roc_curve` member of the model. Look up the description of `roc_curve` and use it to make another plot of the ROC curve."
   ]
  },
  {
   "cell_type": "code",
   "execution_count": null,
   "metadata": {},
   "outputs": [],
   "source": [
    "'''Plot your ROC curve using the roc_curve function of sklear here'''\n",
    "\n",
    "fpr,tpr, threshold = roc_curve(y,res_lr)\n",
    "plt.plot(fpr,tpr)\n",
    "plt.xlabel('FPR')\n",
    "plt.ylabel('TPR')\n",
    "plt.show()"
   ]
  },
  {
   "cell_type": "markdown",
   "metadata": {},
   "source": [
    "## Bonus exercise 2 \n",
    "\n",
    "Create an interactive plot showing the location on the ROC curve and the plot you coded above with the location of the threshold as an interactive parameter.   "
   ]
  },
  {
   "cell_type": "code",
   "execution_count": null,
   "metadata": {},
   "outputs": [],
   "source": [
    "\n",
    "def ROCinteractive(t):\n",
    "    f, (ax1, ax2) = plt.subplots(1,2,figsize=(16,8))\n",
    "    # replace this...\n",
    "    vs = np.linspace(0,1)\n",
    "    ax1.plot(vs,vs)\n",
    "\n",
    "    true_positive_rate,false_positive_rate = np.cos(t)**2, np.sin(t)**2 \n",
    "    ax1.plot([false_positive_rate],[true_positive_rate],'or')\n",
    "    ax1.set_xlabel('false positive rate')\n",
    "    ax1.set_ylabel('true positive rate')\n",
    "\n",
    "    ax2.axvline(t,color='r')\n",
    "    ax2.set_xlim((-15,10))\n",
    "    ax2.set_ylim((-0.1,1.1))\n",
    "\n",
    "st = widgets.FloatSlider(min = -15, max = 10, value = 0.,continuous_update=False)\n",
    "i=interactive(ROCinteractive, t = st)\n",
    "i.layout.height='700px'\n",
    "display(i);\n"
   ]
  }
 ],
 "metadata": {
  "kernelspec": {
   "display_name": "Python 3 (ipykernel)",
   "language": "python",
   "name": "python3"
  },
  "language_info": {
   "codemirror_mode": {
    "name": "ipython",
    "version": 3
   },
   "file_extension": ".py",
   "mimetype": "text/x-python",
   "name": "python",
   "nbconvert_exporter": "python",
   "pygments_lexer": "ipython3",
   "version": "3.9.12"
  }
 },
 "nbformat": 4,
 "nbformat_minor": 2
}
