{
 "cells": [
  {
   "cell_type": "markdown",
   "metadata": {},
   "source": [
    "# Data Analysis Homework 2\n",
    "### Due date: Tuesday, October 22nd 2024, 1 PM"
   ]
  },
  {
   "cell_type": "code",
   "execution_count": 3,
   "metadata": {
    "deletable": false,
    "editable": false,
    "nbgrader": {
     "cell_type": "code",
     "checksum": "6b293642cb003f52bed1a4a2f1b4a11b",
     "grade": false,
     "grade_id": "cell-1e44d039b71e9215",
     "locked": true,
     "schema_version": 3,
     "solution": false,
     "task": false
    }
   },
   "outputs": [],
   "source": [
    "from __future__ import division\n",
    "from IPython.display import HTML\n",
    "from IPython.display import display\n",
    "from scipy.optimize import *\n",
    "import scipy\n",
    "import numpy as np\n",
    "import pandas as pd\n",
    "import matplotlib.pyplot as plt\n",
    "\n",
    "# please do NOT import any other modules than the ones imported above"
   ]
  },
  {
   "cell_type": "markdown",
   "metadata": {
    "deletable": false,
    "editable": false,
    "nbgrader": {
     "cell_type": "markdown",
     "checksum": "f65592c97f025a90df45df2651398368",
     "grade": false,
     "grade_id": "cell-323d988312829e83",
     "locked": true,
     "schema_version": 3,
     "solution": false,
     "task": false
    }
   },
   "source": [
    "## Question 1: Poiseuille's method for determining viscosity\n",
    "\n",
    "The  volume flow rate, ${\\displaystyle\\frac{{\\rm d}V}{{\\rm d}t}}$, of fluid flowing smoothly through a horizontal tube of length $L$ and radius $r$ is given by Poiseuille's equation:\n",
    "\\begin{equation}\n",
    "\\frac{{\\rm d}V}{{\\rm d}t}=\\frac{\\pi\\rho g h r^4}{8\\eta L},\n",
    "\\end{equation}\n",
    "where $\\eta$ and $\\rho$ are the viscosity and density, respectively, of the fluid,  $h$ is the head of pressure across the tube, and $g$ the acceleration due to gravity. \n",
    "<br>\n",
    "In an experiment the graph of the flow rate versus height has a slope measured to 7%, the length is known to 0.5%, and the radius to 8%.  \n",
    "<br>\n",
    "Required:\n",
    "<br>\n",
    "\n",
    "(i) On a piece of paper, sketch the graph of the the flow rate as a function of height, and think about what the slope is equal to. (This question is not marked, it is to help you get started with the problem).\n",
    "<br>\n",
    "(ii) What is the fractional precision to which the viscosity is known? \n",
    "<br>\n",
    "(iii) If more experimental time is available, should this be devoted to \n",
    ">(a) collecting more flow-rate data\n",
    "<br>\n",
    ">(b) measuring the length\n",
    "<br>\n",
    ">(c) the radius of the tube?"
   ]
  },
  {
   "cell_type": "markdown",
   "metadata": {
    "deletable": false,
    "editable": false,
    "nbgrader": {
     "cell_type": "markdown",
     "checksum": "a7879b3c0a625c018148dba1f5576bce",
     "grade": false,
     "grade_id": "cell-59a3b1e681dd9b78",
     "locked": true,
     "schema_version": 3,
     "solution": false,
     "task": false
    }
   },
   "source": [
    "### (i) On a piece of paper, sketch the graph of the the flow rate as a function of height, and think about what the slope is equal to. (This question is not marked, it is to help you get started with the problem)."
   ]
  },
  {
   "cell_type": "markdown",
   "metadata": {
    "deletable": false,
    "editable": false,
    "nbgrader": {
     "cell_type": "markdown",
     "checksum": "2b4048c596a3bb987f4105e96e68f03a",
     "grade": false,
     "grade_id": "cell-d5b3a1e84a1937df",
     "locked": true,
     "schema_version": 3,
     "solution": false,
     "task": false
    }
   },
   "source": [
    "### (ii) What is the fractional precision to which the viscosity is known? Express your answer as a DECIMAL. "
   ]
  },
  {
   "cell_type": "code",
   "execution_count": 3,
   "metadata": {
    "deletable": false,
    "nbgrader": {
     "cell_type": "code",
     "checksum": "d26afccb39a62ae6fd6ea9404b617ba6",
     "grade": false,
     "grade_id": "cell-6e70cb94c0f6c4fc",
     "locked": false,
     "schema_version": 3,
     "solution": true,
     "task": false
    }
   },
   "outputs": [
    {
     "name": "stdout",
     "output_type": "stream",
     "text": [
      "0.32760494501762333\n"
     ]
    }
   ],
   "source": [
    "def one_i():\n",
    "    # YOUR CODE HERE\n",
    "    slope_precision = 0.07\n",
    "    length_precision = 0.005\n",
    "    radius_precision = 0.08\n",
    "    \n",
    "    viscosity_precision = np.sqrt(slope_precision ** 2 + length_precision ** 2 + (radius_precision * 4) ** 2)\n",
    "    \n",
    "    return viscosity_precision\n",
    "\n",
    "print(one_i())"
   ]
  },
  {
   "cell_type": "code",
   "execution_count": 4,
   "metadata": {
    "deletable": false,
    "editable": false,
    "nbgrader": {
     "cell_type": "code",
     "checksum": "df76a582043f538cc87fa4b66855870a",
     "grade": true,
     "grade_id": "cell-7fbc7a08cef9e21b",
     "locked": true,
     "points": 4,
     "schema_version": 3,
     "solution": false,
     "task": false
    }
   },
   "outputs": [],
   "source": [
    "'''TEST CELL- DO NOT DELETE'''\n",
    "assert isinstance(one_i(), float) , 'Please make sure that one_i() returns a float.' \n",
    "assert one_i()>0., 'Please make sure that one_i() returns a positive value.' \n"
   ]
  },
  {
   "cell_type": "markdown",
   "metadata": {
    "deletable": false,
    "editable": false,
    "nbgrader": {
     "cell_type": "markdown",
     "checksum": "e668a6f5c2f0362fac17bc6522591df3",
     "grade": false,
     "grade_id": "cell-36b3d5896f5344e1",
     "locked": true,
     "schema_version": 3,
     "solution": false,
     "task": false
    }
   },
   "source": [
    "### (iii) If more experimental time is available, should this be devoted to \n",
    "(a) collecting more flow-rate data\n",
    "<br>\n",
    "(b) measuring the length\n",
    "<br>\n",
    "(c) the radius of the tube?"
   ]
  },
  {
   "cell_type": "code",
   "execution_count": 5,
   "metadata": {
    "deletable": false,
    "nbgrader": {
     "cell_type": "code",
     "checksum": "1f0a4ee1d9431e093a859026f9d5e420",
     "grade": false,
     "grade_id": "cell-34e207a386f2dfeb",
     "locked": false,
     "schema_version": 3,
     "solution": true,
     "task": false
    }
   },
   "outputs": [
    {
     "name": "stdout",
     "output_type": "stream",
     "text": [
      "C\n"
     ]
    }
   ],
   "source": [
    "def one_ii():\n",
    "    '''Your function should return a string of A,B,C'''\n",
    "    # YOUR CODE HERE\n",
    "    # The error in the radius r is 8%, but since r^4 appears in the formula\n",
    "    # This error is amplified by a factor of 4\n",
    "    # Its impact on the precision of the viscosity measurement the most significant\n",
    "    comment = \"C\"\n",
    "    return(comment)\n",
    "\n",
    "print(one_ii())"
   ]
  },
  {
   "cell_type": "code",
   "execution_count": 6,
   "metadata": {
    "deletable": false,
    "editable": false,
    "nbgrader": {
     "cell_type": "code",
     "checksum": "45c6283d85cfeb1e55cf9faf3b29356b",
     "grade": true,
     "grade_id": "cell-bae713d5b331ab46",
     "locked": true,
     "points": 1,
     "schema_version": 3,
     "solution": false,
     "task": false
    }
   },
   "outputs": [],
   "source": [
    "'''TEST CELL- DO NOT DELETE'''\n",
    "assert one_ii() == 'A' or one_ii() == 'B' or one_ii() == 'C', 'Please return A or B or C in one_ii().' "
   ]
  },
  {
   "cell_type": "markdown",
   "metadata": {
    "deletable": false,
    "editable": false,
    "nbgrader": {
     "cell_type": "markdown",
     "checksum": "4f76858d207563cdd0d34e2a2b88a7a6",
     "grade": false,
     "grade_id": "cell-1b2bf5ae05a8ccb0",
     "locked": true,
     "schema_version": 3,
     "solution": false,
     "task": false
    }
   },
   "source": [
    "## Question 2: Functional error approach for Van der Waals calculation\n",
    "\n",
    "The Van der Waals equation of state is a correction to the ideal gas law, given by the equation,\n",
    "\n",
    "\\begin{equation}\n",
    "(P+\\frac{a}{V_m^2})(V_m-b) = RT,\n",
    "\\end{equation}\n",
    "\n",
    "where $P$ is the pressure, $V_m$ is the molar volume, $T$ is the absolute temperature, $R$ is the universal gas constant with $a$ and $b$ being species-specific Van der Waals coefficents. \n",
    "\n",
    "A sample of Nitrogen was measured in an experiment as,\n",
    "<bf>\n",
    ">Molar Volume $V_m$ = $(2.000 \\pm 0.003)$x$10^{-4}m^3mol^{-1}$\n",
    "<bf>\n",
    ">Absolute Temperature $T$ = $298.0\\pm0.2K$\n",
    "\n",
    "and the constants are,\n",
    "<blockquote>\n",
    "<bf> \n",
    "$a$ = $(1.408$x$10^{-1}) m^6mol^{-2}Pa$\n",
    "<bf>\n",
    "$b$ = $(3.913$x$10^{-5}) m^3mol^{-1}$\n",
    "<bf>\n",
    "$R$ = $(8.3145) JK^{-1}mol^{-1}$\n",
    "<bf>\n",
    "</blockquote>\n",
    "Required:\n",
    "<bf>\n",
    ">(i) From the given data, calculate the pressure giving your answer in MPa.\n",
    "<bf>\n",
    ">(ii) Calculate the uncertainty in the pressure by using the functional approach for error propagation.\n",
    "<bf>\n",
    ">(iii) Repeat the calculations above for \n",
    ">>$V_m = (2.000\\pm0.003)\\times10^{-3}\\,{\\rm m}^{3}\\,{\\rm mol}^{-1}$ and  $T=400.0 \\pm 0.2K$."
   ]
  },
  {
   "cell_type": "markdown",
   "metadata": {
    "deletable": false,
    "editable": false,
    "nbgrader": {
     "cell_type": "markdown",
     "checksum": "595e47dd77e4cbe6d012f96066a3e248",
     "grade": false,
     "grade_id": "cell-4ddf0070b200f4a5",
     "locked": true,
     "schema_version": 3,
     "solution": false,
     "task": false
    }
   },
   "source": [
    "### (i) From the given data, calculate the pressure giving your answer in MPa."
   ]
  },
  {
   "cell_type": "code",
   "execution_count": 7,
   "metadata": {
    "deletable": false,
    "nbgrader": {
     "cell_type": "code",
     "checksum": "4faa03b521923dde418673211d6ca01b",
     "grade": false,
     "grade_id": "cell-83ea70abed73edc9",
     "locked": false,
     "schema_version": 3,
     "solution": true,
     "task": false
    }
   },
   "outputs": [
    {
     "name": "stdout",
     "output_type": "stream",
     "text": [
      "11.882007832411261\n"
     ]
    }
   ],
   "source": [
    "def two_i():\n",
    "    '''Your function should return the pressure in MPa'''\n",
    "    V_m = 2.000 * (10 ** (-4))\n",
    "    T = 298.0\n",
    "    a = 1.408 * (10 ** (-1))\n",
    "    b = 3.913 * (10 ** (-5))\n",
    "    R = 8.3145\n",
    "    \n",
    "    P = (R * T / (V_m - b)) - (a / ((V_m) ** 2))\n",
    "    \n",
    "    MPa = P  / (10 ** 6)\n",
    "    \n",
    "    return MPa\n",
    "    \n",
    "print(two_i())"
   ]
  },
  {
   "cell_type": "code",
   "execution_count": 8,
   "metadata": {
    "deletable": false,
    "editable": false,
    "nbgrader": {
     "cell_type": "code",
     "checksum": "076cbeb54feeb09a8365351b20b8f71a",
     "grade": true,
     "grade_id": "cell-ee1b94e9a35dcdad",
     "locked": true,
     "points": 1,
     "schema_version": 3,
     "solution": false,
     "task": false
    }
   },
   "outputs": [],
   "source": [
    "'''TEST CELL- DO NOT DELETE'''\n",
    "assert isinstance(two_i(), float) , 'Please make sure that two_i() returns a float.' "
   ]
  },
  {
   "cell_type": "markdown",
   "metadata": {
    "deletable": false,
    "editable": false,
    "nbgrader": {
     "cell_type": "markdown",
     "checksum": "8c3e0d14dbd94e7f6a4d38ccb43629ad",
     "grade": false,
     "grade_id": "cell-edefca25b0429fc4",
     "locked": true,
     "schema_version": 3,
     "solution": false,
     "task": false
    }
   },
   "source": [
    "### (ii) Calculate the uncertainty in the pressure by using the functional approach for error propagation."
   ]
  },
  {
   "cell_type": "code",
   "execution_count": 9,
   "metadata": {
    "deletable": false,
    "nbgrader": {
     "cell_type": "code",
     "checksum": "fcb4edd4a4d1f8817089dbdd83da4c20",
     "grade": false,
     "grade_id": "cell-584eaae2341d6764",
     "locked": false,
     "schema_version": 3,
     "solution": true,
     "task": false
    }
   },
   "outputs": [
    {
     "name": "stdout",
     "output_type": "stream",
     "text": [
      "90.8129281321437\n"
     ]
    }
   ],
   "source": [
    "def two_ii():\n",
    "    '''Your function should return the uncertainty'''\n",
    "    # YOUR CODE HERE\n",
    "    V_m = 2.000 * (10 ** (-4))\n",
    "    T = 298.0\n",
    "    a = 1.408 * (10 ** (-1))\n",
    "    b = 3.913 * (10 ** (-5))\n",
    "    R = 8.3145\n",
    "    \n",
    "    V_m_precision = 0.003 / 2.000\n",
    "    T_precision = 0.2 / 298.0\n",
    "    \n",
    "    V_m_partial = - (R * T) / ((V_m - b) ** 2) + 2 * (a / V_m ** 3)\n",
    "    T_partial = R / (V_m - b)\n",
    "    \n",
    "    P_precision = np.sqrt(((V_m_partial * V_m_precision) ** 2) + ((T_partial * T_precision) ** 2))\n",
    "    \n",
    "    MPa_P = P_precision / (10 ** 6)\n",
    "    \n",
    "    return MPa_P\n",
    "    \n",
    "print(two_ii())    "
   ]
  },
  {
   "cell_type": "code",
   "execution_count": 10,
   "metadata": {
    "deletable": false,
    "editable": false,
    "nbgrader": {
     "cell_type": "code",
     "checksum": "39d84798b57cf8ddee908a8ded88278f",
     "grade": true,
     "grade_id": "cell-d3f6a25694722de4",
     "locked": true,
     "points": 2,
     "schema_version": 3,
     "solution": false,
     "task": false
    }
   },
   "outputs": [],
   "source": [
    "'''TEST CELL- DO NOT DELETE'''\n",
    "assert isinstance(two_ii(), float) , 'Please make sure that two_ii() returns a float.' "
   ]
  },
  {
   "cell_type": "markdown",
   "metadata": {
    "deletable": false,
    "editable": false,
    "nbgrader": {
     "cell_type": "markdown",
     "checksum": "e01492868a1d8fbce15431fab0427593",
     "grade": false,
     "grade_id": "cell-86ed7d58f52fa600",
     "locked": true,
     "schema_version": 3,
     "solution": false,
     "task": false
    }
   },
   "source": [
    "### (iii) Repeat the calculations above for \n",
    "$V_m = (2.000\\pm0.003)\\times10^{-3}\\,{\\rm m}^{3}\\,{\\rm mol}^{-1}$ and  $T=400.0 \\pm 0.2K$."
   ]
  },
  {
   "cell_type": "code",
   "execution_count": 11,
   "metadata": {
    "deletable": false,
    "nbgrader": {
     "cell_type": "code",
     "checksum": "4fac33ede06870ec25c72ac677fc3ebf",
     "grade": false,
     "grade_id": "cell-c8516e1da652a8c9",
     "locked": false,
     "schema_version": 3,
     "solution": true,
     "task": false
    }
   },
   "outputs": [
    {
     "name": "stdout",
     "output_type": "stream",
     "text": [
      "(17.15383601665941, 139.9690310498508)\n"
     ]
    }
   ],
   "source": [
    "def two_iii():\n",
    "    '''Your function should return both the pressure and the uncertainty'''\n",
    "    pressure_2 = 0\n",
    "    uncertainty_2 = 0\n",
    "    # YOUR CODE HERE\n",
    "    V_m = 2.000 * (10 ** (-4))\n",
    "    T = 400.0\n",
    "    a = 1.408 * (10 ** (-1))\n",
    "    b = 3.913 * (10 ** (-5))\n",
    "    R = 8.3145\n",
    "    \n",
    "    P = (R * T / (V_m - b)) - (a / ((V_m) ** 2))\n",
    "    \n",
    "    pressure_2 = P  / (10 ** 6)\n",
    "    \n",
    "    V_m_precision = 0.003 / 2.000\n",
    "    T_precision = 0.2 / 400.0\n",
    "    \n",
    "    V_m_partial = - (R * T) / (V_m - b) ** 2 + 2 * a / V_m ** 3\n",
    "    T_partial = R / (V_m - b)\n",
    "    \n",
    "    P_precision = np.sqrt((V_m_partial * V_m_precision) ** 2 + (T_partial * T_precision) ** 2)\n",
    "    \n",
    "    uncertainty_2 = P_precision / (10 ** 6)\n",
    "    \n",
    "    return(pressure_2,uncertainty_2)\n",
    "\n",
    "print(two_iii())"
   ]
  },
  {
   "cell_type": "code",
   "execution_count": 12,
   "metadata": {
    "deletable": false,
    "editable": false,
    "nbgrader": {
     "cell_type": "code",
     "checksum": "55ad98e3d43005e66f02987b18a64fd4",
     "grade": true,
     "grade_id": "cell-9dbbd0cc491c4ddc",
     "locked": true,
     "points": 1,
     "schema_version": 3,
     "solution": false,
     "task": false
    }
   },
   "outputs": [],
   "source": [
    "'''TEST CELL- DO NOT DELETE'''\n",
    "test_case = two_iii()\n",
    "assert isinstance(test_case[0], float) , 'Please make sure that two_iii() returns two floats.'\n",
    "assert isinstance(test_case[1], float) , 'Please make sure that two_iii() returns two floats.'"
   ]
  },
  {
   "cell_type": "code",
   "execution_count": 13,
   "metadata": {
    "deletable": false,
    "editable": false,
    "nbgrader": {
     "cell_type": "code",
     "checksum": "e6ec1847f542c83a7b75c4b10eee61c0",
     "grade": true,
     "grade_id": "cell-af4f0bbff6f5f141",
     "locked": true,
     "points": 1,
     "schema_version": 3,
     "solution": false,
     "task": false
    }
   },
   "outputs": [
    {
     "data": {
      "text/plain": [
       "'TEST CELL- DO NOT DELETE'"
      ]
     },
     "execution_count": 13,
     "metadata": {},
     "output_type": "execute_result"
    }
   ],
   "source": [
    "'''TEST CELL- DO NOT DELETE'''"
   ]
  },
  {
   "cell_type": "markdown",
   "metadata": {
    "deletable": false,
    "editable": false,
    "nbgrader": {
     "cell_type": "markdown",
     "checksum": "5ccd27c200050ae02b8901060b7de536",
     "grade": false,
     "grade_id": "cell-f614dc07c0bd1f74",
     "locked": true,
     "schema_version": 3,
     "solution": false,
     "task": false
    }
   },
   "source": [
    "## Question 3: Reverse Engineering the Incredible Goal\n",
    "The separation of the posts is 7.32m, and the ball is struck from a point 22m from the near post and 29m from the far post.\n",
    "\n",
    "Required:\n",
    "<br>\n",
    "(i) Plot a graph of $\\alpha_\\theta$ on the y-axis vs $\\alpha_L$ on the x-axis for the range of values presented in the alpha_ls array.\n",
    "<br>\n",
    "(ii) To what (common) precision must these three lengths be known to justify quoting the angle to 11 significant figures? \n",
    "\n",
    "*[Hint: use the functional approach using the values for the errors in the length measurements as the provided alpha__ls array]*"
   ]
  },
  {
   "cell_type": "markdown",
   "metadata": {
    "deletable": false,
    "editable": false,
    "nbgrader": {
     "cell_type": "markdown",
     "checksum": "1ff89eeb2fd9ecd77bd0b3c193c19210",
     "grade": false,
     "grade_id": "cell-f9e1603d2463326c",
     "locked": true,
     "schema_version": 3,
     "solution": false,
     "task": false
    }
   },
   "source": [
    "### (i) Plot a graph of $\\alpha_\\theta$ on the y-axis vs $\\alpha_L$ on the x-axis for the range of values presented in the alpha_ls array."
   ]
  },
  {
   "cell_type": "code",
   "execution_count": 14,
   "metadata": {
    "deletable": false,
    "nbgrader": {
     "cell_type": "code",
     "checksum": "0c7f21be19f2166849bd7f072b05727c",
     "grade": false,
     "grade_id": "cell-f0c9d88a7c12b4f3",
     "locked": false,
     "schema_version": 3,
     "solution": true,
     "task": false
    }
   },
   "outputs": [
    {
     "data": {
      "image/png": "[encoded data removed]",
      "text/plain": [
       "<Figure size 432x288 with 1 Axes>"
      ]
     },
     "metadata": {
      "needs_background": "light"
     },
     "output_type": "display_data"
    },
    {
     "data": {
      "text/plain": [
       "[0.00016885860813890957,\n",
       " 1.6885860813890958e-05,\n",
       " 1.6885860813890956e-06,\n",
       " 1.688586081389096e-07,\n",
       " 1.6885860813890958e-08,\n",
       " 1.6885860813890957e-09,\n",
       " 1.6885860813890955e-10,\n",
       " 1.6885860813890955e-11,\n",
       " 1.6885860813890961e-12,\n",
       " 1.6885860813890957e-13,\n",
       " 1.6885860813890956e-14,\n",
       " 1.6885860813890955e-15]"
      ]
     },
     "execution_count": 14,
     "metadata": {},
     "output_type": "execute_result"
    }
   ],
   "source": [
    "def three_i():\n",
    "    a = 22\n",
    "    b = 29\n",
    "    c = 7.32\n",
    "    alpha_ls = [0.1, 0.01, 0.001, 0.0001, 1e-05, 1e-06, 1e-07, 1e-08, 1e-09, 1e-10, 1e-11, 1e-12]\n",
    "    alpha_thetas = []\n",
    "    '''Your function should plot the graph and return the alpha_thetas array.'''\n",
    "    # c^2 = a^2 + b^2 - 2ab*cos(thetas)\n",
    "    # thetas = arccos((a^2 + b^2 - c^2)/2ab)\n",
    "    cos_theta= (a ** 2 + b ** 2 - c ** 2) / (2 * a * b)\n",
    "    theta = np.arccos(cos_theta)\n",
    "    a_precisions = [alpha_l / a for alpha_l in alpha_ls]\n",
    "    b_precisions = [alpha_l / b for alpha_l in alpha_ls]\n",
    "    c_precisions = [alpha_l / c for alpha_l in alpha_ls]\n",
    "    sqrt_term = np.sqrt(1 - ((a**2 + b**2 - c**2)/(2*a*b))**2)\n",
    "    a_partial = - 1 / sqrt_term * ((2*a) / (2*a*b) + (a**2 + b**2 - c**2) / (- 2 * (a**2) * b))\n",
    "    b_partial = - 1 / sqrt_term * ((2*b) / (2*a*b) + (a**2 + b**2 - c**2) / (- 2 * (b**2) * a))\n",
    "    c_partial = - 1 / sqrt_term * ((- 2 * c) / (2 * a * b))\n",
    "    \n",
    "    alpha_thetas = [theta * np.sqrt((a_precisions[i] * a_partial) ** 2 + (b_precisions[i] * b_partial) ** 2 + (c_precisions[i] * c_partial) ** 2) for i in range(len(alpha_ls))]\n",
    "    \n",
    "    plt.plot(alpha_thetas, alpha_ls)\n",
    "    plt.xlabel(\"Alpha_thetas\")\n",
    "    plt.ylabel(\"Alpha_Ls\")\n",
    "    plt.ticklabel_format(style='sci', axis='x', scilimits=(0,0))\n",
    "    plt.ticklabel_format(style='sci', axis='y', scilimits=(0,0))\n",
    "    plt.xlim(min(alpha_thetas), max(alpha_thetas))\n",
    "    plt.ylim(min(alpha_ls), max(alpha_ls))\n",
    "    plt.show()\n",
    "    \n",
    "    return(alpha_thetas)\n",
    "\n",
    "three_i()"
   ]
  },
  {
   "cell_type": "code",
   "execution_count": 15,
   "metadata": {
    "deletable": false,
    "editable": false,
    "nbgrader": {
     "cell_type": "code",
     "checksum": "d4ac30975bbef2eb0b4044497f139a37",
     "grade": true,
     "grade_id": "cell-0e40129ca8a040fa",
     "locked": true,
     "points": 3,
     "schema_version": 3,
     "solution": false,
     "task": false
    }
   },
   "outputs": [
    {
     "data": {
      "text/plain": [
       "'TEST CELL- DO NOT DELETE'"
      ]
     },
     "execution_count": 15,
     "metadata": {},
     "output_type": "execute_result"
    }
   ],
   "source": [
    "'''TEST CELL- DO NOT DELETE'''"
   ]
  },
  {
   "cell_type": "markdown",
   "metadata": {
    "deletable": false,
    "editable": false,
    "nbgrader": {
     "cell_type": "markdown",
     "checksum": "2f9c9aabebd7a698f8485be83fa64a58",
     "grade": false,
     "grade_id": "cell-f2556656401f0967",
     "locked": true,
     "schema_version": 3,
     "solution": false,
     "task": false
    }
   },
   "source": [
    "### (ii) To what (common) precision must these three lengths be known to justify quoting the angle to 11 significant figures?"
   ]
  },
  {
   "cell_type": "markdown",
   "metadata": {
    "deletable": false,
    "nbgrader": {
     "cell_type": "markdown",
     "checksum": "c71b3a5c66a5a7c0f2a0f2e8a292e5d0",
     "grade": true,
     "grade_id": "cell-78953d834d936e7d",
     "locked": false,
     "points": 2,
     "schema_version": 3,
     "solution": true,
     "task": false
    }
   },
   "source": [
    "To ensure that the angle 𝜃 can be quoted to 11 significant figures, When $\\alpha_L = 10^{-8}$, we get $\\alpha_\\theta \\approx 1.689 \\times 10^{-11}$.  \n",
    "When the precision of the lengths is $10^{-8}$, the precision of the angle $\\alpha_\\theta$ reaches 11 significant figures."
   ]
  },
  {
   "cell_type": "markdown",
   "metadata": {
    "deletable": false,
    "editable": false,
    "nbgrader": {
     "cell_type": "markdown",
     "checksum": "789d9d2681dc3a8ca9b5d67fc4d439a9",
     "grade": false,
     "grade_id": "cell-383dcdd17f81e8b8",
     "locked": true,
     "schema_version": 3,
     "solution": false,
     "task": false
    }
   },
   "source": [
    "## Question 4: Linear Regression/Weighted Fit\n",
    "\n",
    "The data  plotted in Fig 6.1(d) relating to the degradation of the signal to noise ratio from a frequency to voltage converter near harmonics of the mains frequency are listed below.\n",
    "\\begin{equation}\n",
    "\\begin{array}{lcccccc}\n",
    "\\hline\n",
    "{\\rm frequency~(Hz)} &10&20&30&40&50&60\\\\\n",
    "{\\rm voltage~(mV)} &16&45&64&75&70&115\\\\\n",
    "{\\rm error~(mV)}   &5&5&5&5&30&5\\\\\n",
    "\\hline\n",
    "{\\rm frequency~(Hz)} &70&80&90&100&110&\\\\\n",
    "{\\rm voltage~(mV)} &142&167&183&160&221&\\\\\n",
    "{\\rm error~(mV)}   &5&5&5&30&5&\\\\\n",
    "\\hline\n",
    "\\end{array} \n",
    "\\end{equation}\n",
    "\n",
    "This data is also contained in the file 'linear_regression.csv'.\n",
    "\n",
    "Required: \n",
    "<br>\n",
    "(i) Calculate the best-fit gradient and intercept and associated errors using a weighted fit. You may use the curve_fit function."
   ]
  },
  {
   "cell_type": "code",
   "execution_count": 5,
   "metadata": {
    "deletable": false,
    "nbgrader": {
     "cell_type": "code",
     "checksum": "5dc6ec30209271251b0f16f19cc2c306",
     "grade": false,
     "grade_id": "cell-32e1ed61e45e67ea",
     "locked": false,
     "schema_version": 3,
     "solution": true,
     "task": false
    }
   },
   "outputs": [
    {
     "data": {
      "text/plain": [
       "(2.0284648194758716,\n",
       " 0.05231193382948591,\n",
       " -0.9474963040606827,\n",
       " 3.4085972274383725)"
      ]
     },
     "execution_count": 5,
     "metadata": {},
     "output_type": "execute_result"
    }
   ],
   "source": [
    "data = pd.read_csv('linear_regression.csv')\n",
    "frequencies = data.iloc[:,0]\n",
    "voltages = data.iloc[:,1]\n",
    "voltage_errors = data.iloc[:,2]\n",
    "\n",
    "def f(frequencies, a, b):\n",
    "    return a * frequencies + b\n",
    "\n",
    "def best_fit_params():\n",
    "    '''Your function should return the gradient,gradient_error,intercept,intercept_error'''\n",
    "    gradient = 0\n",
    "    gradient_error = 0\n",
    "    intercept = 0\n",
    "    intercept_error = 0\n",
    "    # YOUR CODE HERE\n",
    "    popt, pcov = curve_fit(f, frequencies, voltages, sigma = voltage_errors)\n",
    "    \n",
    "    gradient, intercept = popt\n",
    "    gradient_error  = np.sqrt(pcov[0, 0])\n",
    "    intercept_error = np.sqrt(pcov[1, 1])\n",
    "    \n",
    "    return(gradient,gradient_error,intercept,intercept_error)\n",
    "\n",
    "best_fit_params()"
   ]
  },
  {
   "cell_type": "code",
   "execution_count": 6,
   "metadata": {
    "deletable": false,
    "editable": false,
    "nbgrader": {
     "cell_type": "code",
     "checksum": "66556d201eccbf12c0dc12ebb717e77f",
     "grade": true,
     "grade_id": "cell-4c2f7eb7d142e9a4",
     "locked": true,
     "points": 1,
     "schema_version": 3,
     "solution": false,
     "task": false
    }
   },
   "outputs": [],
   "source": [
    "'''TEST CELL- DO NOT DELETE'''\n",
    "assert isinstance(best_fit_params(), (list, tuple, np.ndarray)), \\\n",
    "    'Please make sure that best_fit_params() returns a list/array of floats.'\n"
   ]
  },
  {
   "cell_type": "code",
   "execution_count": 7,
   "metadata": {
    "deletable": false,
    "editable": false,
    "nbgrader": {
     "cell_type": "code",
     "checksum": "c3f8f65a1441ff3cd0641ad7ddb0f98a",
     "grade": true,
     "grade_id": "cell-4c6c66786a814a4a",
     "locked": true,
     "points": 2,
     "schema_version": 3,
     "solution": false,
     "task": false
    }
   },
   "outputs": [
    {
     "data": {
      "text/plain": [
       "'TEST CELL- DO NOT DELETE'"
      ]
     },
     "execution_count": 7,
     "metadata": {},
     "output_type": "execute_result"
    }
   ],
   "source": [
    "'''TEST CELL- DO NOT DELETE'''"
   ]
  },
  {
   "cell_type": "code",
   "execution_count": 8,
   "metadata": {
    "deletable": false,
    "editable": false,
    "nbgrader": {
     "cell_type": "code",
     "checksum": "b687b24581a387ad90c59722868dc9e9",
     "grade": true,
     "grade_id": "cell-1c3d26bca906951e",
     "locked": true,
     "points": 1,
     "schema_version": 3,
     "solution": false,
     "task": false
    }
   },
   "outputs": [
    {
     "data": {
      "text/plain": [
       "'TEST CELL- DO NOT DELETE'"
      ]
     },
     "execution_count": 8,
     "metadata": {},
     "output_type": "execute_result"
    }
   ],
   "source": [
    "'''TEST CELL- DO NOT DELETE'''"
   ]
  },
  {
   "cell_type": "code",
   "execution_count": 9,
   "metadata": {
    "deletable": false,
    "editable": false,
    "nbgrader": {
     "cell_type": "code",
     "checksum": "f5dd790c125dfb74105ee5a2a26d41f9",
     "grade": true,
     "grade_id": "cell-c7da451d43a509f0",
     "locked": true,
     "points": 1,
     "schema_version": 3,
     "solution": false,
     "task": false
    }
   },
   "outputs": [
    {
     "data": {
      "text/plain": [
       "'TEST CELL- DO NOT DELETE'"
      ]
     },
     "execution_count": 9,
     "metadata": {},
     "output_type": "execute_result"
    }
   ],
   "source": [
    "'''TEST CELL- DO NOT DELETE'''"
   ]
  },
  {
   "cell_type": "markdown",
   "metadata": {
    "deletable": false,
    "editable": false,
    "nbgrader": {
     "cell_type": "markdown",
     "checksum": "6f648be6789f510d1538217f8a12c9c3",
     "grade": false,
     "grade_id": "cell-2463f408f16e7285",
     "locked": true,
     "schema_version": 3,
     "solution": false,
     "task": false
    }
   },
   "source": [
    "## Question 5: Error bars from a $\\chi^2$ minimisation\n",
    "|--|Unweighted | Weighted |\n",
    "| --- | --- | --- |\n",
    "| Gradient | (1.9$\\pm$0.2)mV/Hz | (2.03$\\pm$0.05)mV/Hz |\n",
    "| Intercept | (0$\\pm$1)x10mV | (-1$\\pm$3)mV |\n",
    "\n",
    "Required:\n",
    "<br>\n",
    "(i) For the data set of the previous question, write your own code to perform a $\\chi^2$ minimisation. You may use the mininmize function, but not the curve_fit function.\n",
    "<br>\n",
    "(ii) Verify that $\\chi^{2}_{\\rm{min}}$ is obtained for the same values of the parameters as are listed in the table above. \n",
    "<br>\n",
    "(iii) By following the procedure of $\\chi^2\\rightarrow\\chi^2_{\\rm min}+1$ outlined in Section 6.5 in Hughes and Hase and the figure above, check that the error bars for $m$ and $c$ are in agreement with the table above.  Include explicitly the first 5 steps of the procedure shown in the figure above for the calculation of the slope.\n"
   ]
  },
  {
   "cell_type": "markdown",
   "metadata": {
    "deletable": false,
    "editable": false,
    "nbgrader": {
     "cell_type": "markdown",
     "checksum": "ca674655a407000c19cc3db3bf03b760",
     "grade": false,
     "grade_id": "cell-2a79bbac89f91f96",
     "locked": true,
     "schema_version": 3,
     "solution": false,
     "task": false
    }
   },
   "source": [
    "### (i) For the data set of the previous question, write code to perform a $\\chi^2$ minimisation."
   ]
  },
  {
   "cell_type": "code",
   "execution_count": 10,
   "metadata": {
    "deletable": false,
    "nbgrader": {
     "cell_type": "code",
     "checksum": "b6a02a0cd7a052b5b5ab087ee0a1d56d",
     "grade": true,
     "grade_id": "cell-cc84d541ad64b7b5",
     "locked": false,
     "points": 0,
     "schema_version": 3,
     "solution": true,
     "task": false
    }
   },
   "outputs": [
    {
     "name": "stdout",
     "output_type": "stream",
     "text": [
      "(2.028464767335051, -0.947492954467219, 9.11590358805417)\n",
      "(1.9072726689479502, -0.0727233890872136, 2225.9636363636764)\n"
     ]
    }
   ],
   "source": [
    "def cost_fun_weighted(params, *args):\n",
    "    frequencies, voltages, voltage_errors = args\n",
    "    a, b = params\n",
    "    f = a * frequencies + b\n",
    "    X2 = np.sum(((voltages - f) / voltage_errors) ** 2)\n",
    "    return X2\n",
    "\n",
    "def cost_fun_unweighted(params, *args):\n",
    "    frequencies, voltages = args\n",
    "    a, b = params\n",
    "    f = a * frequencies + b\n",
    "    X2 = np.sum((voltages - f) ** 2)\n",
    "    return X2\n",
    "\n",
    "def bf_params(cost_fun, args):\n",
    "    params_init = [0, 0]\n",
    "    result = minimize(cost_fun, params_init, args=args)\n",
    "    \n",
    "    gradient, intercept = result.x\n",
    "\n",
    "    X2_min = cost_fun(result.x, *args)\n",
    "    \n",
    "    return gradient, intercept, X2_min\n",
    "\n",
    "print(bf_params(cost_fun_weighted,   (frequencies, voltages, voltage_errors)))\n",
    "print(bf_params(cost_fun_unweighted, (frequencies, voltages)))"
   ]
  },
  {
   "cell_type": "markdown",
   "metadata": {
    "deletable": false,
    "editable": false,
    "nbgrader": {
     "cell_type": "markdown",
     "checksum": "ef00da9f8dc33783c7872157d131ec11",
     "grade": false,
     "grade_id": "cell-e346d61d51d8c4ca",
     "locked": true,
     "schema_version": 3,
     "solution": false,
     "task": false
    }
   },
   "source": [
    "### (ii) Verify that $\\chi^{2}_{\\rm{min}}$ is obtained for the same values of the parameters as are listed in the table above. "
   ]
  },
  {
   "cell_type": "code",
   "execution_count": 39,
   "metadata": {
    "deletable": false,
    "nbgrader": {
     "cell_type": "code",
     "checksum": "dd5b2606a1087bf162b9c1fed30cf5c9",
     "grade": false,
     "grade_id": "cell-955031cca9017181",
     "locked": false,
     "schema_version": 3,
     "solution": true,
     "task": false
    }
   },
   "outputs": [],
   "source": [
    "data = pd.read_csv('linear_regression.csv')\n",
    "\n",
    "def five_ii(): \n",
    "    '''Your function must return the gradient and intercept'''\n",
    "    gradient = 0\n",
    "    intercept = 0\n",
    "    # YOUR CODE HERE\n",
    "    gradient, intercept, _ = bf_params(cost_fun_unweighted, (frequencies, voltages))\n",
    "    weighted_gradient, weighted_intercept, _ = bf_params(cost_fun_weighted, (frequencies, voltages, voltage_errors))\n",
    "    \n",
    "    print(f\"Unweighted Fit: Gradient = {round(gradient, 2)}, Intercept = {round(intercept,2)}\")\n",
    "    print(f\"Weighted Fit: Gradient = {round(weighted_gradient, 2)}, Intercept = {round(weighted_intercept, 2)}\")\n",
    "    \n",
    "    return(gradient,intercept)"
   ]
  },
  {
   "cell_type": "code",
   "execution_count": 40,
   "metadata": {
    "deletable": false,
    "editable": false,
    "nbgrader": {
     "cell_type": "code",
     "checksum": "7f173617d325fae58eac1866420aaf80",
     "grade": true,
     "grade_id": "cell-4595c8822daea7e4",
     "locked": true,
     "points": 2,
     "schema_version": 3,
     "solution": false,
     "task": false
    }
   },
   "outputs": [
    {
     "name": "stdout",
     "output_type": "stream",
     "text": [
      "Unweighted Fit: Gradient = 1.91, Intercept = -0.07\n",
      "Weighted Fit: Gradient = 2.03, Intercept = -0.95\n"
     ]
    }
   ],
   "source": [
    "'''TEST CELL- DO NOT DELETE'''\n",
    "assert isinstance(five_ii(), (list, tuple, np.ndarray)), \\\n",
    "    'Please make sure that five_ii() returns a list/array of two floats.'"
   ]
  },
  {
   "cell_type": "markdown",
   "metadata": {},
   "source": [
    "### (iii) By following the procedure of $\\chi^2\\rightarrow\\chi^2_{\\rm min}+1$ outlined in Section 6.5 in Hughes and Hase and the figure above, check that the error bars for $m$ and $c$ are in agreement with the table above.  Include explicitly the first 5 steps of the procedure shown in the figure above for the calculation of the slope."
   ]
  },
  {
   "cell_type": "code",
   "execution_count": 43,
   "metadata": {
    "deletable": false,
    "nbgrader": {
     "cell_type": "code",
     "checksum": "be3e12e8eff4b7a2d490dcd2eb718af4",
     "grade": false,
     "grade_id": "cell-615013b70e1ab884",
     "locked": false,
     "schema_version": 3,
     "solution": true,
     "task": false
    }
   },
   "outputs": [],
   "source": [
    "def five_iii():\n",
    "    error_m = 0\n",
    "    error_c = 0\n",
    "    # YOUR CODE HERE\n",
    "    N = len(frequencies)\n",
    "    \n",
    "    sum_x = np.sum(frequencies)\n",
    "    sum_y = np.sum(voltages)\n",
    "    sum_x2 = np.sum(frequencies ** 2)\n",
    "    sum_xy = np.sum(frequencies * voltages)\n",
    "    \n",
    "    Delta = N * sum_x2 - sum_x ** 2\n",
    "    \n",
    "    m = (N * sum_xy - sum_x * sum_y) / Delta\n",
    "    c = (sum_x2 * sum_y - sum_x * sum_xy) / Delta\n",
    "    \n",
    "    y_fit = m * frequencies + c\n",
    "    \n",
    "    alpha_CU = np.sqrt(np.sum((voltages - y_fit) ** 2) / (N - 2))\n",
    "    \n",
    "    alpha_m = alpha_CU * np.sqrt(N / Delta)\n",
    "    alpha_c = alpha_CU * np.sqrt(sum_x2 / Delta)\n",
    "    \n",
    "    return(alpha_m,alpha_c)"
   ]
  },
  {
   "cell_type": "code",
   "execution_count": 44,
   "metadata": {
    "deletable": false,
    "editable": false,
    "nbgrader": {
     "cell_type": "code",
     "checksum": "af7251a330985d062df371835a72045e",
     "grade": true,
     "grade_id": "cell-94fd6756337ae8f6",
     "locked": true,
     "points": 3,
     "schema_version": 3,
     "solution": false,
     "task": false
    }
   },
   "outputs": [],
   "source": [
    "'''TEST CELL- DO NOT DELETE'''\n",
    "assert isinstance(five_iii(), (list, tuple, np.ndarray)), \\\n",
    "    'Please make sure that five_ii() returns a list/array of two floats.'"
   ]
  },
  {
   "cell_type": "markdown",
   "metadata": {
    "deletable": false,
    "editable": false,
    "nbgrader": {
     "cell_type": "markdown",
     "checksum": "ec741ef14fad75118ea25075ffc24385",
     "grade": false,
     "grade_id": "cell-5892e776c1a1fd6d",
     "locked": true,
     "schema_version": 3,
     "solution": false,
     "task": false
    }
   },
   "source": [
    "## Question 6- Strategies for error bars\n",
    "\n",
    "\\begin{equation}\n",
    "\\begin{array}{lccccc}\n",
    "\\hline\n",
    "x &1&2&3&4&5\\\\\n",
    "y &51&103&150&199&251\\\\\n",
    "\\alpha_{y}   &1&1&2&2&3\\\\\n",
    "\\hline\n",
    "x &6&7&8&9&10\\\\\n",
    "y &303&347&398&452&512\\\\\n",
    "\\alpha_{y}   &3&4&5&6&7\\\\\n",
    "\\hline\n",
    "\\end{array} \n",
    "\\end{equation}\n",
    "\n",
    "Required:\n",
    "<br>\n",
    "(i) Calculate the weighted best-fit values of the slope, intercept, and their uncertainties.\n",
    "<br>\n",
    "(ii) If the data set had been homoscedastic, with all the errors equal, $\\alpha_{y}=4$, calculate the weighted best-fit values of the slope, intercept, and their uncertainties.\n",
    "<br>\n",
    "(iii) If the experimenter took greater time to collect the first and last data points, for which $\\alpha_{y}=1$, at the expense of all of the other data points, for which $\\alpha_{y}=8$, calculate the weighted best-fit values of the slope, intercept, and their uncertainties.\n",
    "<br>\n",
    "(iv) Comment on your results.\n",
    "<br>\n",
    "(v) Plot the original data from the table including error bars. On the same plot, show the fitted function calculated in (i)."
   ]
  },
  {
   "cell_type": "markdown",
   "metadata": {
    "deletable": false,
    "editable": false,
    "nbgrader": {
     "cell_type": "markdown",
     "checksum": "a40a0a5b5b293f0bffae292b9a242ead",
     "grade": false,
     "grade_id": "cell-fa3b795eff05d022",
     "locked": true,
     "schema_version": 3,
     "solution": false,
     "task": false
    }
   },
   "source": [
    "### (i) Calculate the weighted best-fit values of the slope, intercept, and their uncertainties."
   ]
  },
  {
   "cell_type": "code",
   "execution_count": 52,
   "metadata": {
    "deletable": false,
    "nbgrader": {
     "cell_type": "code",
     "checksum": "66d6e53c983b422ba4cf479464d39c58",
     "grade": false,
     "grade_id": "cell-a139df62925ab4cc",
     "locked": false,
     "schema_version": 3,
     "solution": true,
     "task": false
    }
   },
   "outputs": [
    {
     "data": {
      "text/plain": [
       "(49.89790138742879, 1.726770709105078, 0.332201663924493, 1.0360068862703642)"
      ]
     },
     "execution_count": 52,
     "metadata": {},
     "output_type": "execute_result"
    }
   ],
   "source": [
    "xs = [1,2,3,4,5,6,7,8,9,10]\n",
    "ys = [51,103,150,199,251,303,347,398,452,512]\n",
    "\n",
    "def f(x,a,b):\n",
    "    return(a*x+b)\n",
    "\n",
    "def six_i():\n",
    "    errors = [1,1,2,2,3,3,4,5,6,7]\n",
    "    slope = 0\n",
    "    intercept = 0\n",
    "    slope_uncertainty = 0\n",
    "    intercept_uncertainty = 0\n",
    "    # YOUR CODE HERE\n",
    "    popt, pcov = curve_fit(f, xs, ys, sigma = errors)\n",
    "    \n",
    "    slope, intercept = popt\n",
    "    slope_uncertainty  = np.sqrt(pcov[0, 0])\n",
    "    intercept_uncertainty = np.sqrt(pcov[1, 1])\n",
    "    \n",
    "    return(slope,intercept,slope_uncertainty,intercept_uncertainty)\n",
    "\n",
    "six_i()"
   ]
  },
  {
   "cell_type": "code",
   "execution_count": 53,
   "metadata": {
    "deletable": false,
    "editable": false,
    "nbgrader": {
     "cell_type": "code",
     "checksum": "4598eb5139499cfeeec482465974a357",
     "grade": true,
     "grade_id": "cell-d6653153d148af27",
     "locked": true,
     "points": 2,
     "schema_version": 3,
     "solution": false,
     "task": false
    }
   },
   "outputs": [],
   "source": [
    "'''TEST CELL- DO NOT DELETE'''\n",
    "assert isinstance(six_i(), (list, tuple, np.ndarray)), \\\n",
    "    'Please make sure that six_i() returns a list/array of four floats.'"
   ]
  },
  {
   "cell_type": "markdown",
   "metadata": {
    "deletable": false,
    "editable": false,
    "nbgrader": {
     "cell_type": "markdown",
     "checksum": "70193906939b159a87c602bf611af0c1",
     "grade": false,
     "grade_id": "cell-2cf49066a36f3481",
     "locked": true,
     "schema_version": 3,
     "solution": false,
     "task": false
    }
   },
   "source": [
    "### (ii) If the data set had been homoscedastic, with all the errors equal, $\\alpha_{y}=4$, calculate the weighted best-fit values of the slope, intercept, and their uncertainties."
   ]
  },
  {
   "cell_type": "code",
   "execution_count": 54,
   "metadata": {
    "deletable": false,
    "nbgrader": {
     "cell_type": "code",
     "checksum": "acdef054312ee0e2f224c866ee060beb",
     "grade": false,
     "grade_id": "cell-f5c6499718447839",
     "locked": false,
     "schema_version": 3,
     "solution": true,
     "task": false
    }
   },
   "outputs": [
    {
     "data": {
      "text/plain": [
       "(50.47272726877133,\n",
       " -0.9999999782423065,\n",
       " 0.45720434535997834,\n",
       " 2.836878357799031)"
      ]
     },
     "execution_count": 54,
     "metadata": {},
     "output_type": "execute_result"
    }
   ],
   "source": [
    "def six_ii():\n",
    "    errors = [4,4,4,4,4,4,4,4,4,4]\n",
    "    slope = 0\n",
    "    intercept = 0\n",
    "    slope_uncertainty = 0\n",
    "    intercept_uncertainty = 0\n",
    "    # YOUR CODE HERE\n",
    "    popt, pcov = curve_fit(f, xs, ys, sigma = errors)\n",
    "    \n",
    "    slope, intercept = popt\n",
    "    slope_uncertainty  = np.sqrt(pcov[0, 0])\n",
    "    intercept_uncertainty = np.sqrt(pcov[1, 1])\n",
    "    \n",
    "    return(slope,intercept,slope_uncertainty,intercept_uncertainty)\n",
    "\n",
    "six_ii()"
   ]
  },
  {
   "cell_type": "code",
   "execution_count": 55,
   "metadata": {
    "deletable": false,
    "editable": false,
    "nbgrader": {
     "cell_type": "code",
     "checksum": "32fe1c32f53ffedeeea340d44750b3cd",
     "grade": true,
     "grade_id": "cell-8e2ee791073a8f92",
     "locked": true,
     "points": 1,
     "schema_version": 3,
     "solution": false,
     "task": false
    }
   },
   "outputs": [],
   "source": [
    "'''TEST CELL- DO NOT DELETE'''\n",
    "assert isinstance(six_ii(), (list, tuple, np.ndarray)), \\\n",
    "    'Please make sure that six_ii() returns a list/array of four floats.'"
   ]
  },
  {
   "cell_type": "markdown",
   "metadata": {
    "deletable": false,
    "editable": false,
    "nbgrader": {
     "cell_type": "markdown",
     "checksum": "ca3368dea85db2a201d547ddd74bdf71",
     "grade": false,
     "grade_id": "cell-e5e5e37d74c0bc6a",
     "locked": true,
     "schema_version": 3,
     "solution": false,
     "task": false
    }
   },
   "source": [
    "### (iii) If the experimenter took greater time to collect the first and last data points, for which $\\alpha_{y}=1$, at the expense of all of the other data points, for which $\\alpha_{y}=8$, calculate the weighted best-fit values of the slope, intercept, and their uncertainties."
   ]
  },
  {
   "cell_type": "code",
   "execution_count": 56,
   "metadata": {
    "deletable": false,
    "nbgrader": {
     "cell_type": "code",
     "checksum": "a0a9ab73ab6e7613aa0a98b9f25f2351",
     "grade": false,
     "grade_id": "cell-18271092a76c1cdf",
     "locked": false,
     "schema_version": 3,
     "solution": true,
     "task": false
    }
   },
   "outputs": [
    {
     "data": {
      "text/plain": [
       "(51.198747152729084,\n",
       " -0.45340345705795704,\n",
       " 0.13868714281431524,\n",
       " 0.9769093572145309)"
      ]
     },
     "execution_count": 56,
     "metadata": {},
     "output_type": "execute_result"
    }
   ],
   "source": [
    "def six_iii():\n",
    "    errors = [1,8,8,8,8,8,8,8,8,1]\n",
    "    slope = 0\n",
    "    intercept = 0\n",
    "    slope_uncertainty = 0\n",
    "    intercept_uncertainty = 0\n",
    "    # YOUR CODE HERE\n",
    "    popt, pcov = curve_fit(f, xs, ys, sigma = errors)\n",
    "    \n",
    "    slope, intercept = popt\n",
    "    slope_uncertainty  = np.sqrt(pcov[0, 0])\n",
    "    intercept_uncertainty = np.sqrt(pcov[1, 1])\n",
    "    \n",
    "    return(slope,intercept,slope_uncertainty,intercept_uncertainty)\n",
    "\n",
    "six_iii()"
   ]
  },
  {
   "cell_type": "code",
   "execution_count": 57,
   "metadata": {
    "deletable": false,
    "editable": false,
    "nbgrader": {
     "cell_type": "code",
     "checksum": "add28f6048f315ed02982162bf00e006",
     "grade": true,
     "grade_id": "cell-fedebd3abe0b2b32",
     "locked": true,
     "points": 1,
     "schema_version": 3,
     "solution": false,
     "task": false
    }
   },
   "outputs": [],
   "source": [
    "'''TEST CELL- DO NOT DELETE'''\n",
    "assert isinstance(six_iii(), (list, tuple, np.ndarray)), \\\n",
    "    'Please make sure that six_iii() returns a list/array of four floats.'"
   ]
  },
  {
   "cell_type": "markdown",
   "metadata": {
    "deletable": false,
    "editable": false,
    "nbgrader": {
     "cell_type": "markdown",
     "checksum": "1eb035023abec56da7531da7025f6a8c",
     "grade": false,
     "grade_id": "cell-c3d6f9ae23a6627e",
     "locked": true,
     "schema_version": 3,
     "solution": false,
     "task": false
    }
   },
   "source": [
    "### (iv) Comment on your results."
   ]
  },
  {
   "cell_type": "markdown",
   "metadata": {
    "deletable": false,
    "nbgrader": {
     "cell_type": "markdown",
     "checksum": "838ea297e62dce76acbdc4fca7d34587",
     "grade": true,
     "grade_id": "cell-162101fe22004daf",
     "locked": false,
     "points": 1,
     "schema_version": 3,
     "solution": true,
     "task": false
    }
   },
   "source": [
    "For Original Errors:\n",
    "The slope is relatively small, which means a good confidence in the slope estimation.\n",
    "The intercept has a larger uncertainty, but it is still a reasonable result.\n",
    "\n",
    "For Homoscedastic Errors:\n",
    "All the data points are given the same error, which results more balanced in weighting across the data points.\n",
    "The uncertainty of slope changes slightly.\n",
    "The uncertainty of intercept changes significantly.\n",
    "\n",
    "For collecting the first and last data points for greater time:\n",
    "The uncertainty of slope and intercept is small which means the good-fit is more stable."
   ]
  },
  {
   "cell_type": "markdown",
   "metadata": {
    "deletable": false,
    "editable": false,
    "nbgrader": {
     "cell_type": "markdown",
     "checksum": "707fe8db2d4438de195a044a3dd9367a",
     "grade": false,
     "grade_id": "cell-ac92ac290f37fea5",
     "locked": true,
     "schema_version": 3,
     "solution": false,
     "task": false
    }
   },
   "source": [
    "### (v) Plot the original data from the table including error bars. On the same plot, show the fitted function calculated in (i)."
   ]
  },
  {
   "cell_type": "code",
   "execution_count": 64,
   "metadata": {
    "deletable": false,
    "nbgrader": {
     "cell_type": "code",
     "checksum": "0b5a6b8266ecb1681daef6562660d2c7",
     "grade": true,
     "grade_id": "cell-066ef775ee6d6ae8",
     "locked": false,
     "points": 1,
     "schema_version": 3,
     "solution": true,
     "task": false
    }
   },
   "outputs": [
    {
     "data": {
      "image/png": "[encoded data removed]",
      "text/plain": [
       "<Figure size 432x288 with 1 Axes>"
      ]
     },
     "metadata": {
      "needs_background": "light"
     },
     "output_type": "display_data"
    }
   ],
   "source": [
    "slope_i, intercept_i ,_,_ = six_i()\n",
    "x_fit = np.linspace(min(xs), max(xs), 100)\n",
    "y_fit_i = f(x_fit, slope_i, intercept_i)\n",
    "plt.plot(x_fit, y_fit_i, label = \"Orginal Data\")\n",
    "plt.plot(xs,ys, 'o')\n",
    "plt.legend()\n",
    "plt.grid(True)\n",
    "\n",
    "plt.show()"
   ]
  }
 ],
 "metadata": {
  "kernelspec": {
   "display_name": "Python 3 (ipykernel)",
   "language": "python",
   "name": "python3"
  },
  "language_info": {
   "codemirror_mode": {
    "name": "ipython",
    "version": 3
   },
   "file_extension": ".py",
   "mimetype": "text/x-python",
   "name": "python",
   "nbconvert_exporter": "python",
   "pygments_lexer": "ipython3",
   "version": "3.9.12"
  }
 },
 "nbformat": 4,
 "nbformat_minor": 2
}
