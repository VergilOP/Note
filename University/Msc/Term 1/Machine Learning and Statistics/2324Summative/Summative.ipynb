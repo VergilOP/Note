{
 "cells": [
  {
   "cell_type": "markdown",
   "metadata": {
    "deletable": false,
    "editable": false,
    "nbgrader": {
     "cell_type": "markdown",
     "checksum": "3a9e995e2779eb94a9f94ce9ec63c708",
     "grade": false,
     "grade_id": "cell-67ec9106e07d2432",
     "locked": true,
     "schema_version": 3,
     "solution": false,
     "task": false
    }
   },
   "source": [
    "# Summative assessment\n",
    "\n",
    "This is your summative assignment for the Machine Learning introduction course. You should solve it on your own, this is an individual assessment, not a group assessment!\n",
    "\n",
    "All plots you produce in this notebook need to have proper labels and legends where appropriate. "
   ]
  },
  {
   "cell_type": "markdown",
   "metadata": {},
   "source": [
    "For this assignment you can use facilities in the `numpy` and `sklearn` libraries, and plots should be produced using `matplotlib`. Functions and classes imported at the beginning of answer cells are suggestions, there is no requirement to use them. "
   ]
  },
  {
   "cell_type": "code",
   "execution_count": null,
   "metadata": {},
   "outputs": [],
   "source": [
    "import numpy as np\n",
    "import matplotlib.pyplot as plt\n",
    "import sklearn"
   ]
  },
  {
   "cell_type": "markdown",
   "metadata": {},
   "source": [
    "For this notebook we will use the breast cancer dataset from `sklearn`:"
   ]
  },
  {
   "cell_type": "code",
   "execution_count": null,
   "metadata": {},
   "outputs": [],
   "source": [
    "from sklearn.datasets import load_breast_cancer\n",
    "\n",
    "dic = load_breast_cancer()\n",
    "data = dic['data']\n",
    "target = dic['target']"
   ]
  },
  {
   "cell_type": "markdown",
   "metadata": {
    "deletable": false,
    "editable": false,
    "nbgrader": {
     "cell_type": "markdown",
     "checksum": "3ec0f03f804e57d56f43cad71513da66",
     "grade": false,
     "grade_id": "scaling",
     "locked": true,
     "points": 4,
     "schema_version": 3,
     "solution": false,
     "task": true
    }
   },
   "source": [
    "**TASK 1:**\n",
    "\n",
    "Standardize the inputs and prepare a training and test sample with ratio 3:1 using `train_test_split`. Use ` random_state=42` to make your result easily comparable. We will train our models on the training set, and keep the test set to compare the models at the end of this notebook. [4 marks]\n"
   ]
  },
  {
   "cell_type": "code",
   "execution_count": null,
   "metadata": {
    "deletable": false,
    "nbgrader": {
     "cell_type": "code",
     "checksum": "790f5be0036adc0b3faaab989427f80e",
     "grade": false,
     "grade_id": "cell-b92bb651c1911644",
     "locked": false,
     "schema_version": 3,
     "solution": true,
     "task": false
    }
   },
   "outputs": [],
   "source": [
    "from sklearn.preprocessing import StandardScaler\n",
    "from sklearn.model_selection import train_test_split\n",
    "# use random_state=42 in train_test_split!\n",
    "\n",
    "# YOUR CODE HERE"
   ]
  },
  {
   "cell_type": "markdown",
   "metadata": {},
   "source": [
    "We will consider two inputs:\n",
    "\n",
    "**full feature set**: this is the full set of features you used above.\n",
    "\n",
    "**reduced feature set**: this is considering only the first 3 features in the full dataset. \n",
    "\n",
    "Later in this notebook we will consider a \"quick\" test that only uses the first three features and a \"thorough\" test that uses all features."
   ]
  },
  {
   "cell_type": "markdown",
   "metadata": {
    "deletable": false,
    "editable": false,
    "nbgrader": {
     "cell_type": "markdown",
     "checksum": "9986408cb20f73c806edbe6a8ef44519",
     "grade": false,
     "grade_id": "reduced-lr",
     "locked": true,
     "points": 15,
     "schema_version": 3,
     "solution": false,
     "task": true
    }
   },
   "source": [
    "**TASK 2:**\n",
    "\n",
    "Use a logistic regression model to classify the data using the **reduced feature set**. Plot the scores as a function of the regularisation parameter and an estimate of the uncertainty on the score using 5-fold cross validation. You might want to use `fill_between` for the uncertainties. Your plot should have appropriate labels. [15 marks]\n"
   ]
  },
  {
   "cell_type": "code",
   "execution_count": null,
   "metadata": {
    "deletable": false,
    "nbgrader": {
     "cell_type": "code",
     "checksum": "6eb53cd045571738670cc7d778b678d3",
     "grade": false,
     "grade_id": "cell-4079bf1fb363e93b",
     "locked": false,
     "schema_version": 3,
     "solution": true,
     "task": false
    }
   },
   "outputs": [],
   "source": [
    "from sklearn.linear_model import LogisticRegression\n",
    "from sklearn.model_selection import GridSearchCV\n",
    "\n",
    "# YOUR CODE HERE"
   ]
  },
  {
   "cell_type": "markdown",
   "metadata": {
    "deletable": false,
    "editable": false,
    "nbgrader": {
     "cell_type": "markdown",
     "checksum": "bb7e18de3d03d4cd4d22e2d193e12ca1",
     "grade": false,
     "grade_id": "full-lr",
     "locked": true,
     "points": 13,
     "schema_version": 3,
     "solution": false,
     "task": true
    }
   },
   "source": [
    "**TASK 3:**\n",
    "\n",
    "Use a logistic regression model to classify the data using the **full feature set**. Plot the scores as a function of the regularisation parameter and an estimate of the uncertainty on the score using 5-fold cross validation. You might want to use `fill_between` for the uncertainties. Your plot should have appropriate labels. [13 marks]\n"
   ]
  },
  {
   "cell_type": "code",
   "execution_count": null,
   "metadata": {
    "deletable": false,
    "nbgrader": {
     "cell_type": "code",
     "checksum": "6562adb4f73cad22cfe48fe4b2da5cc6",
     "grade": false,
     "grade_id": "cell-518cb5b7b9e51e71",
     "locked": false,
     "schema_version": 3,
     "solution": true,
     "task": false
    }
   },
   "outputs": [],
   "source": [
    "from sklearn.model_selection import GridSearchCV\n",
    "from sklearn.linear_model import LogisticRegression\n",
    "\n",
    "# YOUR CODE HERE"
   ]
  },
  {
   "cell_type": "markdown",
   "metadata": {
    "deletable": false,
    "editable": false,
    "nbgrader": {
     "cell_type": "markdown",
     "checksum": "8cb6e08ee80cd01f24dfd9dc8709ccee",
     "grade": false,
     "grade_id": "ROC-curves",
     "locked": true,
     "points": 12,
     "schema_version": 3,
     "solution": false,
     "task": true
    }
   },
   "source": [
    "**TASK 4:**\n",
    "\n",
    "Using the test set, plot the ROC curve (true positive rate vs false positive rate) for the two models above to compare their performance. [12 marks]\n"
   ]
  },
  {
   "cell_type": "code",
   "execution_count": null,
   "metadata": {
    "deletable": false,
    "nbgrader": {
     "cell_type": "code",
     "checksum": "8003a0f6b943c5c18735ac0c2fe4678a",
     "grade": false,
     "grade_id": "cell-cb198b10d4be192c",
     "locked": false,
     "schema_version": 3,
     "solution": true,
     "task": false
    }
   },
   "outputs": [],
   "source": [
    "from sklearn.metrics import roc_curve\n",
    "\n",
    "# YOUR CODE HERE"
   ]
  },
  {
   "cell_type": "markdown",
   "metadata": {
    "deletable": false,
    "editable": false,
    "nbgrader": {
     "cell_type": "markdown",
     "checksum": "71c9e5368c4991a7878169ff52682d97",
     "grade": false,
     "grade_id": "combined-model",
     "locked": true,
     "points": 20,
     "schema_version": 3,
     "solution": false,
     "task": true
    }
   },
   "source": [
    "**TASK 5:**\n",
    "\n",
    "Thinking about a situation where we can use the two models as diagnostic in practice, we can imagine that the reduced feature set model would be a quick test, as it relies on fewer features, while the full feature set model would require more individual tests to be performed on a patient. For this task we consider the following diagnostic: first we perform a classification using the \"quick\" diagnostic using the reduced feature set model, if the decision function comes within one unit of the decision boundary (i.e. the model is not very confident of its answer) we perform the more thorough test using the full feature set, fixing the decision boundary for the full feature set model at 0. Produce a ROC curve for this diagnostic strategy and show it on a plot together with the ROC curve for the two models above. [20 marks]\n"
   ]
  },
  {
   "cell_type": "code",
   "execution_count": null,
   "metadata": {
    "deletable": false,
    "nbgrader": {
     "cell_type": "code",
     "checksum": "5a45c29e492b3e2f476e2696b8d292ca",
     "grade": false,
     "grade_id": "cell-dd773fc5953a213c",
     "locked": false,
     "schema_version": 3,
     "solution": true,
     "task": false
    }
   },
   "outputs": [],
   "source": [
    "# YOUR CODE HERE"
   ]
  },
  {
   "cell_type": "markdown",
   "metadata": {
    "deletable": false,
    "editable": false,
    "nbgrader": {
     "cell_type": "markdown",
     "checksum": "b6e014089e3582e9cee9cf687db06898",
     "grade": false,
     "grade_id": "comparison",
     "locked": true,
     "points": 36,
     "schema_version": 3,
     "solution": false,
     "task": true
    }
   },
   "source": [
    "**TASK 6:**\n",
    "\n",
    "Consider the following models:\n",
    "\n",
    "- a neural network with 4 hidden layers with each 4 nodes with sigmoid activation function,\n",
    "- a $k$-neighbors model with $k=5$\n",
    "- a Support Vector Machine.\n",
    "\n",
    "Use each of these model to fit the data using the full feature set. Using 5-fold cross validation make an estimate of the expected score and its uncertainty. Show your results in an error bar plot. Use cross validation to select paramters if necessary. [36 marks]\n"
   ]
  },
  {
   "cell_type": "code",
   "execution_count": null,
   "metadata": {
    "deletable": false,
    "nbgrader": {
     "cell_type": "code",
     "checksum": "f0dc83a5c35b1acdde43e324a4a95f08",
     "grade": false,
     "grade_id": "cell-70b3a544484f7785",
     "locked": false,
     "schema_version": 3,
     "solution": true,
     "task": false
    }
   },
   "outputs": [],
   "source": [
    "from sklearn.neural_network import MLPClassifier\n",
    "from sklearn.neighbors import KNeighborsClassifier\n",
    "from sklearn.svm import LinearSVC\n",
    "from sklearn.model_selection import cross_val_score\n",
    "\n",
    "# YOUR CODE HERE"
   ]
  }
 ],
 "metadata": {
  "kernelspec": {
   "display_name": "Python 3 (ipykernel)",
   "language": "python",
   "name": "python3"
  },
  "language_info": {
   "codemirror_mode": {
    "name": "ipython",
    "version": 3
   },
   "file_extension": ".py",
   "mimetype": "text/x-python",
   "name": "python",
   "nbconvert_exporter": "python",
   "pygments_lexer": "ipython3",
   "version": "3.9.12"
  }
 },
 "nbformat": 4,
 "nbformat_minor": 4
}
