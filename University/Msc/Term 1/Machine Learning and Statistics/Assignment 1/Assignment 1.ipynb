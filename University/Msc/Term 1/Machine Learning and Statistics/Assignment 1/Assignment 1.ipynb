{
 "cells": [
  {
   "cell_type": "markdown",
   "metadata": {
    "deletable": false,
    "editable": false,
    "nbgrader": {
     "cell_type": "markdown",
     "checksum": "786c35a7bbe6611733b9f1f3f7362d14",
     "grade": false,
     "grade_id": "cell-5df98e2c42315dfd",
     "locked": true,
     "schema_version": 3,
     "solution": false,
     "task": false
    }
   },
   "source": [
    "# Data Analysis Homework 1\n",
    "### Due date: Tuesday, October 15th 2024, 1 PM"
   ]
  },
  {
   "cell_type": "code",
   "execution_count": 2,
   "metadata": {
    "deletable": false,
    "editable": false,
    "nbgrader": {
     "cell_type": "code",
     "checksum": "4876ee73939cdb1df7dde0d6c95e01d5",
     "grade": false,
     "grade_id": "cell-6880a7a39f660792",
     "locked": true,
     "schema_version": 3,
     "solution": false,
     "task": false
    }
   },
   "outputs": [],
   "source": [
    "from __future__ import division\n",
    "from IPython.display import HTML\n",
    "from IPython.display import display\n",
    "from scipy.special import erf\n",
    "from scipy.special import erfc\n",
    "from math import factorial as factorial\n",
    "from random import seed\n",
    "from random import randint\n",
    "import numpy as np\n",
    "import pandas as pd\n",
    "import matplotlib.pyplot as plt\n",
    "\n",
    "# please do NOT import any other modules than the ones imported above"
   ]
  },
  {
   "cell_type": "markdown",
   "metadata": {
    "deletable": false,
    "editable": false,
    "nbgrader": {
     "cell_type": "markdown",
     "checksum": "9717c2fa42a852b1811dc07fadfa6368",
     "grade": false,
     "grade_id": "cell-391591ed0633fc70",
     "locked": true,
     "schema_version": 3,
     "solution": false,
     "task": false
    }
   },
   "source": [
    "## Question 1: Mean, Standard Deviation and Standard Error\n",
    "\n",
    "12 measurements of the sensitivity of a photo diode circuit (in Amps/Watt) are: \n",
    "<br>\n",
    "25.8, 26.2, 26.0, 26.5, 25.8, 26.1, 25.8, and 26.3. \n",
    "<br>\n",
    "Calculate:\n",
    "<br>\n",
    "(i) The Mean.\n",
    "<br>\n",
    "(ii) The Standard Deviation.\n",
    "<br>\n",
    "(iii) The Standard Error.\n",
    "<br>\n",
    "(iv) How would you report the result?"
   ]
  },
  {
   "cell_type": "markdown",
   "metadata": {
    "deletable": false,
    "editable": false,
    "nbgrader": {
     "cell_type": "markdown",
     "checksum": "d3a318615d7e5cfcf30ecf3fe2d6c239",
     "grade": false,
     "grade_id": "cell-23fb767aff3c3ff7",
     "locked": true,
     "schema_version": 3,
     "solution": false,
     "task": false
    }
   },
   "source": [
    "### (i) Calculate the Mean"
   ]
  },
  {
   "cell_type": "code",
   "execution_count": 12,
   "metadata": {
    "deletable": false,
    "nbgrader": {
     "cell_type": "code",
     "checksum": "20c5b8876af75f904430c7938abd88f7",
     "grade": false,
     "grade_id": "cell-1f30bb7600418b90",
     "locked": false,
     "schema_version": 3,
     "solution": true,
     "task": false
    }
   },
   "outputs": [
    {
     "data": {
      "text/plain": [
       "26.0625"
      ]
     },
     "execution_count": 12,
     "metadata": {},
     "output_type": "execute_result"
    }
   ],
   "source": [
    "data = [25.8, 26.2, 26., 26.5, 25.8, 26.1, 25.8, 26.3]\n",
    "\n",
    "def one_i(data):\n",
    "    '''Return the mean'''\n",
    "    return np.mean(data)\n",
    "    \n",
    "one_i(data)"
   ]
  },
  {
   "cell_type": "code",
   "execution_count": 13,
   "metadata": {
    "deletable": false,
    "editable": false,
    "nbgrader": {
     "cell_type": "code",
     "checksum": "808cc5218df3df01b0303693ec8d56e5",
     "grade": true,
     "grade_id": "cell-c8d84a9e66832e49",
     "locked": true,
     "points": 1,
     "schema_version": 3,
     "solution": false,
     "task": false
    }
   },
   "outputs": [],
   "source": [
    "'''TEST CELL- DO NOT DELETE'''\n",
    "# sanity checks:\n",
    "assert one_i(data) <= np.max(data)\n",
    "assert one_i(data) >= np.min(data)"
   ]
  },
  {
   "cell_type": "markdown",
   "metadata": {
    "deletable": false,
    "editable": false,
    "nbgrader": {
     "cell_type": "markdown",
     "checksum": "46cead234477cddc20427ed0162ad648",
     "grade": false,
     "grade_id": "cell-539feb16e1c24dc8",
     "locked": true,
     "schema_version": 3,
     "solution": false,
     "task": false
    }
   },
   "source": [
    "### (ii) Calculate the sample Standard Deviation."
   ]
  },
  {
   "cell_type": "code",
   "execution_count": 14,
   "metadata": {
    "deletable": false,
    "nbgrader": {
     "cell_type": "code",
     "checksum": "61dc713908310d3b63da34d8da23f26d",
     "grade": false,
     "grade_id": "cell-a39132967e02e09f",
     "locked": false,
     "schema_version": 3,
     "solution": true,
     "task": false
    }
   },
   "outputs": [
    {
     "data": {
      "text/plain": [
       "0.26152028055746845"
      ]
     },
     "execution_count": 14,
     "metadata": {},
     "output_type": "execute_result"
    }
   ],
   "source": [
    "def one_ii(data):\n",
    "    '''Return the standard deviation'''\n",
    "    # YOUR CODE HERE\n",
    "    mean = one_i(data)\n",
    "    std_dev = np.sqrt(sum([(i - mean)**2 for i in data])/ (len(data) - 1))\n",
    "    \n",
    "    return std_dev\n",
    "    \n",
    "one_ii(data)"
   ]
  },
  {
   "cell_type": "code",
   "execution_count": 15,
   "metadata": {
    "deletable": false,
    "editable": false,
    "nbgrader": {
     "cell_type": "code",
     "checksum": "cf43f9bf3885ab1a591a91407a6ff7c5",
     "grade": true,
     "grade_id": "cell-5b307d4b6811e71e",
     "locked": true,
     "points": 1,
     "schema_version": 3,
     "solution": false,
     "task": false
    }
   },
   "outputs": [],
   "source": [
    "'''TEST CELL- DO NOT DELETE'''\n",
    "# sanity check:\n",
    "assert one_ii(data) >= 0"
   ]
  },
  {
   "cell_type": "markdown",
   "metadata": {
    "deletable": false,
    "editable": false,
    "nbgrader": {
     "cell_type": "markdown",
     "checksum": "86612716c7292479aebb7f71a4755d4f",
     "grade": false,
     "grade_id": "cell-a199c2d3eaaeabaf",
     "locked": true,
     "schema_version": 3,
     "solution": false,
     "task": false
    }
   },
   "source": [
    "### (iii) Calculate the Standard Error."
   ]
  },
  {
   "cell_type": "code",
   "execution_count": 16,
   "metadata": {
    "deletable": false,
    "nbgrader": {
     "cell_type": "code",
     "checksum": "549e310bdac9e772cc70aeaab10a7d3a",
     "grade": false,
     "grade_id": "cell-d98d2b7fc610d222",
     "locked": false,
     "schema_version": 3,
     "solution": true,
     "task": false
    }
   },
   "outputs": [
    {
     "data": {
      "text/plain": [
       "0.09246138189999717"
      ]
     },
     "execution_count": 16,
     "metadata": {},
     "output_type": "execute_result"
    }
   ],
   "source": [
    "def one_iii(data):\n",
    "    '''Return the standard error'''\n",
    "    std_dev = one_ii(data)\n",
    "    std_error = std_dev / np.sqrt(len(data))\n",
    "    return std_error\n",
    "    \n",
    "one_iii(data)"
   ]
  },
  {
   "cell_type": "code",
   "execution_count": 17,
   "metadata": {
    "deletable": false,
    "editable": false,
    "nbgrader": {
     "cell_type": "code",
     "checksum": "85e3157716488f00320eb0a5518bc29e",
     "grade": true,
     "grade_id": "cell-e2c186bc7293c572",
     "locked": true,
     "points": 1,
     "schema_version": 3,
     "solution": false,
     "task": false
    }
   },
   "outputs": [],
   "source": [
    "'''TEST CELL- DO NOT DELETE'''\n",
    "# sanity check:\n",
    "assert one_ii(data) >= 0"
   ]
  },
  {
   "cell_type": "markdown",
   "metadata": {
    "deletable": false,
    "editable": false,
    "nbgrader": {
     "cell_type": "markdown",
     "checksum": "5a93724bd870ef5628f05d35158fb7cb",
     "grade": false,
     "grade_id": "cell-49744f7c13a892eb",
     "locked": true,
     "schema_version": 3,
     "solution": false,
     "task": false
    }
   },
   "source": [
    "### (iv) How would you report the result?"
   ]
  },
  {
   "cell_type": "markdown",
   "metadata": {
    "deletable": false,
    "nbgrader": {
     "cell_type": "markdown",
     "checksum": "d4deb590ff6014cfef026e94fa3edd6f",
     "grade": true,
     "grade_id": "cell-466eee4d73c04131",
     "locked": false,
     "points": 2,
     "schema_version": 3,
     "solution": true,
     "task": false
    }
   },
   "source": [
    "The mean is 26.06 Amps/Watt. The true value should be in 26.06 ± 0.09 Amps/Watt when it has 68% confidence(1$\\sigma$)"
   ]
  },
  {
   "cell_type": "markdown",
   "metadata": {
    "deletable": false,
    "editable": false,
    "nbgrader": {
     "cell_type": "markdown",
     "checksum": "4b5c1f5c8f3250a314a7065bfc1e0bf2",
     "grade": false,
     "grade_id": "cell-9d6e425a0d20717a",
     "locked": true,
     "schema_version": 3,
     "solution": false,
     "task": false
    }
   },
   "source": [
    "## Question 2: Error in the error\n",
    "\n",
    "Consider a set of measurements with the standard error calculated to be $\\alpha=0.987654321$.  Here we address the question of how many significant figures should be quoted.  \n",
    "\n",
    "Required:\n",
    "\n",
    "(i) Using pandas or any other software package, make a CSV file with four columns.  The first column should be $N$, the number of measurements on which $\\alpha$ is based.  In the second column write $\\alpha$ to the nine significant figures quoted above. The third and fourth columns should be ${\\displaystyle \\alpha\\left(1-\\frac{1}{\\sqrt{2N-2}}\\right)}$    and  ${\\displaystyle \\alpha\\left(1+\\frac{1}{\\sqrt{2N-2}}\\right)}$, respectively.  As we are interested in the variation over a large dynamic range, choose values for $N$ such as 2, 3, 5, 10, 20, 30, etc. \n",
    "<br>\n",
    "\n",
    "(ii) Verify the statement from Section 2.7.1 that the number of data points,  N , needs to approach a few tens of thousands before the second significant figure in the error can be quoted, i.e. when the values in the three columns become equal to the second significant figure. Use the model that you constructed in the previous part of the question and make appropiate comments using data\n",
    "<br>\n",
    "\n",
    "(iii) Repeat the analysis for the case where α=0.123456789, i.e. the first significant digit of the error is 1. Make appropiate comments.\n",
    "\n",
    "<br>\n",
    "(iv) How many data points must be collected before the third significant figure can be quoted?"
   ]
  },
  {
   "cell_type": "markdown",
   "metadata": {
    "deletable": false,
    "editable": false,
    "nbgrader": {
     "cell_type": "markdown",
     "checksum": "8b8739a13aa9c9f7c1cde7f0c2cbd5d2",
     "grade": false,
     "grade_id": "cell-d599e98cff358ee3",
     "locked": true,
     "schema_version": 3,
     "solution": false,
     "task": false
    }
   },
   "source": [
    "### (i) Using pandas or any other software package, make a CSV file with four columns.  The first column should be $N$, the number of measurements on which $\\alpha$ is based.  In the second column write $\\alpha$ to the nine significant figures quoted above. The third and fourth columns should be ${\\displaystyle \\alpha\\left(1-\\frac{1}{\\sqrt{2N-2}}\\right)}$    and  ${\\displaystyle \\alpha\\left(1+\\frac{1}{\\sqrt{2N-2}}\\right)}$, respectively.  As we are interested in the variation over a large dynamic range, choose values for $N$ such as 2, 3, 5, 10, 20, 30, etc. "
   ]
  },
  {
   "cell_type": "code",
   "execution_count": 3,
   "metadata": {
    "deletable": false,
    "nbgrader": {
     "cell_type": "code",
     "checksum": "c19de1098e0b91d073de786a9fab54f3",
     "grade": true,
     "grade_id": "cell-74e770bb8364e953",
     "locked": false,
     "points": 1,
     "schema_version": 3,
     "solution": true,
     "task": false
    }
   },
   "outputs": [
    {
     "data": {
      "text/html": [
       "<div>\n",
       "<style scoped>\n",
       "    .dataframe tbody tr th:only-of-type {\n",
       "        vertical-align: middle;\n",
       "    }\n",
       "\n",
       "    .dataframe tbody tr th {\n",
       "        vertical-align: top;\n",
       "    }\n",
       "\n",
       "    .dataframe thead th {\n",
       "        text-align: right;\n",
       "    }\n",
       "</style>\n",
       "<table border=\"1\" class=\"dataframe\">\n",
       "  <thead>\n",
       "    <tr style=\"text-align: right;\">\n",
       "      <th></th>\n",
       "      <th>N</th>\n",
       "      <th>alpha</th>\n",
       "      <th>alpha * (1 - (1 / sqrt(2N - 2)))</th>\n",
       "      <th>alpha * (1 + (1 / sqrt(2N - 2)))</th>\n",
       "    </tr>\n",
       "  </thead>\n",
       "  <tbody>\n",
       "    <tr>\n",
       "      <th>0</th>\n",
       "      <td>2</td>\n",
       "      <td>0.987654321</td>\n",
       "      <td>0.289277</td>\n",
       "      <td>1.686031</td>\n",
       "    </tr>\n",
       "    <tr>\n",
       "      <th>1</th>\n",
       "      <td>3</td>\n",
       "      <td>0.987654321</td>\n",
       "      <td>0.493827</td>\n",
       "      <td>1.481481</td>\n",
       "    </tr>\n",
       "    <tr>\n",
       "      <th>2</th>\n",
       "      <td>5</td>\n",
       "      <td>0.987654321</td>\n",
       "      <td>0.638466</td>\n",
       "      <td>1.336843</td>\n",
       "    </tr>\n",
       "    <tr>\n",
       "      <th>3</th>\n",
       "      <td>10</td>\n",
       "      <td>0.987654321</td>\n",
       "      <td>0.754862</td>\n",
       "      <td>1.220447</td>\n",
       "    </tr>\n",
       "    <tr>\n",
       "      <th>4</th>\n",
       "      <td>20</td>\n",
       "      <td>0.987654321</td>\n",
       "      <td>0.827436</td>\n",
       "      <td>1.147873</td>\n",
       "    </tr>\n",
       "    <tr>\n",
       "      <th>5</th>\n",
       "      <td>30</td>\n",
       "      <td>0.987654321</td>\n",
       "      <td>0.857969</td>\n",
       "      <td>1.117340</td>\n",
       "    </tr>\n",
       "  </tbody>\n",
       "</table>\n",
       "</div>"
      ],
      "text/plain": [
       "    N        alpha  alpha * (1 - (1 / sqrt(2N - 2)))  \\\n",
       "0   2  0.987654321                          0.289277   \n",
       "1   3  0.987654321                          0.493827   \n",
       "2   5  0.987654321                          0.638466   \n",
       "3  10  0.987654321                          0.754862   \n",
       "4  20  0.987654321                          0.827436   \n",
       "5  30  0.987654321                          0.857969   \n",
       "\n",
       "   alpha * (1 + (1 / sqrt(2N - 2)))  \n",
       "0                          1.686031  \n",
       "1                          1.481481  \n",
       "2                          1.336843  \n",
       "3                          1.220447  \n",
       "4                          1.147873  \n",
       "5                          1.117340  "
      ]
     },
     "execution_count": 3,
     "metadata": {},
     "output_type": "execute_result"
    }
   ],
   "source": [
    "N_values = [2, 3, 5, 10, 20, 30]\n",
    "\n",
    "alpha = 0.987654321\n",
    "\n",
    "def third_columns(N, alpha):\n",
    "    return alpha * (1 - (1 / np.sqrt(2 * N - 2)))\n",
    "\n",
    "def fourth_columns(N , alpha):\n",
    "    return alpha * (1 + (1 / np.sqrt(2 * N - 2)))\n",
    "\n",
    "data = {\n",
    "    \"N\": N_values,\n",
    "    \"alpha\": [f\"{alpha:.9f}\" for _ in N_values],\n",
    "    \"alpha * (1 - (1 / sqrt(2N - 2)))\": [third_columns(N, alpha) for N in N_values],\n",
    "    \"alpha * (1 + (1 / sqrt(2N - 2)))\": [fourth_columns(N, alpha) for N in N_values],\n",
    "}\n",
    "\n",
    "df = pd.DataFrame(data)\n",
    "\n",
    "df"
   ]
  },
  {
   "cell_type": "markdown",
   "metadata": {
    "deletable": false,
    "editable": false,
    "nbgrader": {
     "cell_type": "markdown",
     "checksum": "99aac8769d8631012737cc92cae77fe9",
     "grade": false,
     "grade_id": "cell-5993b07c1f78a9e5",
     "locked": true,
     "schema_version": 3,
     "solution": false,
     "task": false
    }
   },
   "source": [
    "### (ii) Verify the statement from Section 2.7.1 that the number of data points,  N , needs to approach a few tens of thousands before the second significant figure in the error can be quoted, i.e. when the values in the three columns become equal to the second significant figure. Use the model that you constructed in the previous part of the question and make appropiate comments using data"
   ]
  },
  {
   "cell_type": "code",
   "execution_count": 4,
   "metadata": {
    "deletable": false,
    "nbgrader": {
     "cell_type": "code",
     "checksum": "79f220a45172b1fe46b1ab45caf73ecf",
     "grade": true,
     "grade_id": "cell-714efb565da7d9a8",
     "locked": false,
     "points": 1,
     "schema_version": 3,
     "solution": true,
     "task": false
    }
   },
   "outputs": [
    {
     "name": "stdout",
     "output_type": "stream",
     "text": [
      "The number of data points, N , needs to approach 70002 before the second significant figure in the error can be quoted\n",
      "The number of data points, N , needs to approach 3201 before the first significant figure in the error can be quoted\n",
      "The number of data points, N , needs to approach 4082002 before the third significant figure in the error can be quoted\n"
     ]
    }
   ],
   "source": [
    "def find_n_signifcant(n, alpha, step_size):\n",
    "    N = 2\n",
    "    alpha_round = round(alpha, n)\n",
    "    third = round(third_columns(N, alpha), n)\n",
    "    fourth = round(fourth_columns(N, alpha), n)\n",
    "    while not (third == fourth == alpha_round):\n",
    "        N += step_size\n",
    "        third = round(third_columns(N, alpha), n)\n",
    "        fourth = round(fourth_columns(N, alpha), n)\n",
    "    return N\n",
    "\n",
    "approach_number_2 = find_n_signifcant(2, alpha, 1000)\n",
    "print(f\"The number of data points, N , needs to approach {approach_number_2} before the second significant figure in the error can be quoted\")\n",
    "\n",
    "alpha2 = 0.123456789\n",
    "approach_number_1 = find_n_signifcant(2, alpha2, 1)\n",
    "print(f\"The number of data points, N , needs to approach {approach_number_1} before the second significant figure in the error can be quoted\")\n",
    "\n",
    "approach_number_3 = find_n_signifcant(3, alpha2, 1000)\n",
    "print(f\"The number of data points, N , needs to approach {approach_number_3} before the third significant figure in the error can be quoted\")\n"
   ]
  },
  {
   "cell_type": "markdown",
   "metadata": {
    "deletable": false,
    "editable": false,
    "nbgrader": {
     "cell_type": "markdown",
     "checksum": "c849acec52b7f6e6ce18c095e04d286c",
     "grade": false,
     "grade_id": "cell-f75cd98f6880a76d",
     "locked": true,
     "schema_version": 3,
     "solution": false,
     "task": false
    }
   },
   "source": [
    "### (iii) Repeat the analysis for the case where  α=0.123456789, i.e. the first significant digit of the error is 1. Make appropiate comments."
   ]
  },
  {
   "cell_type": "markdown",
   "metadata": {
    "deletable": false,
    "nbgrader": {
     "cell_type": "markdown",
     "checksum": "d12b071091002c85867ba080abda1e1a",
     "grade": true,
     "grade_id": "cell-2a6f2602c2bf313b",
     "locked": false,
     "points": 2,
     "schema_version": 3,
     "solution": true,
     "task": false
    }
   },
   "source": [
    "The number of data points, N , needs to approach 12 before the first significant figure in the error can be quoted"
   ]
  },
  {
   "cell_type": "markdown",
   "metadata": {
    "deletable": false,
    "editable": false,
    "nbgrader": {
     "cell_type": "markdown",
     "checksum": "1fe325c0df9f6bfcebb95381e4bfdfa4",
     "grade": false,
     "grade_id": "cell-777db7dee58f70c3",
     "locked": true,
     "schema_version": 3,
     "solution": false,
     "task": false
    }
   },
   "source": [
    "### (iv) How many data points must be collected before the third significant figure can be quoted?"
   ]
  },
  {
   "cell_type": "markdown",
   "metadata": {
    "deletable": false,
    "nbgrader": {
     "cell_type": "markdown",
     "checksum": "c00f8163f55fcdfccbf88b627f12fb63",
     "grade": true,
     "grade_id": "cell-16c1501b47df208b",
     "locked": false,
     "points": 1,
     "schema_version": 3,
     "solution": true,
     "task": false
    }
   },
   "source": [
    "The number of data points, N , needs to approach 20480002 before the third significant figure in the error can be quoted(test in step size = 1000)"
   ]
  },
  {
   "cell_type": "markdown",
   "metadata": {
    "deletable": false,
    "editable": false,
    "nbgrader": {
     "cell_type": "markdown",
     "checksum": "5e6e672f1f24847c00a77670389d33b1",
     "grade": false,
     "grade_id": "cell-c835d3c4ea562667",
     "locked": true,
     "schema_version": 3,
     "solution": false,
     "task": false
    }
   },
   "source": [
    "## Question 3: Confidence limits for a Gaussian Distribution\n",
    "\n",
    "|Centred on Mean | Measurements within range | Measurements outside range |\n",
    "| --- | --- | --- |\n",
    "| $\\pm\\sigma$ | 68% | 32% |\n",
    "| $\\pm1.65\\sigma$ | 90% | 10% |\n",
    "| $\\pm2\\sigma$ | 95% | 5% |\n",
    "| $\\pm2.58\\sigma$ | 99% | 1% |\n",
    "| $\\pm3\\sigma$ | 99.7% | 0.3% |\n",
    "\n",
    "(i) Verify the results of the above table for the fraction of the data which lies within different ranges of a Gaussian probability distribution function. \n",
    "\n",
    "<br>\n",
    "(ii) What fraction of the data lies outside the following ranges from the mean? \n",
    "<br>\n",
    "(a) $\\pm4\\sigma$ \n",
    "<br>\n",
    "(b) $\\pm5\\sigma$. \n",
    "\n",
    "(iii) What is the (symmetric) range within which the following fractions of the data lie, leaving your answer in terms of $\\sigma$? \n",
    "<br>\n",
    " (a) 50% \n",
    "<br>\n",
    " (b) 99.9%."
   ]
  },
  {
   "cell_type": "markdown",
   "metadata": {
    "deletable": false,
    "editable": false,
    "nbgrader": {
     "cell_type": "markdown",
     "checksum": "7784359f763723d29e91a95caa10ebc4",
     "grade": false,
     "grade_id": "cell-6b9340cab837f845",
     "locked": true,
     "schema_version": 3,
     "solution": false,
     "task": false
    }
   },
   "source": [
    "### (i) Verify the results of the above table for the fraction of the data which lies within different ranges of a Gaussian probability distribution function. You must return your answers as an ARRAY OF PERCENTAGES."
   ]
  },
  {
   "cell_type": "code",
   "execution_count": 18,
   "metadata": {
    "deletable": false,
    "nbgrader": {
     "cell_type": "code",
     "checksum": "6411d4af926541a933e8bdcf90f50a3d",
     "grade": false,
     "grade_id": "cell-cb3b3ea0dd967211",
     "locked": false,
     "schema_version": 3,
     "solution": true,
     "task": false
    }
   },
   "outputs": [
    {
     "data": {
      "text/plain": [
       "[68.26894921370858,\n",
       " 90.10570639327038,\n",
       " 95.44997361036415,\n",
       " 99.01199684844588,\n",
       " 99.73002039367398]"
      ]
     },
     "execution_count": 18,
     "metadata": {},
     "output_type": "execute_result"
    }
   ],
   "source": [
    "def three_i():\n",
    "    '''Return the measurements in range as an array. '''\n",
    "    sigma_values = [1., 1.65, 2., 2.58, 3.]\n",
    "    \n",
    "    measurements_in_range = [ erf(sigma / np.sqrt(2)) * 100 for sigma in sigma_values]\n",
    "    \n",
    "    return(measurements_in_range)\n",
    "three_i()"
   ]
  },
  {
   "cell_type": "code",
   "execution_count": 19,
   "metadata": {
    "deletable": false,
    "editable": false,
    "nbgrader": {
     "cell_type": "code",
     "checksum": "46cc145c7233c00cb4068ce8f9c13e00",
     "grade": true,
     "grade_id": "cell-ef65dc2928c4f4e3",
     "locked": true,
     "points": 1,
     "schema_version": 3,
     "solution": false,
     "task": false
    }
   },
   "outputs": [],
   "source": [
    "'''TEST CELL- DO NOT DELETE'''\n",
    "# sanity check\n",
    "assert type(three_i()) == list or type(three_i()) ==np.ndarray"
   ]
  },
  {
   "cell_type": "markdown",
   "metadata": {
    "deletable": false,
    "editable": false,
    "nbgrader": {
     "cell_type": "markdown",
     "checksum": "301e2432339ce01169470139bb5074da",
     "grade": false,
     "grade_id": "cell-556fd501de70283d",
     "locked": true,
     "schema_version": 3,
     "solution": false,
     "task": false
    }
   },
   "source": [
    "### (ii) What fraction of the data lies outside the following ranges from the mean? You must return your answer as a PERCENTAGE.\n",
    "\n",
    "<br>\n",
    "(a) $\\pm4\\sigma$ \n",
    "    \n",
    "<br>\n",
    "(b) $\\pm5\\sigma$.  \n",
    "\n"
   ]
  },
  {
   "cell_type": "code",
   "execution_count": 3,
   "metadata": {
    "deletable": false,
    "nbgrader": {
     "cell_type": "code",
     "checksum": "1467da726fa217c6f99db44c3df20a34",
     "grade": false,
     "grade_id": "cell-b7cac0e7b716f636",
     "locked": false,
     "schema_version": 3,
     "solution": true,
     "task": false
    }
   },
   "outputs": [
    {
     "name": "stdout",
     "output_type": "stream",
     "text": [
      "0.006334248366623996\n",
      "5.73303143758389e-05\n"
     ]
    }
   ],
   "source": [
    "def three_iia():\n",
    "    '''Return the fraction of measurements outside the range as a PERCENTAGE'''\n",
    "    return erfc(4 / np.sqrt(2)) * 100\n",
    "\n",
    "def three_iib():\n",
    "    '''Return the fraction of measurements outside the range as a PERCENTAGE'''\n",
    "    return erfc(5 / np.sqrt(2)) * 100\n",
    "    \n",
    "print(three_iia())\n",
    "print(three_iib())\n"
   ]
  },
  {
   "cell_type": "code",
   "execution_count": 21,
   "metadata": {
    "deletable": false,
    "editable": false,
    "nbgrader": {
     "cell_type": "code",
     "checksum": "a3f8da271bf6e897ba0d1f3d7770c88f",
     "grade": true,
     "grade_id": "cell-d42c99dc6210d903",
     "locked": true,
     "points": 1,
     "schema_version": 3,
     "solution": false,
     "task": false
    }
   },
   "outputs": [],
   "source": [
    "'''TEST CELL- DO NOT DELETE'''\n",
    "# sanity checks:\n",
    "assert three_iia() >= 0.0\n",
    "assert three_iia() <= 1.0"
   ]
  },
  {
   "cell_type": "code",
   "execution_count": 22,
   "metadata": {
    "deletable": false,
    "editable": false,
    "nbgrader": {
     "cell_type": "code",
     "checksum": "d1edad8ed70fbf5fae3eb1425a487649",
     "grade": true,
     "grade_id": "cell-380c9ec897a92b29",
     "locked": true,
     "points": 1,
     "schema_version": 3,
     "solution": false,
     "task": false
    }
   },
   "outputs": [],
   "source": [
    "'''TEST CELL- DO NOT DELETE'''\n",
    "# sanity checks:\n",
    "assert three_iib() >= 0.0\n",
    "assert three_iib() <= 1.0"
   ]
  },
  {
   "cell_type": "markdown",
   "metadata": {
    "deletable": false,
    "editable": false,
    "nbgrader": {
     "cell_type": "markdown",
     "checksum": "9e0c8d68e1f524c70eafe0b01b05791e",
     "grade": false,
     "grade_id": "cell-94af1f6921d1ba1b",
     "locked": true,
     "schema_version": 3,
     "solution": false,
     "task": false
    }
   },
   "source": [
    "### (iii) What is the (symmetric) range within which the following fractions of the data lie, leaving your answer in terms of $\\sigma$?\n",
    "\n",
    "<br>\n",
    "(a) 50% \n",
    "<br>\n",
    "(b) 99.9%."
   ]
  },
  {
   "cell_type": "code",
   "execution_count": 23,
   "metadata": {
    "deletable": false,
    "nbgrader": {
     "cell_type": "code",
     "checksum": "04276ac126736ddebaf838d309c75e26",
     "grade": false,
     "grade_id": "cell-ea06e70d0156df5d",
     "locked": false,
     "schema_version": 3,
     "solution": true,
     "task": false
    }
   },
   "outputs": [
    {
     "name": "stdout",
     "output_type": "stream",
     "text": [
      "Multiple of sigma for 50% of the data: 0.6745\n",
      "Multiple of sigma for 99.9% of the data: 3.2906\n"
     ]
    }
   ],
   "source": [
    "def find_sigma(target):\n",
    "    z = 0\n",
    "    step = 0.0001\n",
    "    while erf(z / np.sqrt(2)) < target:\n",
    "        z += step\n",
    "    return z\n",
    "def three_iiia():\n",
    "    '''Return the multiple of sigma'''\n",
    "    target = 0.5\n",
    "    sigma_multiple = find_sigma(target)\n",
    "    return sigma_multiple\n",
    "\n",
    "def three_iiib():\n",
    "    '''Return the multiple of sigma'''\n",
    "    target = 0.999\n",
    "    sigma_multiple = find_sigma(target)\n",
    "    return sigma_multiple\n",
    "\n",
    "print(f\"Multiple of sigma for 50% of the data: {three_iiia():.4f}\")\n",
    "print(f\"Multiple of sigma for 99.9% of the data: {three_iiib():.4f}\")"
   ]
  },
  {
   "cell_type": "code",
   "execution_count": 16,
   "metadata": {
    "deletable": false,
    "editable": false,
    "nbgrader": {
     "cell_type": "code",
     "checksum": "c3d41d0990e894f75326ad21190a96e3",
     "grade": true,
     "grade_id": "cell-9c6fe6f7619bc07e",
     "locked": true,
     "points": 1,
     "schema_version": 3,
     "solution": false,
     "task": false
    }
   },
   "outputs": [],
   "source": [
    "'''TEST CELL- DO NOT DELETE'''\n",
    "# sanity checks:\n",
    "assert three_iiia() >= 0.0"
   ]
  },
  {
   "cell_type": "code",
   "execution_count": 17,
   "metadata": {
    "deletable": false,
    "editable": false,
    "nbgrader": {
     "cell_type": "code",
     "checksum": "68333e0e1532942716efc68fefbdf2a8",
     "grade": true,
     "grade_id": "cell-cc5b8aa06feca6d8",
     "locked": true,
     "points": 1,
     "schema_version": 3,
     "solution": false,
     "task": false
    }
   },
   "outputs": [],
   "source": [
    "'''TEST CELL- DO NOT DELETE'''\n",
    "# sanity check\n",
    "assert three_iiib() >= 0.0"
   ]
  },
  {
   "cell_type": "markdown",
   "metadata": {},
   "source": [
    "## Question 4: Identifying a Potential Outlier\n",
    "\n",
    "Seven successive measurements of the charge stored on a capacitor (all in $\\mu C$) are: \n",
    "<bf>\n",
    "45.7, 53.2, 48.4, 45.1, 51.4, 62.1 and 49.3. \n",
    "<bf>\n",
    "The sixth reading appears anomalously large. \n",
    "\n",
    "Required:\n",
    "<br>\n",
    "(i) Apply Chauvenet’s criterion to ascertain whether this data point should be rejected. In the comment, you must state 'ACCEPT' or 'REJECT'. \n",
    "<br>\n",
    "(ii) Having decided whether to keep 6 or 7 data points, calculate:\n",
    "<br>\n",
    "<blockquote>\n",
    "(a) The Mean\n",
    "</blockquote>\n",
    "<bf>\n",
    "<blockquote>\n",
    "(b) Standard Deviation\n",
    "</blockquote>\n",
    "<bf>\n",
    "<blockquote>\n",
    "(c) Error of the Charge."
   ]
  },
  {
   "cell_type": "markdown",
   "metadata": {
    "deletable": false,
    "editable": false,
    "nbgrader": {
     "cell_type": "markdown",
     "checksum": "45a577add978f832cfeed6362d2f6cb8",
     "grade": false,
     "grade_id": "cell-7b14766c8e43ccd0",
     "locked": true,
     "schema_version": 3,
     "solution": false,
     "task": false
    }
   },
   "source": [
    "### (i) Apply Chauvenet’s criterion to ascertain whether this data point should be rejected. In the comment, you must state 'ACCEPT' or 'REJECT'. "
   ]
  },
  {
   "cell_type": "code",
   "execution_count": 26,
   "metadata": {
    "deletable": false,
    "nbgrader": {
     "cell_type": "code",
     "checksum": "bf2facc5daa42d3ee152307c0968b002",
     "grade": false,
     "grade_id": "cell-d57a8bde9200f07a",
     "locked": false,
     "schema_version": 3,
     "solution": true,
     "task": false
    }
   },
   "outputs": [],
   "source": [
    "data_points = [45.7, 53.2, 48.4, 45.1, 51.4, 62.1, 49.3]\n",
    "\n",
    "def four_i():\n",
    "    '''Your function must return the probability of an outlier, n_out and your comment to ACCEPT or REJECT'''\n",
    "    probability_outlier = 0\n",
    "    n_out = 0\n",
    "    comment = ''\n",
    "    \n",
    "    mean = one_i(data_points)\n",
    "    std_dev = one_ii(data_points)\n",
    "    \n",
    "    outlier = data_points[5]\n",
    "    z_value = abs(outlier - mean) / std_dev\n",
    "    \n",
    "    probability_outlier = 1 - erf(z_value / np.sqrt(2))\n",
    "    \n",
    "    N = len(data_points)\n",
    "    threshold = 1/ (2 * N)\n",
    "    \n",
    "    if probability_outlier < threshold:\n",
    "        comment = 'REJECT'\n",
    "    else:\n",
    "        comment = 'ACCEPT'\n",
    "        \n",
    "    n_out = probability_outlier * N\n",
    "    \n",
    "    return(float(probability_outlier),float(n_out),comment)\n",
    "\n",
    "'''TEST CELL- DO NOT DELETE'''\n",
    "# sanity check\n",
    "test = four_i()\n",
    "assert type(test[0]) == float\n",
    "assert type(test[1]) == float\n",
    "assert type(test[2]) == str\n",
    "### BEGIN HIDDEN TESTS\n",
    "'''Tests probability_outlier'''\n",
    "assert test[0]>0.046\n",
    "assert test[0]<0.054\n",
    "assert test[1]>0.34\n",
    "assert test[1]<0.36\n",
    "assert test[2] == 'REJECT'\n",
    "### END HIDDEN TESTS"
   ]
  },
  {
   "cell_type": "code",
   "execution_count": 27,
   "metadata": {
    "deletable": false,
    "editable": false,
    "nbgrader": {
     "cell_type": "code",
     "checksum": "4159f6356eb2a0872beb4a5162e64f07",
     "grade": true,
     "grade_id": "cell-cbccc601f98153fe",
     "locked": true,
     "points": 2,
     "schema_version": 3,
     "solution": false,
     "task": false
    }
   },
   "outputs": [],
   "source": [
    "'''TEST CELL- DO NOT DELETE'''\n",
    "# sanity check\n",
    "test = four_i()\n",
    "assert type(test[0]) == float\n",
    "assert type(test[1]) == float\n",
    "assert type(test[2]) == str"
   ]
  },
  {
   "cell_type": "markdown",
   "metadata": {
    "deletable": false,
    "editable": false,
    "nbgrader": {
     "cell_type": "markdown",
     "checksum": "ddc9eeecacb1e1481472956be411fd44",
     "grade": false,
     "grade_id": "cell-5414540ba84410ed",
     "locked": true,
     "schema_version": 3,
     "solution": false,
     "task": false
    }
   },
   "source": [
    "### (iia) Having decided whether to keep 6 or 7 datapoints, calculate the mean."
   ]
  },
  {
   "cell_type": "code",
   "execution_count": 28,
   "metadata": {
    "deletable": false,
    "nbgrader": {
     "cell_type": "code",
     "checksum": "04a19239276fa7be0c28a72dec5cea98",
     "grade": false,
     "grade_id": "cell-57df2747e1fa2468",
     "locked": false,
     "schema_version": 3,
     "solution": true,
     "task": false
    }
   },
   "outputs": [],
   "source": [
    "def four_iia():\n",
    "    '''Your function should return the mean'''\n",
    "    _, _, comment = four_i()\n",
    "    if comment == 'REJECT':\n",
    "        filtered_data_points = data_points[:5] + data_points[6:]\n",
    "    else:\n",
    "        filtered_data_points = data_points\n",
    "        \n",
    "    mean = one_i(filtered_data_points)\n",
    "    \n",
    "    return mean\n",
    "\n",
    "'''TEST CELL- DO NOT DELETE'''\n",
    "# sanity check:\n",
    "assert four_iia() > 0.0\n",
    "### BEGIN HIDDEN TESTS\n",
    "assert four_iia() >47.8\n",
    "assert four_iia() < 49.4\n",
    "### END HIDDEN TESTS"
   ]
  },
  {
   "cell_type": "code",
   "execution_count": 29,
   "metadata": {
    "deletable": false,
    "editable": false,
    "nbgrader": {
     "cell_type": "code",
     "checksum": "e2d7607d9e318252ff800090ce51be04",
     "grade": true,
     "grade_id": "cell-c5eefbd8840abd9e",
     "locked": true,
     "points": 1,
     "schema_version": 3,
     "solution": false,
     "task": false
    }
   },
   "outputs": [],
   "source": [
    "'''TEST CELL- DO NOT DELETE'''\n",
    "# sanity check:\n",
    "assert four_iia() > 0.0"
   ]
  },
  {
   "cell_type": "markdown",
   "metadata": {
    "deletable": false,
    "editable": false,
    "nbgrader": {
     "cell_type": "markdown",
     "checksum": "6c69a038b7be64d53d469805b078049b",
     "grade": false,
     "grade_id": "cell-441fa0b8a14d768d",
     "locked": true,
     "schema_version": 3,
     "solution": false,
     "task": false
    }
   },
   "source": [
    "### (iib) Having decided whether to keep 6 or 7 datapoints, calculate the standard deviation."
   ]
  },
  {
   "cell_type": "code",
   "execution_count": 30,
   "metadata": {
    "deletable": false,
    "nbgrader": {
     "cell_type": "code",
     "checksum": "b6cfa6b9c874f33b52d059bac86d5682",
     "grade": false,
     "grade_id": "cell-c516a3dbbe1b564d",
     "locked": false,
     "schema_version": 3,
     "solution": true,
     "task": false
    }
   },
   "outputs": [],
   "source": [
    "def four_iib():\n",
    "    '''Your function should return the standard deviation'''\n",
    "    _, _, comment = four_i()\n",
    "    if comment == 'REJECT':\n",
    "        filtered_data_points = data_points[:5] + data_points[6:]\n",
    "    else:\n",
    "        filtered_data_points = data_points\n",
    "        \n",
    "    std_dev = one_ii(filtered_data_points)\n",
    "    \n",
    "    return std_dev\n",
    "\n",
    "'''TEST CELL- DO NOT DELETE'''\n",
    "assert four_iib() > 0.0\n",
    "### BEGIN HIDDEN TESTS\n",
    "assert four_iib() > 3.1\n",
    "assert four_iib() < 3.3\n",
    "### END HIDDEN TESTS"
   ]
  },
  {
   "cell_type": "code",
   "execution_count": 31,
   "metadata": {
    "deletable": false,
    "editable": false,
    "nbgrader": {
     "cell_type": "code",
     "checksum": "3389aa1f3901fb87ae38b27a1db2ecf9",
     "grade": true,
     "grade_id": "cell-e20d058c1f4f740b",
     "locked": true,
     "points": 1,
     "schema_version": 3,
     "solution": false,
     "task": false
    }
   },
   "outputs": [],
   "source": [
    "'''TEST CELL- DO NOT DELETE'''\n",
    "assert four_iib() > 0.0"
   ]
  },
  {
   "cell_type": "markdown",
   "metadata": {
    "deletable": false,
    "editable": false,
    "nbgrader": {
     "cell_type": "markdown",
     "checksum": "acbaa8661cd875df57b01c0aa4622c5a",
     "grade": false,
     "grade_id": "cell-6f50253083fc8efb",
     "locked": true,
     "schema_version": 3,
     "solution": false,
     "task": false
    }
   },
   "source": [
    "### (iic) Having decided whether to keep 6 or 7 datapoints, calculate the standard error."
   ]
  },
  {
   "cell_type": "code",
   "execution_count": 32,
   "metadata": {
    "deletable": false,
    "nbgrader": {
     "cell_type": "code",
     "checksum": "ea1943fb57a54d9398e9a16dfebc0840",
     "grade": false,
     "grade_id": "cell-72bdab1dc4e58cb5",
     "locked": false,
     "schema_version": 3,
     "solution": true,
     "task": false
    }
   },
   "outputs": [],
   "source": [
    "def four_iic():\n",
    "    '''Your function should return the standard error'''\n",
    "    _, _, comment = four_i()\n",
    "    if comment == 'REJECT':\n",
    "        filtered_data_points = data_points[:5] + data_points[6:]\n",
    "    else:\n",
    "        filtered_data_points = data_points\n",
    "        \n",
    "    std_error = one_iii(filtered_data_points)\n",
    "    \n",
    "    return std_error\n",
    "\n",
    "'''TEST CELL- DO NOT DELETE'''\n",
    "# sanity check:\n",
    "assert four_iic() > 0.0\n",
    "### BEGIN HIDDEN TESTS\n",
    "assert four_iic() > 1.24\n",
    "assert four_iic() < 1.39\n",
    "### END HIDDEN TESTS"
   ]
  },
  {
   "cell_type": "code",
   "execution_count": 33,
   "metadata": {
    "deletable": false,
    "editable": false,
    "nbgrader": {
     "cell_type": "code",
     "checksum": "770f4efc2c94c1f14ddffad3773e3ca2",
     "grade": true,
     "grade_id": "cell-dddf086593ffbb44",
     "locked": true,
     "points": 1,
     "schema_version": 3,
     "solution": false,
     "task": false
    }
   },
   "outputs": [],
   "source": [
    "'''TEST CELL- DO NOT DELETE'''\n",
    "# sanity check:\n",
    "assert four_iic() > 0.0"
   ]
  },
  {
   "cell_type": "markdown",
   "metadata": {
    "deletable": false,
    "editable": false,
    "nbgrader": {
     "cell_type": "markdown",
     "checksum": "1f5b22af2b9d23c92de21c20f0981b15",
     "grade": false,
     "grade_id": "cell-a152b676ad381ebc",
     "locked": true,
     "schema_version": 3,
     "solution": false,
     "task": false
    }
   },
   "source": [
    "## Question 5: Poisson and Gaussian\n",
    "\n",
    "Required:\n",
    "<br>\n",
    "\n",
    "(i) Plot a histogram of a Poisson distribution with mean 35.  \n",
    "<br>\n",
    "\n",
    "(ii) Using the same axes plot the continuous function of a Gaussian with a mean of 35, and standard deviation $\\sqrt{35}$.  \n",
    "<br>\n",
    "\n",
    "(iii) Comment on the similarities and differences between the distributions."
   ]
  },
  {
   "cell_type": "markdown",
   "metadata": {
    "deletable": false,
    "editable": false,
    "nbgrader": {
     "cell_type": "markdown",
     "checksum": "d602e202596fb8f069aa09f1421e7efe",
     "grade": false,
     "grade_id": "cell-15b2117e9f2f7163",
     "locked": true,
     "schema_version": 3,
     "solution": false,
     "task": false
    }
   },
   "source": [
    "### (i) Plot a histogram of a Poisson distribution with mean 35.  \n",
    "<bf>\n",
    "### (ii) Using the same axes plot the continuous function of a Gaussian with a mean of 35, and standard deviation $\\sqrt{35}$. "
   ]
  },
  {
   "cell_type": "code",
   "execution_count": 26,
   "metadata": {
    "deletable": false,
    "nbgrader": {
     "cell_type": "code",
     "checksum": "d411a6a22c3661e3021ec2422c8ef273",
     "grade": true,
     "grade_id": "cell-0426f30beebbbf0a",
     "locked": false,
     "points": 3,
     "schema_version": 3,
     "solution": true,
     "task": false
    }
   },
   "outputs": [
    {
     "data": {
      "image/png": "[encoded data removed]",
      "text/plain": [
       "<Figure size 432x288 with 1 Axes>"
      ]
     },
     "metadata": {
      "needs_background": "light"
     },
     "output_type": "display_data"
    }
   ],
   "source": [
    "def five_i_and_ii():\n",
    "    np.random.seed(0)\n",
    "    mean_poisson = 35\n",
    "    poisson_data = np.random.poisson(mean_poisson, 1000)\n",
    "    \n",
    "    plt.hist(poisson_data, bins=100, label='Poisson Distribution')\n",
    "    \n",
    "    mean_gaussian = 35\n",
    "    std_gaussian = np.sqrt(35)\n",
    "    x = np.linspace(20, 50, 1000)\n",
    "    \n",
    "    gaussian_function = (1 / (std_gaussian * np.sqrt(2 * np.pi))) * np.exp(- ((x - mean_gaussian) / std_gaussian)**2 / 2)\n",
    "\n",
    "    plt.plot(x, gaussian_function * 1000, label='Gaussian Distribution')\n",
    "\n",
    "    plt.title('Comparison of Poisson and Gaussian Distributions')\n",
    "    plt.xlabel('Value')\n",
    "    plt.ylabel('Frequency')\n",
    "    plt.legend()\n",
    "\n",
    "five_i_and_ii()"
   ]
  },
  {
   "cell_type": "markdown",
   "metadata": {
    "deletable": false,
    "editable": false,
    "nbgrader": {
     "cell_type": "markdown",
     "checksum": "e670d8324b0291a381638563cc07239d",
     "grade": false,
     "grade_id": "cell-5fa38a2ed1140bbb",
     "locked": true,
     "schema_version": 3,
     "solution": false,
     "task": false
    }
   },
   "source": [
    "### (iii) Comment on the similarities and differences between the distributions."
   ]
  },
  {
   "cell_type": "markdown",
   "metadata": {
    "deletable": false,
    "nbgrader": {
     "cell_type": "markdown",
     "checksum": "d86bccb99bcc0c294307a1f430539ae7",
     "grade": true,
     "grade_id": "cell-9806cc011bb8f9fa",
     "locked": false,
     "points": 2,
     "schema_version": 3,
     "solution": true,
     "task": false
    }
   },
   "source": [
    "The Poisson distribution and the Gaussian distribution are very similar around the mean. As the mean of the Poisson distribution increases, it becomes closer to the Gaussian distribution.\n",
    "\n",
    "The Poisson distribution is discrete, while the Gaussian distribution is continuous."
   ]
  },
  {
   "cell_type": "markdown",
   "metadata": {
    "deletable": false,
    "editable": false,
    "nbgrader": {
     "cell_type": "markdown",
     "checksum": "482d3e85d9f260909214bd299e4930f9",
     "grade": false,
     "grade_id": "cell-b1ef0244c2c5e2c4",
     "locked": true,
     "schema_version": 3,
     "solution": false,
     "task": false
    }
   },
   "source": [
    "## Coding Exercise\n",
    "\n",
    "Choose one of the distributions we discussed in the context of the Central Limit theorem: either the uniform distribution, the triangular distribution or a Gaussian distribution. They should span the interval 0 to 1.\n",
    "<bf>\n",
    "Write code that allows you to choose numbers at random from this distribution. Then,\n",
    "\n",
    "<blockquote>\n",
    "<bf>\n",
    "(i) Choose 1,000 numbers at random, and plot a histogram of their occurrences.\n",
    "</blockquote>\n",
    "<bf>\n",
    "<blockquote>\n",
    "(ii) Choose 2 numbers from  the distribution at random, and average them.  Repeat this 1,000 times and plot a histogram.\n",
    "<bf>\n",
    "</blockquote>\n",
    "<blockquote>\n",
    "(iii) Do the same for the sum of 3, 4 and 5 numbers, and make the corresponding plots.\n",
    "<bf>\n",
    "</blockquote>\n",
    "<blockquote>\n",
    "(iv) Comment on your results."
   ]
  },
  {
   "cell_type": "code",
   "execution_count": 27,
   "metadata": {
    "deletable": false,
    "nbgrader": {
     "cell_type": "code",
     "checksum": "dfa6d5b2a46d28470f11ae73950cdb6c",
     "grade": true,
     "grade_id": "cell-0571ee7f7d7263e5",
     "locked": false,
     "points": 0,
     "schema_version": 3,
     "solution": true,
     "task": false
    }
   },
   "outputs": [
    {
     "data": {
      "image/png": "[encoded data removed]",
      "text/plain": [
       "<Figure size 432x288 with 1 Axes>"
      ]
     },
     "metadata": {
      "needs_background": "light"
     },
     "output_type": "display_data"
    },
    {
     "data": {
      "image/png": "[encoded data removed]",
      "text/plain": [
       "<Figure size 432x288 with 1 Axes>"
      ]
     },
     "metadata": {
      "needs_background": "light"
     },
     "output_type": "display_data"
    },
    {
     "data": {
      "image/png": "[encoded data removed]",
      "text/plain": [
       "<Figure size 432x288 with 1 Axes>"
      ]
     },
     "metadata": {
      "needs_background": "light"
     },
     "output_type": "display_data"
    },
    {
     "data": {
      "image/png": "[encoded data removed]",
      "text/plain": [
       "<Figure size 432x288 with 1 Axes>"
      ]
     },
     "metadata": {
      "needs_background": "light"
     },
     "output_type": "display_data"
    },
    {
     "data": {
      "image/png": "[encoded data removed]",
      "text/plain": [
       "<Figure size 432x288 with 1 Axes>"
      ]
     },
     "metadata": {
      "needs_background": "light"
     },
     "output_type": "display_data"
    }
   ],
   "source": [
    "def coding_exercise_i():\n",
    "    data = np.random.uniform(0, 1, 1000)\n",
    "    plt.hist(data, bins=100)\n",
    "    plt.title('Uniform Distribution - 1000 random samples')\n",
    "    plt.xlabel('Value')\n",
    "    plt.ylabel('Frequency')\n",
    "    plt.show()\n",
    "    \n",
    "def coding_exercise_ii():\n",
    "    avg_data = [(np.random.uniform(0, 1) + np.random.uniform(0, 1)) / 2 for _ in range(1000)]\n",
    "    plt.hist(avg_data, bins=100)\n",
    "    plt.title('Average of 2 numbers - 1000 random samples')\n",
    "    plt.xlabel('Average Value')\n",
    "    plt.ylabel('Frequency')\n",
    "    plt.show()\n",
    "    \n",
    "def coding_exercise_iii(n):\n",
    "    avg_data = [np.mean(np.random.uniform(0, 1, n)) for _ in range(1000)]\n",
    "    plt.hist(avg_data, bins=100)\n",
    "    plt.title(f'Average of {n} numbers - 1000 random samples')\n",
    "    plt.xlabel('Average Value')\n",
    "    plt.ylabel('Frequency')\n",
    "    plt.show()\n",
    "    \n",
    "coding_exercise_i()\n",
    "coding_exercise_ii()\n",
    "coding_exercise_iii(3)\n",
    "coding_exercise_iii(4)\n",
    "coding_exercise_iii(5)"
   ]
  },
  {
   "cell_type": "markdown",
   "metadata": {
    "deletable": false,
    "editable": false,
    "nbgrader": {
     "cell_type": "markdown",
     "checksum": "085ca8f3a92e2452a21e4b80ce9c6398",
     "grade": false,
     "grade_id": "cell-67d8356d201791ba",
     "locked": true,
     "schema_version": 3,
     "solution": false,
     "task": false
    }
   },
   "source": [
    "### (iv) Comment on your results."
   ]
  },
  {
   "cell_type": "markdown",
   "metadata": {
    "deletable": false,
    "nbgrader": {
     "cell_type": "markdown",
     "checksum": "e1d39f8b3c3e5697bc62156b57fabce3",
     "grade": true,
     "grade_id": "cell-1419c5cc8e817aa2",
     "locked": false,
     "points": 0,
     "schema_version": 3,
     "solution": true,
     "task": false
    }
   },
   "source": [
    "The histogram of uniformly distributed random numbers shows a relatively flat distribution.\n",
    "\n",
    "The distribution of the average of two numbers is more concentrated around 0.5 than the original uniformly distributed random numbers.\n",
    "\n",
    "The distribution of the average of multiple numbers (3, 4, 5 numbers) are closer to a normal distribution."
   ]
  }
 ],
 "metadata": {
  "kernelspec": {
   "display_name": "Python 3 (ipykernel)",
   "language": "python",
   "name": "python3"
  },
  "language_info": {
   "codemirror_mode": {
    "name": "ipython",
    "version": 3
   },
   "file_extension": ".py",
   "mimetype": "text/x-python",
   "name": "python",
   "nbconvert_exporter": "python",
   "pygments_lexer": "ipython3",
   "version": "3.9.12"
  }
 },
 "nbformat": 4,
 "nbformat_minor": 2
}
