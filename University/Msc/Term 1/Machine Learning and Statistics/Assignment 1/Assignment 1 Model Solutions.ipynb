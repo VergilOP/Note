{
 "cells": [
  {
   "cell_type": "markdown",
   "metadata": {
    "nbgrader": {
     "grade": false,
     "grade_id": "cell-5df98e2c42315dfd",
     "locked": true,
     "schema_version": 3,
     "solution": false,
     "task": false
    }
   },
   "source": [
    "# Data Analysis Homework 1"
   ]
  },
  {
   "cell_type": "code",
   "execution_count": 2,
   "metadata": {
    "nbgrader": {
     "grade": false,
     "grade_id": "cell-6880a7a39f660792",
     "locked": true,
     "schema_version": 3,
     "solution": false,
     "task": false
    }
   },
   "outputs": [],
   "source": [
    "from __future__ import division\n",
    "from IPython.display import HTML\n",
    "from IPython.display import display\n",
    "from scipy.special import erf\n",
    "from scipy.special import erfc\n",
    "from math import factorial as factorial\n",
    "from random import seed\n",
    "from random import randint\n",
    "import numpy as np\n",
    "import pandas as pd\n",
    "import matplotlib.pyplot as plt"
   ]
  },
  {
   "cell_type": "markdown",
   "metadata": {
    "nbgrader": {
     "grade": false,
     "grade_id": "cell-391591ed0633fc70",
     "locked": true,
     "schema_version": 3,
     "solution": false,
     "task": false
    }
   },
   "source": [
    "## Question 1: Mean, Standard Deviation and Standard Error\n",
    "\n",
    "8 measurements of the sensitivity of a photo diode circuit (in Amps/Watt) are: \n",
    "<br>\n",
    "25.8, 26.2, 26.0, 26.5, 25.8, 26.1, 25.8, and 26.3. \n",
    "<br>\n",
    "Calculate:\n",
    "<br>\n",
    "(i) The Mean.\n",
    "<br>\n",
    "(ii) The Standard Deviation.\n",
    "<br>\n",
    "(iii) The Standard Error.\n",
    "<br>\n",
    "(iv) How would you report the result?"
   ]
  },
  {
   "cell_type": "markdown",
   "metadata": {
    "nbgrader": {
     "grade": false,
     "grade_id": "cell-23fb767aff3c3ff7",
     "locked": true,
     "schema_version": 3,
     "solution": false,
     "task": false
    }
   },
   "source": [
    "### (i) Calculate the Mean"
   ]
  },
  {
   "cell_type": "code",
   "execution_count": 3,
   "metadata": {
    "nbgrader": {
     "grade": false,
     "grade_id": "cell-1f30bb7600418b90",
     "locked": true,
     "schema_version": 3,
     "solution": false,
     "task": false
    }
   },
   "outputs": [
    {
     "data": {
      "text/plain": [
       "26.0625"
      ]
     },
     "execution_count": 3,
     "metadata": {},
     "output_type": "execute_result"
    }
   ],
   "source": [
    "data = [25.8, 26.2, 26., 26.5, 25.8, 26.1, 25.8, 26.3]\n",
    "\n",
    "def one_i(data):\n",
    "    '''Return the mean'''\n",
    "    mean = np.mean(data)\n",
    "\n",
    "    return mean\n",
    "\n",
    "# Please print output of functions to make marking easier\n",
    "one_i(data)"
   ]
  },
  {
   "cell_type": "markdown",
   "metadata": {
    "nbgrader": {
     "grade": false,
     "grade_id": "cell-539feb16e1c24dc8",
     "locked": true,
     "schema_version": 3,
     "solution": false,
     "task": false
    }
   },
   "source": [
    "### (ii) Calculate the sample Standard Deviation."
   ]
  },
  {
   "cell_type": "code",
   "execution_count": 4,
   "metadata": {
    "nbgrader": {
     "grade": false,
     "grade_id": "cell-a39132967e02e09f",
     "locked": true,
     "schema_version": 3,
     "solution": false,
     "task": false
    }
   },
   "outputs": [
    {
     "data": {
      "text/plain": [
       "0.26152028055746845"
      ]
     },
     "execution_count": 4,
     "metadata": {},
     "output_type": "execute_result"
    }
   ],
   "source": [
    "data = [25.8, 26.2, 26., 26.5, 25.8, 26.1, 25.8, 26.3]\n",
    "\n",
    "def one_ii(data):\n",
    "    '''Return the standard deviation'''\n",
    "    standard_deviation = np.std(data,ddof = 1)\n",
    "\n",
    "    return(standard_deviation)\n",
    "    \n",
    "one_ii(data)"
   ]
  },
  {
   "cell_type": "markdown",
   "metadata": {
    "nbgrader": {
     "grade": false,
     "grade_id": "cell-a199c2d3eaaeabaf",
     "locked": true,
     "schema_version": 3,
     "solution": false,
     "task": false
    }
   },
   "source": [
    "### (iii) Calculate the Standard Error."
   ]
  },
  {
   "cell_type": "code",
   "execution_count": 5,
   "metadata": {
    "nbgrader": {
     "grade": false,
     "grade_id": "cell-d98d2b7fc610d222",
     "locked": true,
     "schema_version": 3,
     "solution": false,
     "task": false
    }
   },
   "outputs": [
    {
     "data": {
      "text/plain": [
       "0.09246138189999717"
      ]
     },
     "execution_count": 5,
     "metadata": {},
     "output_type": "execute_result"
    }
   ],
   "source": [
    "data = [25.8, 26.2, 26., 26.5, 25.8, 26.1, 25.8, 26.3]\n",
    "\n",
    "def one_iii(data):\n",
    "    '''Return the standard error'''\n",
    "    st_dev = one_ii(data)\n",
    "    n = len(data)\n",
    "    standard_error = st_dev/np.sqrt(n)\n",
    "\n",
    "    return(standard_error)\n",
    "\n",
    "one_iii(data)"
   ]
  },
  {
   "cell_type": "markdown",
   "metadata": {
    "nbgrader": {
     "grade": false,
     "grade_id": "cell-49744f7c13a892eb",
     "locked": true,
     "schema_version": 3,
     "solution": false,
     "task": false
    }
   },
   "source": [
    "### (iv) How would you report the result?"
   ]
  },
  {
   "cell_type": "markdown",
   "metadata": {
    "nbgrader": {
     "grade": false,
     "grade_id": "cell-466eee4d73c04131",
     "locked": true,
     "schema_version": 3,
     "solution": false,
     "task": false
    }
   },
   "source": [
    "The sensitivity of the photo diode is 26.06 $\\pm$ 0.09 Amps/Watt (only quote the error to one significant figure)"
   ]
  },
  {
   "cell_type": "markdown",
   "metadata": {
    "nbgrader": {
     "grade": false,
     "grade_id": "cell-9d6e425a0d20717a",
     "locked": true,
     "schema_version": 3,
     "solution": false,
     "task": false
    }
   },
   "source": [
    "## Question 2: Error in the error\n",
    "\n",
    "Consider a set of measurements with the standard error calculated to be $\\alpha=0.987654321$.  Here we address the question of how many significant figures should be quoted.  \n",
    "\n",
    "Required:\n",
    "<blockquote>\n",
    "\n",
    "(i) Using pandas or any other software package, make a CSV file with four columns.  The first column should be $N$, the number of measurements on which $\\alpha$ is based.  In the second column write $\\alpha$ to the nine significant figures quoted above. The third and fourth columns should be ${\\displaystyle \\alpha\\left(1-\\frac{1}{\\sqrt{2N-2}}\\right)}$    and  ${\\displaystyle \\alpha\\left(1+\\frac{1}{\\sqrt{2N-2}}\\right)}$, respectively.  As we are interested in the variation over a large dynamic range, choose values for $N$ such as 2, 3, 5, 10, 20, 30, etc. \n",
    "<bf>\n",
    "(ii) Verify the statement from Section 2.7.1 that the number of data points,  N , needs to approach a few tens of thousands before the second significant figure in the error can be quoted, i.e. when the values in the three columns become equal to the second significant figure. Use the model that you constructed in the previous part of the question and make appropiate comments using data\n",
    "<bf>\n",
    "(iii) Repeat the analysis for the case where α=0.123456789, i.e. the first significant digit of the error is 1. Make appropiate comments.\n",
    "<bf>\n",
    "(iv) How many data points must be collected before the third significant figure can be quoted?"
   ]
  },
  {
   "cell_type": "markdown",
   "metadata": {
    "nbgrader": {
     "grade": false,
     "grade_id": "cell-d599e98cff358ee3",
     "locked": true,
     "schema_version": 3,
     "solution": false,
     "task": false
    }
   },
   "source": [
    "### (i) Using pandas or any other software package, make a CSV file with four columns.  The first column should be $N$, the number of measurements on which $\\alpha$ is based.  In the second column write $\\alpha$ to the nine significant figures quoted above. The third and fourth columns should be ${\\displaystyle \\alpha\\left(1-\\frac{1}{\\sqrt{2N-2}}\\right)}$    and  ${\\displaystyle \\alpha\\left(1+\\frac{1}{\\sqrt{2N-2}}\\right)}$, respectively.  As we are interested in the variation over a large dynamic range, choose values for $N$ such as 2, 3, 5, 10, 20, 30, etc. "
   ]
  },
  {
   "cell_type": "code",
   "execution_count": 9,
   "metadata": {
    "nbgrader": {
     "grade": false,
     "grade_id": "cell-5685d54128931f32",
     "locked": true,
     "schema_version": 3,
     "solution": false,
     "task": false
    }
   },
   "outputs": [
    {
     "data": {
      "text/html": [
       "<div>\n",
       "<style scoped>\n",
       "    .dataframe tbody tr th:only-of-type {\n",
       "        vertical-align: middle;\n",
       "    }\n",
       "\n",
       "    .dataframe tbody tr th {\n",
       "        vertical-align: top;\n",
       "    }\n",
       "\n",
       "    .dataframe thead th {\n",
       "        text-align: right;\n",
       "    }\n",
       "</style>\n",
       "<table border=\"1\" class=\"dataframe\">\n",
       "  <thead>\n",
       "    <tr style=\"text-align: right;\">\n",
       "      <th></th>\n",
       "      <th>N</th>\n",
       "      <th>alpha</th>\n",
       "      <th>alpha minus</th>\n",
       "      <th>alpha plus</th>\n",
       "      <th>ap_r</th>\n",
       "      <th>am_r</th>\n",
       "    </tr>\n",
       "  </thead>\n",
       "  <tbody>\n",
       "    <tr>\n",
       "      <th>0</th>\n",
       "      <td>5</td>\n",
       "      <td>0.987654</td>\n",
       "      <td>0.638466</td>\n",
       "      <td>1.336843</td>\n",
       "      <td>1.337</td>\n",
       "      <td>0.638</td>\n",
       "    </tr>\n",
       "    <tr>\n",
       "      <th>1</th>\n",
       "      <td>25</td>\n",
       "      <td>0.987654</td>\n",
       "      <td>0.845099</td>\n",
       "      <td>1.130210</td>\n",
       "      <td>1.130</td>\n",
       "      <td>0.845</td>\n",
       "    </tr>\n",
       "    <tr>\n",
       "      <th>2</th>\n",
       "      <td>125</td>\n",
       "      <td>0.987654</td>\n",
       "      <td>0.924938</td>\n",
       "      <td>1.050370</td>\n",
       "      <td>1.050</td>\n",
       "      <td>0.925</td>\n",
       "    </tr>\n",
       "    <tr>\n",
       "      <th>3</th>\n",
       "      <td>625</td>\n",
       "      <td>0.987654</td>\n",
       "      <td>0.959697</td>\n",
       "      <td>1.015612</td>\n",
       "      <td>1.016</td>\n",
       "      <td>0.960</td>\n",
       "    </tr>\n",
       "    <tr>\n",
       "      <th>4</th>\n",
       "      <td>3125</td>\n",
       "      <td>0.987654</td>\n",
       "      <td>0.975159</td>\n",
       "      <td>1.000149</td>\n",
       "      <td>1.000</td>\n",
       "      <td>0.975</td>\n",
       "    </tr>\n",
       "    <tr>\n",
       "      <th>5</th>\n",
       "      <td>15625</td>\n",
       "      <td>0.987654</td>\n",
       "      <td>0.982067</td>\n",
       "      <td>0.993242</td>\n",
       "      <td>0.993</td>\n",
       "      <td>0.982</td>\n",
       "    </tr>\n",
       "    <tr>\n",
       "      <th>6</th>\n",
       "      <td>78125</td>\n",
       "      <td>0.987654</td>\n",
       "      <td>0.985156</td>\n",
       "      <td>0.990153</td>\n",
       "      <td>0.990</td>\n",
       "      <td>0.985</td>\n",
       "    </tr>\n",
       "    <tr>\n",
       "      <th>7</th>\n",
       "      <td>390625</td>\n",
       "      <td>0.987654</td>\n",
       "      <td>0.986537</td>\n",
       "      <td>0.988772</td>\n",
       "      <td>0.989</td>\n",
       "      <td>0.987</td>\n",
       "    </tr>\n",
       "    <tr>\n",
       "      <th>8</th>\n",
       "      <td>1953125</td>\n",
       "      <td>0.987654</td>\n",
       "      <td>0.987155</td>\n",
       "      <td>0.988154</td>\n",
       "      <td>0.988</td>\n",
       "      <td>0.987</td>\n",
       "    </tr>\n",
       "    <tr>\n",
       "      <th>9</th>\n",
       "      <td>9765625</td>\n",
       "      <td>0.987654</td>\n",
       "      <td>0.987431</td>\n",
       "      <td>0.987878</td>\n",
       "      <td>0.988</td>\n",
       "      <td>0.987</td>\n",
       "    </tr>\n",
       "  </tbody>\n",
       "</table>\n",
       "</div>"
      ],
      "text/plain": [
       "         N     alpha  alpha minus  alpha plus   ap_r   am_r\n",
       "0        5  0.987654     0.638466    1.336843  1.337  0.638\n",
       "1       25  0.987654     0.845099    1.130210  1.130  0.845\n",
       "2      125  0.987654     0.924938    1.050370  1.050  0.925\n",
       "3      625  0.987654     0.959697    1.015612  1.016  0.960\n",
       "4     3125  0.987654     0.975159    1.000149  1.000  0.975\n",
       "5    15625  0.987654     0.982067    0.993242  0.993  0.982\n",
       "6    78125  0.987654     0.985156    0.990153  0.990  0.985\n",
       "7   390625  0.987654     0.986537    0.988772  0.989  0.987\n",
       "8  1953125  0.987654     0.987155    0.988154  0.988  0.987\n",
       "9  9765625  0.987654     0.987431    0.987878  0.988  0.987"
      ]
     },
     "execution_count": 9,
     "metadata": {},
     "output_type": "execute_result"
    }
   ],
   "source": [
    "# Note: this is one way in which this can be done efficiently, although there are many other ways\n",
    "# of coding the solution\n",
    "\n",
    "N_range = np.logspace(1,10, base=5, num=10).astype(int)\n",
    "alpha = 0.987654321*np.ones(len(N_range))\n",
    "\n",
    "def make_dataframe(N_range, alpha, outname):\n",
    "    'Creates a pandas dataframe and saves the output as a csv file given a range of N values, and a given alpha'\n",
    "    \n",
    "    plus_fn = lambda N: 1+(1/np.sqrt(2*N - 2))\n",
    "    minus_fn = lambda N: 1-(1/np.sqrt(2*N - 2))\n",
    "    \n",
    "    # Note: using the numpy library where possible is often a good idea since it has in-build\n",
    "    # automatic parallelisation. By mapping a lambda function over a numpy array the same operation\n",
    "    # can be carried out on each element very efficiently.\n",
    "    \n",
    "    alpha_plus = alpha*plus_fn(N_range)\n",
    "    alpha_minus = alpha*minus_fn(N_range)\n",
    "    \n",
    "    ### these two columns are not needed, I've added them here to make the model solution clearer ###\n",
    "    alpha_plus_3 = np.round(alpha_plus, 3)\n",
    "    alpha_minus_3 = np.round(alpha_minus, 3)\n",
    "    \n",
    "    # create dictionary\n",
    "    data = {'N':N_range, 'alpha': alpha, 'alpha minus': alpha_minus, 'alpha plus': alpha_plus, 'ap_r':alpha_plus_3, 'am_r':alpha_minus_3}\n",
    "    \n",
    "    # create dataframe from dictionary\n",
    "    df = pd.DataFrame(data)\n",
    "    df.to_csv(outname)\n",
    "    \n",
    "    return df\n",
    "\n",
    "df = make_dataframe(N_range, alpha, 'two_i.csv')\n",
    "\n",
    "df"
   ]
  },
  {
   "cell_type": "markdown",
   "metadata": {
    "nbgrader": {
     "grade": false,
     "grade_id": "cell-5993b07c1f78a9e5",
     "locked": true,
     "schema_version": 3,
     "solution": false,
     "task": false
    }
   },
   "source": [
    "### (ii) Verify the statement from Section 2.7.1 that the number of data points,  N , needs to approach a few tens of thousands before the second significant figure in the error can be quoted, i.e. when the values in the three columns become equal to the second significant figure. Use the model that you constructed in the previous part of the question and make appropiate comments using data"
   ]
  },
  {
   "cell_type": "markdown",
   "metadata": {
    "nbgrader": {
     "grade": false,
     "grade_id": "cell-8edb0ac5616390a7",
     "locked": true,
     "schema_version": 3,
     "solution": false,
     "task": false
    }
   },
   "source": [
    "From the table above it can be seen that the numbers in the final 3 columns only begin to agree to the second significant figure at ~ N = 70000 (more than 50000)"
   ]
  },
  {
   "cell_type": "markdown",
   "metadata": {
    "nbgrader": {
     "grade": false,
     "grade_id": "cell-f75cd98f6880a76d",
     "locked": true,
     "schema_version": 3,
     "solution": false,
     "task": false
    }
   },
   "source": [
    "### (iii) Repeat the analysis for the case where  α=0.123456789, i.e. the first significant digit of the error is 1. Make appropiate comments."
   ]
  },
  {
   "cell_type": "code",
   "execution_count": 10,
   "metadata": {
    "nbgrader": {
     "grade": false,
     "grade_id": "cell-ad0077e159c79c1b",
     "locked": true,
     "schema_version": 3,
     "solution": false,
     "task": false
    }
   },
   "outputs": [
    {
     "data": {
      "text/html": [
       "<div>\n",
       "<style scoped>\n",
       "    .dataframe tbody tr th:only-of-type {\n",
       "        vertical-align: middle;\n",
       "    }\n",
       "\n",
       "    .dataframe tbody tr th {\n",
       "        vertical-align: top;\n",
       "    }\n",
       "\n",
       "    .dataframe thead th {\n",
       "        text-align: right;\n",
       "    }\n",
       "</style>\n",
       "<table border=\"1\" class=\"dataframe\">\n",
       "  <thead>\n",
       "    <tr style=\"text-align: right;\">\n",
       "      <th></th>\n",
       "      <th>N</th>\n",
       "      <th>alpha</th>\n",
       "      <th>alpha minus</th>\n",
       "      <th>alpha plus</th>\n",
       "      <th>ap_r</th>\n",
       "      <th>am_r</th>\n",
       "    </tr>\n",
       "  </thead>\n",
       "  <tbody>\n",
       "    <tr>\n",
       "      <th>0</th>\n",
       "      <td>5</td>\n",
       "      <td>0.123457</td>\n",
       "      <td>0.079808</td>\n",
       "      <td>0.167105</td>\n",
       "      <td>0.167</td>\n",
       "      <td>0.080</td>\n",
       "    </tr>\n",
       "    <tr>\n",
       "      <th>1</th>\n",
       "      <td>25</td>\n",
       "      <td>0.123457</td>\n",
       "      <td>0.105637</td>\n",
       "      <td>0.141276</td>\n",
       "      <td>0.141</td>\n",
       "      <td>0.106</td>\n",
       "    </tr>\n",
       "    <tr>\n",
       "      <th>2</th>\n",
       "      <td>125</td>\n",
       "      <td>0.123457</td>\n",
       "      <td>0.115617</td>\n",
       "      <td>0.131296</td>\n",
       "      <td>0.131</td>\n",
       "      <td>0.116</td>\n",
       "    </tr>\n",
       "    <tr>\n",
       "      <th>3</th>\n",
       "      <td>625</td>\n",
       "      <td>0.123457</td>\n",
       "      <td>0.119962</td>\n",
       "      <td>0.126951</td>\n",
       "      <td>0.127</td>\n",
       "      <td>0.120</td>\n",
       "    </tr>\n",
       "    <tr>\n",
       "      <th>4</th>\n",
       "      <td>3125</td>\n",
       "      <td>0.123457</td>\n",
       "      <td>0.121895</td>\n",
       "      <td>0.125019</td>\n",
       "      <td>0.125</td>\n",
       "      <td>0.122</td>\n",
       "    </tr>\n",
       "    <tr>\n",
       "      <th>5</th>\n",
       "      <td>15625</td>\n",
       "      <td>0.123457</td>\n",
       "      <td>0.122758</td>\n",
       "      <td>0.124155</td>\n",
       "      <td>0.124</td>\n",
       "      <td>0.123</td>\n",
       "    </tr>\n",
       "    <tr>\n",
       "      <th>6</th>\n",
       "      <td>78125</td>\n",
       "      <td>0.123457</td>\n",
       "      <td>0.123144</td>\n",
       "      <td>0.123769</td>\n",
       "      <td>0.124</td>\n",
       "      <td>0.123</td>\n",
       "    </tr>\n",
       "    <tr>\n",
       "      <th>7</th>\n",
       "      <td>390625</td>\n",
       "      <td>0.123457</td>\n",
       "      <td>0.123317</td>\n",
       "      <td>0.123596</td>\n",
       "      <td>0.124</td>\n",
       "      <td>0.123</td>\n",
       "    </tr>\n",
       "    <tr>\n",
       "      <th>8</th>\n",
       "      <td>1953125</td>\n",
       "      <td>0.123457</td>\n",
       "      <td>0.123394</td>\n",
       "      <td>0.123519</td>\n",
       "      <td>0.124</td>\n",
       "      <td>0.123</td>\n",
       "    </tr>\n",
       "    <tr>\n",
       "      <th>9</th>\n",
       "      <td>9765625</td>\n",
       "      <td>0.123457</td>\n",
       "      <td>0.123429</td>\n",
       "      <td>0.123485</td>\n",
       "      <td>0.123</td>\n",
       "      <td>0.123</td>\n",
       "    </tr>\n",
       "  </tbody>\n",
       "</table>\n",
       "</div>"
      ],
      "text/plain": [
       "         N     alpha  alpha minus  alpha plus   ap_r   am_r\n",
       "0        5  0.123457     0.079808    0.167105  0.167  0.080\n",
       "1       25  0.123457     0.105637    0.141276  0.141  0.106\n",
       "2      125  0.123457     0.115617    0.131296  0.131  0.116\n",
       "3      625  0.123457     0.119962    0.126951  0.127  0.120\n",
       "4     3125  0.123457     0.121895    0.125019  0.125  0.122\n",
       "5    15625  0.123457     0.122758    0.124155  0.124  0.123\n",
       "6    78125  0.123457     0.123144    0.123769  0.124  0.123\n",
       "7   390625  0.123457     0.123317    0.123596  0.124  0.123\n",
       "8  1953125  0.123457     0.123394    0.123519  0.124  0.123\n",
       "9  9765625  0.123457     0.123429    0.123485  0.123  0.123"
      ]
     },
     "execution_count": 10,
     "metadata": {},
     "output_type": "execute_result"
    }
   ],
   "source": [
    "N_range = np.logspace(1,10, base=5, num=10).astype(int)\n",
    "alpha = 0.123456789*np.ones(len(N_range))\n",
    "\n",
    "df = make_dataframe(N_range, alpha, 'two_ii.csv')\n",
    "df"
   ]
  },
  {
   "cell_type": "markdown",
   "metadata": {
    "nbgrader": {
     "grade": false,
     "grade_id": "cell-1c70bc5924d3bf12",
     "locked": true,
     "schema_version": 3,
     "solution": false,
     "task": false
    }
   },
   "source": [
    "It can be seen from the table above that the values of the final 3 columns agree to two significant figures at only ~ N = 15000"
   ]
  },
  {
   "cell_type": "markdown",
   "metadata": {
    "nbgrader": {
     "grade": false,
     "grade_id": "cell-777db7dee58f70c3",
     "locked": true,
     "schema_version": 3,
     "solution": false,
     "task": false
    }
   },
   "source": [
    "### (iv) How many data points must be collected before the third significant figure can be quoted?"
   ]
  },
  {
   "cell_type": "code",
   "execution_count": 11,
   "metadata": {},
   "outputs": [
    {
     "data": {
      "text/html": [
       "<div>\n",
       "<style scoped>\n",
       "    .dataframe tbody tr th:only-of-type {\n",
       "        vertical-align: middle;\n",
       "    }\n",
       "\n",
       "    .dataframe tbody tr th {\n",
       "        vertical-align: top;\n",
       "    }\n",
       "\n",
       "    .dataframe thead th {\n",
       "        text-align: right;\n",
       "    }\n",
       "</style>\n",
       "<table border=\"1\" class=\"dataframe\">\n",
       "  <thead>\n",
       "    <tr style=\"text-align: right;\">\n",
       "      <th></th>\n",
       "      <th>N</th>\n",
       "      <th>alpha</th>\n",
       "      <th>alpha minus</th>\n",
       "      <th>alpha plus</th>\n",
       "      <th>ap_r</th>\n",
       "      <th>am_r</th>\n",
       "    </tr>\n",
       "  </thead>\n",
       "  <tbody>\n",
       "    <tr>\n",
       "      <th>0</th>\n",
       "      <td>1953125</td>\n",
       "      <td>0.123457</td>\n",
       "      <td>0.123394</td>\n",
       "      <td>0.123519</td>\n",
       "      <td>0.124</td>\n",
       "      <td>0.123</td>\n",
       "    </tr>\n",
       "    <tr>\n",
       "      <th>1</th>\n",
       "      <td>2335572</td>\n",
       "      <td>0.123457</td>\n",
       "      <td>0.123400</td>\n",
       "      <td>0.123514</td>\n",
       "      <td>0.124</td>\n",
       "      <td>0.123</td>\n",
       "    </tr>\n",
       "    <tr>\n",
       "      <th>2</th>\n",
       "      <td>2792908</td>\n",
       "      <td>0.123457</td>\n",
       "      <td>0.123405</td>\n",
       "      <td>0.123509</td>\n",
       "      <td>0.124</td>\n",
       "      <td>0.123</td>\n",
       "    </tr>\n",
       "    <tr>\n",
       "      <th>3</th>\n",
       "      <td>3339796</td>\n",
       "      <td>0.123457</td>\n",
       "      <td>0.123409</td>\n",
       "      <td>0.123505</td>\n",
       "      <td>0.124</td>\n",
       "      <td>0.123</td>\n",
       "    </tr>\n",
       "    <tr>\n",
       "      <th>4</th>\n",
       "      <td>3993772</td>\n",
       "      <td>0.123457</td>\n",
       "      <td>0.123413</td>\n",
       "      <td>0.123500</td>\n",
       "      <td>0.124</td>\n",
       "      <td>0.123</td>\n",
       "    </tr>\n",
       "    <tr>\n",
       "      <th>5</th>\n",
       "      <td>4775806</td>\n",
       "      <td>0.123457</td>\n",
       "      <td>0.123417</td>\n",
       "      <td>0.123497</td>\n",
       "      <td>0.123</td>\n",
       "      <td>0.123</td>\n",
       "    </tr>\n",
       "    <tr>\n",
       "      <th>6</th>\n",
       "      <td>5710972</td>\n",
       "      <td>0.123457</td>\n",
       "      <td>0.123420</td>\n",
       "      <td>0.123493</td>\n",
       "      <td>0.123</td>\n",
       "      <td>0.123</td>\n",
       "    </tr>\n",
       "    <tr>\n",
       "      <th>7</th>\n",
       "      <td>6829255</td>\n",
       "      <td>0.123457</td>\n",
       "      <td>0.123423</td>\n",
       "      <td>0.123490</td>\n",
       "      <td>0.123</td>\n",
       "      <td>0.123</td>\n",
       "    </tr>\n",
       "    <tr>\n",
       "      <th>8</th>\n",
       "      <td>8166513</td>\n",
       "      <td>0.123457</td>\n",
       "      <td>0.123426</td>\n",
       "      <td>0.123487</td>\n",
       "      <td>0.123</td>\n",
       "      <td>0.123</td>\n",
       "    </tr>\n",
       "    <tr>\n",
       "      <th>9</th>\n",
       "      <td>9765625</td>\n",
       "      <td>0.123457</td>\n",
       "      <td>0.123429</td>\n",
       "      <td>0.123485</td>\n",
       "      <td>0.123</td>\n",
       "      <td>0.123</td>\n",
       "    </tr>\n",
       "  </tbody>\n",
       "</table>\n",
       "</div>"
      ],
      "text/plain": [
       "         N     alpha  alpha minus  alpha plus   ap_r   am_r\n",
       "0  1953125  0.123457     0.123394    0.123519  0.124  0.123\n",
       "1  2335572  0.123457     0.123400    0.123514  0.124  0.123\n",
       "2  2792908  0.123457     0.123405    0.123509  0.124  0.123\n",
       "3  3339796  0.123457     0.123409    0.123505  0.124  0.123\n",
       "4  3993772  0.123457     0.123413    0.123500  0.124  0.123\n",
       "5  4775806  0.123457     0.123417    0.123497  0.123  0.123\n",
       "6  5710972  0.123457     0.123420    0.123493  0.123  0.123\n",
       "7  6829255  0.123457     0.123423    0.123490  0.123  0.123\n",
       "8  8166513  0.123457     0.123426    0.123487  0.123  0.123\n",
       "9  9765625  0.123457     0.123429    0.123485  0.123  0.123"
      ]
     },
     "execution_count": 11,
     "metadata": {},
     "output_type": "execute_result"
    }
   ],
   "source": [
    "# From the above table the point at which the numbers agree to three significant figures is somewhere\n",
    "# between ~ 2000000 and 9500000. I therefore ajust my search range in to this region\n",
    "\n",
    "N_range = np.logspace(9,10, base=5, num=10).astype(int)\n",
    "alpha = 0.123456789*np.ones(len(N_range))\n",
    "\n",
    "df = make_dataframe(N_range, alpha, 'two_iv.csv')\n",
    "df"
   ]
  },
  {
   "cell_type": "markdown",
   "metadata": {
    "nbgrader": {
     "grade": false,
     "grade_id": "cell-16c1501b47df208b",
     "locked": true,
     "schema_version": 3,
     "solution": false,
     "task": false
    }
   },
   "source": [
    "It can be seen from the table above that the final 3 columns agree to three significant figures at ~ N = 4700000"
   ]
  },
  {
   "cell_type": "markdown",
   "metadata": {
    "nbgrader": {
     "grade": false,
     "grade_id": "cell-c835d3c4ea562667",
     "locked": true,
     "schema_version": 3,
     "solution": false,
     "task": false
    }
   },
   "source": [
    "## Question 3: Confidence limits for a Gaussian Distribution\n",
    "\n",
    "|Centred on Mean | Measurements within range | Measurements outside range |\n",
    "| --- | --- | --- |\n",
    "| $\\pm\\sigma$ | 68% | 32% |\n",
    "| $\\pm1.65\\sigma$ | 90% | 10% |\n",
    "| $\\pm2\\sigma$ | 95% | 5% |\n",
    "| $\\pm2.58\\sigma$ | 99% | 1% |\n",
    "| $\\pm3\\sigma$ | 99.7% | 0.3% |\n",
    "\n",
    "(i) Verify the results of the above table for the fraction of the data which lies within different ranges of a Gaussian probability distribution function. \n",
    "<bf>\n",
    "(ii) What fraction of the data lies outside the following ranges from the mean? \n",
    "<blockquote>\n",
    "<bf>\n",
    "(a) $\\pm4\\sigma$ \n",
    "<bf>\n",
    "(b) $\\pm5\\sigma$.  \n",
    "</blockquote>\n",
    "\n",
    "(iii) What is the (symmetric) range within which the following fractions of the data lie, leaving your answer in terms of $\\sigma$? \n",
    "<blockquote>\n",
    "<bf>\n",
    "(a) 50% \n",
    "<bf>\n",
    "(b) 99.9%."
   ]
  },
  {
   "cell_type": "markdown",
   "metadata": {
    "nbgrader": {
     "grade": false,
     "grade_id": "cell-6b9340cab837f845",
     "locked": true,
     "schema_version": 3,
     "solution": false,
     "task": false
    }
   },
   "source": [
    "### (i) Verify the results of the above table for the fraction of the data which lies within different ranges of a Gaussian probability distribution function. You must return your answers as an ARRAY OF PERCENTAGES."
   ]
  },
  {
   "cell_type": "code",
   "execution_count": 8,
   "metadata": {
    "nbgrader": {
     "grade": false,
     "grade_id": "cell-cb3b3ea0dd967211",
     "locked": true,
     "schema_version": 3,
     "solution": false,
     "task": false
    }
   },
   "outputs": [
    {
     "data": {
      "text/plain": [
       "[68.26894921370858,\n",
       " 90.10570639327038,\n",
       " 95.44997361036415,\n",
       " 99.01199684844588,\n",
       " 99.73002039367398]"
      ]
     },
     "execution_count": 8,
     "metadata": {},
     "output_type": "execute_result"
    }
   ],
   "source": [
    "def three_i():\n",
    "    '''Return the measurements in range as an array. '''\n",
    "    \n",
    "    measurements_in_range = []\n",
    "    sigma_multiples = [1,1.65,2,2.58,3]\n",
    "    mean = 10\n",
    "    st_dev = 3\n",
    "    \n",
    "    for i in sigma_multiples:\n",
    "        x_1 = ((mean+(i*st_dev))-mean)/((np.sqrt(2)*st_dev))\n",
    "        x_2 = ((mean-(i*st_dev))-mean)/((np.sqrt(2)*st_dev))\n",
    "        measurements_element = (0.5*(1+erf(x_1)))-(0.5*(1+erf(x_2)))\n",
    "        measurements_in_range.append(measurements_element*100)\n",
    "    \n",
    "    return measurements_in_range\n",
    "\n",
    "three_i()"
   ]
  },
  {
   "cell_type": "markdown",
   "metadata": {
    "nbgrader": {
     "grade": false,
     "grade_id": "cell-556fd501de70283d",
     "locked": true,
     "schema_version": 3,
     "solution": false,
     "task": false
    }
   },
   "source": [
    "### (ii) What fraction of the data lies outside the following ranges from the mean? You must return your answer as a PERCENTAGE.\n",
    "<blockquote>\n",
    "<bf>\n",
    "(a) $\\pm4\\sigma$ \n",
    "    \n",
    "<bf>\n",
    "(b) $\\pm5\\sigma$.  \n",
    "</blockquote>\n"
   ]
  },
  {
   "cell_type": "code",
   "execution_count": 9,
   "metadata": {
    "nbgrader": {
     "grade": false,
     "grade_id": "cell-b7cac0e7b716f636",
     "locked": true,
     "schema_version": 3,
     "solution": false,
     "task": false
    }
   },
   "outputs": [
    {
     "data": {
      "text/plain": [
       "(0.006334248366623996, 5.733031436250258e-05)"
      ]
     },
     "execution_count": 9,
     "metadata": {},
     "output_type": "execute_result"
    }
   ],
   "source": [
    "def three_iia():\n",
    "    '''Return the fraction of measurements outside the range as a PERCENTAGE'''\n",
    "    \n",
    "    mean = 10\n",
    "    st_dev = 3\n",
    "    x_1 = ((mean+(4*st_dev))-mean)/((np.sqrt(2)*st_dev))\n",
    "    x_2 = ((mean-(4*st_dev))-mean)/((np.sqrt(2)*st_dev))\n",
    "    four_sigma = (0.5*(1+erf(x_1)))-(0.5*(1+erf(x_2)))\n",
    "    outside_range = (1-four_sigma)*100\n",
    "    \n",
    "    return outside_range\n",
    "   \n",
    "\n",
    "def three_iib():\n",
    "    '''Return the fraction of measurements outside the range as a PERCENTAGE'''\n",
    "    \n",
    "    mean = 10\n",
    "    st_dev = 3\n",
    "    x_1 = ((mean+(5*st_dev))-mean)/((np.sqrt(2)*st_dev))\n",
    "    x_2 = ((mean-(5*st_dev))-mean)/((np.sqrt(2)*st_dev))\n",
    "    five_sigma = (0.5*(1+erf(x_1)))-(0.5*(1+erf(x_2)))\n",
    "    outside_range = (1-five_sigma)*100\n",
    "    \n",
    "    return outside_range\n",
    "\n",
    "three_iia(), three_iib()"
   ]
  },
  {
   "cell_type": "markdown",
   "metadata": {
    "nbgrader": {
     "grade": false,
     "grade_id": "cell-94af1f6921d1ba1b",
     "locked": true,
     "schema_version": 3,
     "solution": false,
     "task": false
    }
   },
   "source": [
    "### (iii) What is the (symmetric) range within which the following fractions of the data lie, leaving your answer in terms of $\\sigma$?\n",
    "<blockquote>\n",
    "<bf>\n",
    "(a) 50% \n",
    "<bf>\n",
    "(b) 99.9%."
   ]
  },
  {
   "cell_type": "code",
   "execution_count": 10,
   "metadata": {
    "nbgrader": {
     "grade": false,
     "grade_id": "cell-704b8818ac876d40",
     "locked": true,
     "schema_version": 3,
     "solution": false,
     "task": false
    }
   },
   "outputs": [],
   "source": [
    "def phi(x):\n",
    "    'Cumulative distribution function for the standard normal distribution'\n",
    "    # Note: this function is needed to account for the difference\n",
    "    # in error function definitions between Huges and Hayes and the\n",
    "    # scipy library\n",
    "    return (1.0 + erf(x / np.sqrt(2.0))) / 2.0"
   ]
  },
  {
   "cell_type": "code",
   "execution_count": 11,
   "metadata": {
    "nbgrader": {
     "grade": false,
     "grade_id": "cell-ea06e70d0156df5d",
     "locked": true,
     "schema_version": 3,
     "solution": false,
     "task": false
    }
   },
   "outputs": [
    {
     "data": {
      "text/plain": [
       "(0.675, 3.291)"
      ]
     },
     "execution_count": 11,
     "metadata": {},
     "output_type": "execute_result"
    }
   ],
   "source": [
    "def three_iiia():\n",
    "    '''Return the multiple of sigma'''\n",
    "    \n",
    "    test_range = np.arange(0,10,0.001)\n",
    "    for i in test_range:\n",
    "        solution = i\n",
    "        if phi(i)-phi(-i) > 0.5:\n",
    "            break\n",
    "    \n",
    "    return solution\n",
    "    \n",
    "\n",
    "def three_iiib():\n",
    "    '''Return the multiple of sigma'''\n",
    "    \n",
    "    test_range = np.arange(0,10,0.001)\n",
    "    for i in test_range:\n",
    "        solution = i\n",
    "        if phi(i)-phi(-i) > 0.999:\n",
    "            break\n",
    "    return solution\n",
    "\n",
    "three_iiia(), three_iiib()"
   ]
  },
  {
   "cell_type": "markdown",
   "metadata": {},
   "source": [
    "## Question 4: Identifying a Potential Outlier\n",
    "\n",
    "Seven successive measurements of the charge stored on a capacitor (all in $\\mu C$) are: \n",
    "<bf>\n",
    "45.7, 53.2, 48.4, 45.1, 51.4, 62.1 and 49.3. \n",
    "<bf>\n",
    "The sixth reading appears anomalously large. \n",
    "\n",
    "Required:\n",
    "<blockquote>\n",
    "(i) Apply Chauvenet’s criterion to ascertain whether this data point should be rejected. In the comment, you must state 'ACCEPT' or 'REJECT'. \n",
    "</blockquote>\n",
    "<blockquote>\n",
    "(ii) Having decided whether to keep 6 or 7 data points, calculate:\n",
    "<bf>\n",
    "<blockquote>\n",
    "(a) The Mean\n",
    "</blockquote>\n",
    "<bf>\n",
    "<blockquote>\n",
    "(b) Standard Deviation\n",
    "</blockquote>\n",
    "<bf>\n",
    "<blockquote>\n",
    "(c) Error of the Charge."
   ]
  },
  {
   "cell_type": "markdown",
   "metadata": {
    "nbgrader": {
     "grade": false,
     "grade_id": "cell-7b14766c8e43ccd0",
     "locked": true,
     "schema_version": 3,
     "solution": false,
     "task": false
    }
   },
   "source": [
    "### (i) Apply Chauvenet’s criterion to ascertain whether this data point should be rejected. In the comment, you must state 'ACCEPT' or 'REJECT'. "
   ]
  },
  {
   "cell_type": "code",
   "execution_count": 12,
   "metadata": {},
   "outputs": [
    {
     "data": {
      "text/plain": [
       "(0.02466922732306953, 0.17268459126148672, 'REJECT')"
      ]
     },
     "execution_count": 12,
     "metadata": {},
     "output_type": "execute_result"
    }
   ],
   "source": [
    "def four_i():\n",
    "    '''Your function must return the probability of an outlier, n_out and your comment to ACCEPT or REJECT'''\n",
    "    \n",
    "    data = [45.7, 53.2, 48.4, 45.1, 51.4, 62.1, 49.3]\n",
    "    \n",
    "    suspicious_position = 5 # position in the data point array of suspicious result\n",
    "    \n",
    "    mean = np.mean(data)\n",
    "    std = np.std(data, ddof=1)\n",
    "    \n",
    "    # select the upper and lower bounds of the error function integral\n",
    "    x_1 = mean - data[suspicious_position]\n",
    "    x_2 = mean + data[suspicious_position]\n",
    "    \n",
    "    P_out = 1 - (phi(x_2/std) - phi(x_1/std)) # probability of finding a value outside the bounds\n",
    "    # note: the error function assumes a standard deviation of 1 and so the upper and lower bounds\n",
    "    # must be divided by the standard deviation - see definintion of error function and it's scipy implementation\n",
    "    n_out = P_out*len(data)\n",
    "    \n",
    "    comment = 'ACCEPT'\n",
    "    if n_out < 0.5:\n",
    "        comment = 'REJECT'\n",
    "        \n",
    "    return P_out, n_out, comment\n",
    "\n",
    "four_i()"
   ]
  },
  {
   "cell_type": "markdown",
   "metadata": {
    "nbgrader": {
     "grade": false,
     "grade_id": "cell-5414540ba84410ed",
     "locked": true,
     "schema_version": 3,
     "solution": false,
     "task": false
    }
   },
   "source": [
    "### (iia) Having decided whether to keep 6 or 7 datapoints, calculate the mean."
   ]
  },
  {
   "cell_type": "code",
   "execution_count": 13,
   "metadata": {
    "nbgrader": {
     "grade": false,
     "grade_id": "cell-57df2747e1fa2468",
     "locked": true,
     "schema_version": 3,
     "solution": false,
     "task": false
    }
   },
   "outputs": [
    {
     "data": {
      "text/plain": [
       "48.85"
      ]
     },
     "execution_count": 13,
     "metadata": {},
     "output_type": "execute_result"
    }
   ],
   "source": [
    "def four_iia():\n",
    "    '''Your function should return the mean'''\n",
    "    data_points_1 = [45.7, 53.2, 48.4, 45.1, 51.4, 49.3]\n",
    "    mean = np.mean(data_points_1)\n",
    "    return mean\n",
    "\n",
    "four_iia()"
   ]
  },
  {
   "cell_type": "markdown",
   "metadata": {
    "nbgrader": {
     "grade": false,
     "grade_id": "cell-441fa0b8a14d768d",
     "locked": true,
     "schema_version": 3,
     "solution": false,
     "task": false
    }
   },
   "source": [
    "### (iib) Having decided whether to keep 6 or 7 datapoints, calculate the standard deviation."
   ]
  },
  {
   "cell_type": "code",
   "execution_count": 14,
   "metadata": {
    "nbgrader": {
     "grade": false,
     "grade_id": "cell-c516a3dbbe1b564d",
     "locked": true,
     "schema_version": 3,
     "solution": false,
     "task": false
    }
   },
   "outputs": [
    {
     "data": {
      "text/plain": [
       "3.1564220250150323"
      ]
     },
     "execution_count": 14,
     "metadata": {},
     "output_type": "execute_result"
    }
   ],
   "source": [
    "def four_iib():\n",
    "    '''Your function should return the standard deviation'''\n",
    "\n",
    "    data_points_2 = [45.7, 53.2, 48.4, 45.1, 51.4, 49.3]\n",
    "    standard_deviation = np.std(data_points_2,ddof = 1)\n",
    "    return standard_deviation\n",
    "\n",
    "four_iib()"
   ]
  },
  {
   "cell_type": "markdown",
   "metadata": {
    "nbgrader": {
     "grade": false,
     "grade_id": "cell-6f50253083fc8efb",
     "locked": true,
     "schema_version": 3,
     "solution": false,
     "task": false
    }
   },
   "source": [
    "### (iic) Having decided whether to keep 6 or 7 datapoints, calculate the standard error."
   ]
  },
  {
   "cell_type": "code",
   "execution_count": 15,
   "metadata": {
    "nbgrader": {
     "grade": false,
     "grade_id": "cell-72bdab1dc4e58cb5",
     "locked": true,
     "schema_version": 3,
     "solution": false,
     "task": false
    }
   },
   "outputs": [
    {
     "data": {
      "text/plain": [
       "1.2886038956948718"
      ]
     },
     "execution_count": 15,
     "metadata": {},
     "output_type": "execute_result"
    }
   ],
   "source": [
    "def four_iic():\n",
    "    '''Your function should return the standard error'''\n",
    "\n",
    "    data_points_3 = np.array([45.7, 53.2, 48.4, 45.1, 51.4, 49.3])\n",
    "    st_dev = four_iib()\n",
    "    standard_error = st_dev/(np.sqrt(len(data_points_3)))\n",
    "    \n",
    "    return standard_error\n",
    "\n",
    "four_iic()"
   ]
  },
  {
   "cell_type": "markdown",
   "metadata": {
    "nbgrader": {
     "grade": false,
     "grade_id": "cell-a152b676ad381ebc",
     "locked": true,
     "schema_version": 3,
     "solution": false,
     "task": false
    }
   },
   "source": [
    "## Question 5: Poisson and Gaussian\n",
    "\n",
    "Required:\n",
    "<bf>\n",
    "<blockquote>\n",
    "(i) Plot a histogram of a Poisson distribution with mean 35.  \n",
    "<bf>\n",
    "</blockquote>\n",
    "<blockquote>\n",
    "(ii) Using the same axes plot the continuous function of a Gaussian with a mean of 35, and standard deviation $\\sqrt{35}$.  \n",
    "</blockquote>\n",
    "<bf>\n",
    "<blockquote>\n",
    "(iii) Comment on the similarities and differences between the distributions."
   ]
  },
  {
   "cell_type": "markdown",
   "metadata": {
    "nbgrader": {
     "grade": false,
     "grade_id": "cell-15b2117e9f2f7163",
     "locked": true,
     "schema_version": 3,
     "solution": false,
     "task": false
    }
   },
   "source": [
    "### (i) Plot a histogram of a Poisson distribution with mean 35.  \n",
    "<bf>\n",
    "### (ii) Using the same axes plot the continuous function of a Gaussian with a mean of 35, and standard deviation $\\sqrt{35}$. "
   ]
  },
  {
   "cell_type": "code",
   "execution_count": 16,
   "metadata": {},
   "outputs": [
    {
     "name": "stderr",
     "output_type": "stream",
     "text": [
      "/opt/conda/lib/python3.6/site-packages/matplotlib/figure.py:457: UserWarning: matplotlib is currently using a non-GUI backend, so cannot show the figure\n",
      "  \"matplotlib is currently using a non-GUI backend, \"\n"
     ]
    },
    {
     "data": {
      "image/png": "[encoded data removed]",
      "text/plain": [
       "<Figure size 432x288 with 2 Axes>"
      ]
     },
     "metadata": {},
     "output_type": "display_data"
    }
   ],
   "source": [
    "def five_i_and_ii():\n",
    "    '''This function should plot the appropiate histograms'''\n",
    "\n",
    "    mean = 35\n",
    "    \n",
    "    fig, ax1 = plt.subplots()\n",
    "    \n",
    "    # Poisson distribution\n",
    "    poisson_data = np.random.poisson(lam=35,size=100000)\n",
    "    color = 'tab:blue'\n",
    "    # plot normalised histogram with integer bins\n",
    "    # in order to avoid the bins beginning on the integers, the bins are shifted by 0.5\n",
    "    ax1.hist(poisson_data, density=True, bins = np.arange(0.5,70.5), label = 'Poisson', color=color)\n",
    "    ax1.set_ylabel('Poisson units')\n",
    "    ax1.set_ylim(0)\n",
    "    \n",
    "    ax2 = ax1.twinx()  # instantiate a second axes that shares the same x-axis\n",
    "    \n",
    "    # Gaussian distribution\n",
    "    st_dev = np.sqrt(35)\n",
    "    gaussian = lambda i: (1/(st_dev*np.sqrt(2*np.pi)))*np.exp((-(i-mean)**2)/(2*st_dev**2))\n",
    "    data = np.arange(0,70) # range over which the Gaussian will be plotted\n",
    "    gaussian_data = gaussian(data)\n",
    "    color = 'tab:red'\n",
    "    ax2.plot(data, gaussian_data, label = 'Gaussian', color=color)\n",
    "    ax2.set_ylabel('Gaussian units')\n",
    "    ax2.set_ylim(0)\n",
    "    \n",
    "    fig.legend(bbox_to_anchor=(0.45, 0.4, 0.4, 0.5)) # set location of legend\n",
    "    fig.tight_layout()\n",
    "    fig.show()\n",
    "    \n",
    "five_i_and_ii()"
   ]
  },
  {
   "cell_type": "markdown",
   "metadata": {
    "nbgrader": {
     "grade": false,
     "grade_id": "cell-5fa38a2ed1140bbb",
     "locked": true,
     "schema_version": 3,
     "solution": false,
     "task": false
    }
   },
   "source": [
    "### (iii) Comment on the similarities and differences between the distributions."
   ]
  },
  {
   "cell_type": "markdown",
   "metadata": {
    "nbgrader": {
     "grade": false,
     "grade_id": "cell-9806cc011bb8f9fa",
     "locked": true,
     "schema_version": 3,
     "solution": false,
     "task": false
    }
   },
   "source": [
    "Similarities:\n",
    "- Same height peak\n",
    "- Same general distribution shape at a large number of points (note the apparent shift of the Poisson distribution to the left is due to the fact that the Poisson distribution takes cannot accept negative numbers and will therefore naturally by skewed to the left)\n",
    "\n",
    "Differences:\n",
    "- The Gaussian distribution is continuous, whereas the Poisson is discrete\n",
    "- The Poisson distribution only extends over non-negative integers, whereas the Gaussian distribution extents over all real numbers\n",
    "- The Poisson distribution has a natural left skewness as mentioned above, although the result tends to a Gaussian as you add more points"
   ]
  },
  {
   "cell_type": "markdown",
   "metadata": {
    "nbgrader": {
     "grade": false,
     "grade_id": "cell-b1ef0244c2c5e2c4",
     "locked": true,
     "schema_version": 3,
     "solution": false,
     "task": false
    }
   },
   "source": [
    "## Coding Exercise\n",
    "\n",
    "Choose one of the distributions we discussed in the context of the Central Limit theorem: either the uniform distribution, the triangular distribution or a Gaussian distribution. They should span the interval 0 to 1.\n",
    "<bf>\n",
    "Write code that allows you to choose numbers at random from this distribution. Then,\n",
    "\n",
    "<blockquote>\n",
    "<bf>\n",
    "(i) Choose 1,000 numbers at random, and plot a histogram of their occurrences.\n",
    "</blockquote>\n",
    "<bf>\n",
    "<blockquote>\n",
    "(ii) Choose 2 numbers from  the distribution at random, and average them.  Repeat this 1,000 times and plot a histogram.\n",
    "<bf>\n",
    "</blockquote>\n",
    "<blockquote>\n",
    "(iii) Do the same for the sum of 3, 4 and 5 numbers, and make the corresponding plots.\n",
    "<bf>\n",
    "</blockquote>\n",
    "<blockquote>\n",
    "(iv) Comment on your results."
   ]
  },
  {
   "cell_type": "code",
   "execution_count": 18,
   "metadata": {
    "nbgrader": {
     "grade": false,
     "grade_id": "cell-0571ee7f7d7263e5",
     "locked": true,
     "schema_version": 3,
     "solution": false,
     "task": false
    }
   },
   "outputs": [
    {
     "data": {
      "image/png": "[encoded data removed]",
      "text/plain": [
       "<Figure size 432x288 with 1 Axes>"
      ]
     },
     "metadata": {},
     "output_type": "display_data"
    },
    {
     "data": {
      "image/png": "[encoded data removed]",
      "text/plain": [
       "<Figure size 432x288 with 1 Axes>"
      ]
     },
     "metadata": {},
     "output_type": "display_data"
    },
    {
     "data": {
      "image/png": "[encoded data removed]",
      "text/plain": [
       "<Figure size 432x288 with 1 Axes>"
      ]
     },
     "metadata": {},
     "output_type": "display_data"
    },
    {
     "data": {
      "image/png": "[encoded data removed]",
      "text/plain": [
       "<Figure size 432x288 with 1 Axes>"
      ]
     },
     "metadata": {},
     "output_type": "display_data"
    },
    {
     "data": {
      "image/png": "[encoded data removed]",
      "text/plain": [
       "<Figure size 432x288 with 1 Axes>"
      ]
     },
     "metadata": {},
     "output_type": "display_data"
    }
   ],
   "source": [
    "data = np.random.uniform(size = 1000)\n",
    "\n",
    "def averaging(data, num_to_average):\n",
    "    data = np.array(data) # ensure data is in a numpy array format\n",
    "    averaged_data = []\n",
    "    for i in range(1000):\n",
    "        # select the desired number of indices at random to determine the position the elements to be averaged\n",
    "        indices = np.random.randint(0, len(data), size=num_to_average)\n",
    "        averaged_data.append(np.mean(data[indices]))\n",
    "    return averaged_data\n",
    "\n",
    "plt.hist(data, bins='auto')\n",
    "plt.title('Uniformly distributed')\n",
    "plt.show()\n",
    "\n",
    "plt.figure()\n",
    "nums_to_average = [2,3,4,5]\n",
    "\n",
    "for i in nums_to_average:\n",
    "    averaged_data = averaging(data,i)\n",
    "    plt.hist(averaged_data, bins='auto')\n",
    "    plt.title('Uniformly distributed with {} averaged points'.format(i))\n",
    "    plt.show()"
   ]
  },
  {
   "cell_type": "markdown",
   "metadata": {
    "nbgrader": {
     "grade": false,
     "grade_id": "cell-67d8356d201791ba",
     "locked": true,
     "schema_version": 3,
     "solution": false,
     "task": false
    }
   },
   "source": [
    "### (iv) Comment on your results."
   ]
  },
  {
   "cell_type": "markdown",
   "metadata": {
    "nbgrader": {
     "grade": false,
     "grade_id": "cell-1419c5cc8e817aa2",
     "locked": true,
     "schema_version": 3,
     "solution": false,
     "task": false
    }
   },
   "source": [
    "The distribution increasingly approaches a normal distribution as more points are averaged over. This is a consequence of the Central Limit Theorem."
   ]
  }
 ],
 "metadata": {
  "celltoolbar": "Create Assignment",
  "kernelspec": {
   "display_name": "Python 3 (ipykernel)",
   "language": "python",
   "name": "python3"
  },
  "language_info": {
   "codemirror_mode": {
    "name": "ipython",
    "version": 3
   },
   "file_extension": ".py",
   "mimetype": "text/x-python",
   "name": "python",
   "nbconvert_exporter": "python",
   "pygments_lexer": "ipython3",
   "version": "3.9.12"
  }
 },
 "nbformat": 4,
 "nbformat_minor": 2
}
