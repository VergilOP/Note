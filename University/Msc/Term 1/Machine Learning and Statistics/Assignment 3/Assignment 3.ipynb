{
 "cells": [
  {
   "cell_type": "markdown",
   "metadata": {
    "deletable": false,
    "editable": false,
    "nbgrader": {
     "cell_type": "markdown",
     "checksum": "486eca47a5c59cfd90077ccba9c3b1c2",
     "grade": false,
     "grade_id": "cell-4897c9987657c9df",
     "locked": true,
     "schema_version": 3,
     "solution": false,
     "task": false
    }
   },
   "source": [
    "# Data Analysis Homework 3\n",
    "### Due date: Friday, November 1st 2024, 11AM"
   ]
  },
  {
   "cell_type": "code",
   "execution_count": null,
   "metadata": {
    "deletable": false,
    "editable": false,
    "nbgrader": {
     "cell_type": "code",
     "checksum": "21d876190bf7a8f47347df2017aea440",
     "grade": false,
     "grade_id": "cell-ed258371d1aaae62",
     "locked": true,
     "schema_version": 3,
     "solution": false,
     "task": false
    }
   },
   "outputs": [],
   "source": [
    "from __future__ import division\n",
    "from IPython.display import HTML\n",
    "from IPython.display import display\n",
    "from scipy.optimize import *\n",
    "import numpy as np\n",
    "import pandas as pd\n",
    "import matplotlib.pyplot as plt"
   ]
  },
  {
   "cell_type": "markdown",
   "metadata": {
    "deletable": false,
    "editable": false,
    "nbgrader": {
     "cell_type": "markdown",
     "checksum": "a24b107fcb3beeeeee60e463cd2db9ce",
     "grade": false,
     "grade_id": "cell-b5dd6a19dbfc0109",
     "locked": true,
     "schema_version": 3,
     "solution": false,
     "task": false
    }
   },
   "source": [
    "## Question 1: Linear Regression, Curvature Matrix\n",
    "\n",
    "Consider the data listed below,\n",
    "\\begin{equation}\n",
    "\\begin{array}{lcccccc}\n",
    "\\hline\n",
    "{\\rm frequency~(Hz)} &10&20&30&40&50&60\\\\\n",
    "{\\rm voltage~(mV)} &16&45&64&75&70&115\\\\\n",
    "{\\rm error~(mV)}   &5&5&5&5&30&5\\\\\n",
    "\\hline\n",
    "{\\rm frequency~(Hz)} &70&80&90&100&110&\\\\\n",
    "{\\rm voltage~(mV)} &142&167&183&160&221&\\\\\n",
    "{\\rm error~(mV)}   &5&5&5&30&5&\\\\\n",
    "\\hline\n",
    "\\end{array} \n",
    "\\end{equation}\n",
    "\n",
    "This data is also contained in the file 'linear_regression.csv'.\n",
    "\n",
    "Required:\n",
    "<br>\n",
    "(i) Calculate the 4 elements of the curvature matrix.\n",
    "<br>\n",
    "(ii) Invert this to give the error matrix.\n",
    "<br>\n",
    "(iii) What are the uncertainties in the slope and intercept?\n",
    "<br>\n",
    "(iv) Comment on your answer."
   ]
  },
  {
   "cell_type": "markdown",
   "metadata": {
    "deletable": false,
    "editable": false,
    "nbgrader": {
     "cell_type": "markdown",
     "checksum": "7fea2736884b39c9f236829e75cbd5c8",
     "grade": false,
     "grade_id": "cell-0ecbd3712337b9ae",
     "locked": true,
     "schema_version": 3,
     "solution": false,
     "task": false
    }
   },
   "source": [
    "### (i) Calculate the 4 elements of the curvature matrix."
   ]
  },
  {
   "cell_type": "code",
   "execution_count": null,
   "metadata": {
    "deletable": false,
    "nbgrader": {
     "cell_type": "code",
     "checksum": "b6eddcb2f3f5553ac5c3f6b9408db94b",
     "grade": false,
     "grade_id": "cell-a8061423011a8a5e",
     "locked": false,
     "schema_version": 3,
     "solution": true,
     "task": false
    }
   },
   "outputs": [],
   "source": [
    "data = pd.read_csv('linear_regression.csv')\n",
    "frequencies = data.iloc[:,0]\n",
    "voltages = data.iloc[:,1]\n",
    "voltage_errors = data.iloc[:,2]\n",
    "\n",
    "def one_i():\n",
    "    '''Your function should return something of the form np.matrix([[a_cc,a_cm],[a_mc,a_mm]])'''\n",
    "    '''where m is the slope and c the intercept'''\n",
    "    # YOUR CODE HERE\n",
    "    return(curvature_matrix)\n",
    "\n",
    "print(one_i())"
   ]
  },
  {
   "cell_type": "code",
   "execution_count": null,
   "metadata": {
    "deletable": false,
    "editable": false,
    "nbgrader": {
     "cell_type": "code",
     "checksum": "8803238264b785427f8468e1db97cd92",
     "grade": true,
     "grade_id": "cell-205a22506ae95a24",
     "locked": true,
     "points": 2,
     "schema_version": 3,
     "solution": false,
     "task": false
    }
   },
   "outputs": [],
   "source": [
    "'''TEST CELL - DO NOT DELETE'''\n",
    "assert isinstance(one_i(), (list, tuple, np.ndarray)), \\\n",
    "    'Please make sure that the return value is list/array of floats.'\n",
    "assert len(one_i()) == 2 , 'Please make sure you return a matrix with dimensions 2x2' "
   ]
  },
  {
   "cell_type": "markdown",
   "metadata": {
    "deletable": false,
    "editable": false,
    "nbgrader": {
     "cell_type": "markdown",
     "checksum": "78184cb31bed24e47c94f61a8b114d83",
     "grade": false,
     "grade_id": "cell-297224eb42753407",
     "locked": true,
     "schema_version": 3,
     "solution": false,
     "task": false
    }
   },
   "source": [
    "### (ii) Invert this to give the error matrix."
   ]
  },
  {
   "cell_type": "code",
   "execution_count": null,
   "metadata": {
    "deletable": false,
    "nbgrader": {
     "cell_type": "code",
     "checksum": "bf579e9a294b2849c886bccca96e7681",
     "grade": false,
     "grade_id": "cell-f1181bd93715c586",
     "locked": false,
     "schema_version": 3,
     "solution": true,
     "task": false
    }
   },
   "outputs": [],
   "source": [
    "data = pd.read_csv('linear_regression.csv')\n",
    "frequencies = data.iloc[:,0]\n",
    "voltages = data.iloc[:,1]\n",
    "voltage_errors = data.iloc[:,2]\n",
    "\n",
    "def one_ii():\n",
    "    '''Your function should return something of the form np.matrix([[a_cc,a_cm],[a_mc,a_mm]])'''\n",
    "    # YOUR CODE HERE\n",
    "    return(inverted_matrix)\n",
    "\n",
    "print(one_ii())"
   ]
  },
  {
   "cell_type": "code",
   "execution_count": null,
   "metadata": {
    "deletable": false,
    "editable": false,
    "nbgrader": {
     "cell_type": "code",
     "checksum": "62cf28320c14ff40eed0edd730babc34",
     "grade": true,
     "grade_id": "cell-7ab85907fde2a15a",
     "locked": true,
     "points": 2,
     "schema_version": 3,
     "solution": false,
     "task": false
    }
   },
   "outputs": [],
   "source": [
    "'''TEST CELL - DO NOT DELETE'''\n",
    "assert isinstance(one_ii(), (list, tuple, np.ndarray)), \\\n",
    "    'Please make sure that the return value is list/array of floats.'\n",
    "assert len(one_ii()) == 2 , 'Please make sure you return a matrix with dimensions 2x2' "
   ]
  },
  {
   "cell_type": "markdown",
   "metadata": {
    "deletable": false,
    "editable": false,
    "nbgrader": {
     "cell_type": "markdown",
     "checksum": "f9a342516fec2d2ceb4fbf41a49971db",
     "grade": false,
     "grade_id": "cell-2bd4c55c097ad632",
     "locked": true,
     "schema_version": 3,
     "solution": false,
     "task": false
    }
   },
   "source": [
    "### (iii) What are the uncertainties in the slope and intercept?"
   ]
  },
  {
   "cell_type": "code",
   "execution_count": null,
   "metadata": {
    "deletable": false,
    "nbgrader": {
     "cell_type": "code",
     "checksum": "bfb5cb08ba9ff346ec64b7036e3d99da",
     "grade": false,
     "grade_id": "cell-6ff81eb1afbe53e7",
     "locked": false,
     "schema_version": 3,
     "solution": true,
     "task": false
    }
   },
   "outputs": [],
   "source": [
    "data = pd.read_csv('linear_regression.csv')\n",
    "frequencies = data.iloc[:,0]\n",
    "voltages = data.iloc[:,1]\n",
    "voltage_errors = data.iloc[:,2]\n",
    "\n",
    "def one_iii():\n",
    "    slope_uncertainty = 0\n",
    "    intercept_uncertainty = 0\n",
    "    # YOUR CODE HERE\n",
    "    return(slope_uncertainty,intercept_uncertainty)\n",
    "\n",
    "print(one_iii())"
   ]
  },
  {
   "cell_type": "code",
   "execution_count": null,
   "metadata": {
    "deletable": false,
    "editable": false,
    "nbgrader": {
     "cell_type": "code",
     "checksum": "75d7402c64ae52ad58bbd673e72dbadc",
     "grade": true,
     "grade_id": "cell-ea08060575a403ed",
     "locked": true,
     "points": 2,
     "schema_version": 3,
     "solution": false,
     "task": false
    }
   },
   "outputs": [],
   "source": [
    "'''TEST CELL - DO NOT DELETE'''\n",
    "assert isinstance(one_iii(), (list, tuple, np.ndarray)), \\\n",
    "    'Please make sure that the return value is list/array of floats.'\n",
    "assert len(one_iii()) == 2 , 'Please make sure you return a list/array of length 2' "
   ]
  },
  {
   "cell_type": "code",
   "execution_count": null,
   "metadata": {
    "deletable": false,
    "editable": false,
    "nbgrader": {
     "cell_type": "code",
     "checksum": "0df3a054414b577bb30ad6ceaba474b9",
     "grade": true,
     "grade_id": "cell-961a84be93aa364a",
     "locked": true,
     "points": 2,
     "schema_version": 3,
     "solution": false,
     "task": false
    }
   },
   "outputs": [],
   "source": [
    "'''TEST CELL - DO NOT DELETE'''"
   ]
  },
  {
   "cell_type": "markdown",
   "metadata": {
    "deletable": false,
    "editable": false,
    "nbgrader": {
     "cell_type": "markdown",
     "checksum": "45f02ed5a50bf7ae72e41affea015045",
     "grade": false,
     "grade_id": "cell-4e08fdb22973b46c",
     "locked": true,
     "schema_version": 3,
     "solution": false,
     "task": false
    }
   },
   "source": [
    "### (iv) Comment on your answer"
   ]
  },
  {
   "cell_type": "markdown",
   "metadata": {
    "deletable": false,
    "nbgrader": {
     "cell_type": "markdown",
     "checksum": "bb612ddc1fbc7d4090bcc48d9137b905",
     "grade": true,
     "grade_id": "cell-f68bfa4e8b879207",
     "locked": false,
     "points": 2,
     "schema_version": 3,
     "solution": true,
     "task": false
    }
   },
   "source": [
    "YOUR ANSWER HERE"
   ]
  },
  {
   "cell_type": "markdown",
   "metadata": {
    "deletable": false,
    "editable": false,
    "nbgrader": {
     "cell_type": "markdown",
     "checksum": "de9b500bd84211864063644a316f19e4",
     "grade": false,
     "grade_id": "cell-e98b996e8522b95f",
     "locked": true,
     "schema_version": 3,
     "solution": false,
     "task": false
    }
   },
   "source": [
    "## Question 2: Using a calibration curve\n",
    "\n",
    "A frequently encountered case where the correlation of the uncertainties must be taken into account is that of a calibration curve.  Consider the following set of measurements from an optical-activity experiment, where the angle of rotation of a plane-polarized light beam, $\\theta$, is measured as a function of the independent variable, the concentration, $C$, of a sucrose solution. \n",
    "\n",
    "\\begin{equation}\n",
    "\\begin{array}{lcccc}\n",
    "\\hline\n",
    "C \\mbox{ (g cm$^{-3}$)} &0.025&0.05&0.075&0.100\\\\\n",
    "\\theta \\mbox{ (degrees)}&10.7&21.6&32.4&43.1\\\\\n",
    "\\hline\n",
    "C \\mbox{ (g cm$^{-3}$)}&0.125&0.150&0.175\\\\\n",
    "\\theta \\mbox{ (degrees)}&53.9&64.9&75.4\\\\\n",
    "\\hline\n",
    "\\end{array} \n",
    "\\end{equation}\n",
    "\n",
    "The errors in the angle measurement are all $0.1^{\\circ}$, the errors in the concentration are negligible.  A straight line  fit to the data yields  a gradient of $431.7\\,^{\\circ}\\mbox{ g$^{-1}$ cm$^{3}$}$, and intercept $-0.03^{\\circ}$. This data is contained in 'optical_activity.csv'.\n",
    "\n",
    "<br>\n",
    "Required:\n",
    "<br>\n",
    "(i) Show that the curvature matrix, $\\mathsf{A}$, is given by \n",
    "\n",
    "\\begin{equation}\n",
    "\\mathsf{A}=\\left[\\begin{array}{cc}\n",
    "700\\left((^{\\circ})^{-2}\\right)&70\\left((^{\\circ})^{-2}\\mbox{g cm$^{-3}$}\\right)\\\\\n",
    "70\\left((^{\\circ})^{-2}\\mbox{g cm$^{-3}$}\\right)&8.75\\left((\\mbox{g/$^\\circ$ cm$^{3})^2$}\\right)\\\\\n",
    "\\end{array}\\right] ,\n",
    "\\end{equation}\n",
    "\n",
    "\n",
    "and that the error matrix  is \n",
    "\n",
    "\\begin{equation}\n",
    "\\mathsf{C}=\\left[\\begin{array}{cc}\n",
    "0.00714\\left((^{\\circ})^2\\right)&-0.0571\\left((^{\\circ})^2\\mbox{g$^{-1}$cm$^{3}$}\\right)\\\\\n",
    "-0.0571\\left((^{\\circ})^2\\mbox{g$^{-1}$cm$^{3}$}\\right)&0.571\\left((^{\\circ})^2\\mbox{g$^{-2}$ cm$^{6}$}\\right)\\\\\n",
    "\\end{array}\\right] .\n",
    "\\end{equation}\n",
    "\n",
    "The entry for the intercept is in the top left-hand corner, that for the gradient in the bottom right-hand corner.  \n",
    "<br>\n",
    "(ii) Calculate the associated correlation matrix.  \n",
    "\n",
    "Use the  entries of the error matrix to answer the following  questions: \n",
    "<br>\n",
    "(iii) What are the uncertainties in the best-fit intercept and gradient? \n",
    "<br>\n",
    "(iv) What optical rotation is expected for a known concentration of $C=0.080g cm^{-3}$, and what is the uncertainty? \n",
    "<br>\n",
    "(v) What is the concentration given a measured rotation of $\\theta=70.3^{\\circ}$ and what is the uncertainty?"
   ]
  },
  {
   "cell_type": "markdown",
   "metadata": {
    "deletable": false,
    "editable": false,
    "nbgrader": {
     "cell_type": "markdown",
     "checksum": "0b9d6bc6483f612aac689ff84d0481b9",
     "grade": false,
     "grade_id": "cell-b0e0b1d18dd53d75",
     "locked": true,
     "schema_version": 3,
     "solution": false,
     "task": false
    }
   },
   "source": [
    "### (i) Verify the curvature matrix and the error matrix above."
   ]
  },
  {
   "cell_type": "code",
   "execution_count": null,
   "metadata": {
    "deletable": false,
    "nbgrader": {
     "cell_type": "code",
     "checksum": "abf2036682680c52c60f8aecf4b5fd2d",
     "grade": false,
     "grade_id": "cell-90c242e605b9f033",
     "locked": false,
     "schema_version": 3,
     "solution": true,
     "task": false
    }
   },
   "outputs": [],
   "source": [
    "data = pd.read_csv('optical_activity.csv')\n",
    "concentrations = data.iloc[:,0]\n",
    "angles = data.iloc[:,1]\n",
    "angle_errors = data.iloc[:,2]\n",
    "\n",
    "def two_i():\n",
    "    '''Your function should return something of the form np.matrix([[a_cc,a_cm],[a_mc,a_mm]]). Must return the curvature and error matricies)'''\n",
    "    curvature_matrix = 0\n",
    "    error_matrix = 0\n",
    "    # YOUR CODE HERE\n",
    "    return(curvature_matrix,error_matrix)\n",
    "\n",
    "print(two_i())"
   ]
  },
  {
   "cell_type": "code",
   "execution_count": null,
   "metadata": {
    "deletable": false,
    "editable": false,
    "nbgrader": {
     "cell_type": "code",
     "checksum": "f127080fd36005f383c427de31be00ec",
     "grade": true,
     "grade_id": "cell-e6bcb90497cb94c6",
     "locked": true,
     "points": 2,
     "schema_version": 3,
     "solution": false,
     "task": false
    }
   },
   "outputs": [],
   "source": [
    "'''TEST CELL - DO NOT DELETE'''\n",
    "assert isinstance(two_i(), (list, tuple, np.ndarray)), \\\n",
    "    'Please make sure that the return value is list/array of floats.'\n",
    "assert len(two_i()) == 2 , 'Please make sure you return a list/array of two matrices' \n",
    "assert len(two_i()[0]) == 2, 'Please make sure that the first entry is a 2x2 matrix' \n",
    "assert len(two_i()[1]) == 2, 'Please make sure that the second entry is a 2x2 matrix'  "
   ]
  },
  {
   "cell_type": "code",
   "execution_count": null,
   "metadata": {
    "deletable": false,
    "editable": false,
    "nbgrader": {
     "cell_type": "code",
     "checksum": "61ac696e08aebde48f4a71b75816e0b8",
     "grade": true,
     "grade_id": "cell-55f3298589f14581",
     "locked": true,
     "points": 2,
     "schema_version": 3,
     "solution": false,
     "task": false
    }
   },
   "outputs": [],
   "source": [
    "'''TEST CELL - DO NOT DELETE'''"
   ]
  },
  {
   "cell_type": "markdown",
   "metadata": {
    "deletable": false,
    "editable": false,
    "nbgrader": {
     "cell_type": "markdown",
     "checksum": "990ff56998e5024fc935210d27d2cf79",
     "grade": false,
     "grade_id": "cell-b667bab6b908e819",
     "locked": true,
     "schema_version": 3,
     "solution": false,
     "task": false
    }
   },
   "source": [
    "### (ii) Calculate the associated correlation matrix.  "
   ]
  },
  {
   "cell_type": "code",
   "execution_count": null,
   "metadata": {
    "deletable": false,
    "nbgrader": {
     "cell_type": "code",
     "checksum": "3e891d4b253c1f678c551b3e3d0c819c",
     "grade": false,
     "grade_id": "cell-6a7fa0e40768028d",
     "locked": false,
     "schema_version": 3,
     "solution": true,
     "task": false
    }
   },
   "outputs": [],
   "source": [
    "data = pd.read_csv('optical_activity.csv')\n",
    "concentrations = data.iloc[:,0]\n",
    "angles = data.iloc[:,1]\n",
    "angle_errors = data.iloc[:,2]\n",
    "\n",
    "def two_ii():\n",
    "    '''Your function should return something of the form np.matrix([[a_cc,a_cm],[a_mc,a_mm]])'''\n",
    "    # YOUR CODE HERE\n",
    "    \n",
    "print(two_ii())    "
   ]
  },
  {
   "cell_type": "code",
   "execution_count": null,
   "metadata": {
    "deletable": false,
    "editable": false,
    "nbgrader": {
     "cell_type": "code",
     "checksum": "57bcb159ff6d7c85f93c6c408b1d6d85",
     "grade": true,
     "grade_id": "cell-c2b19f704f54c27f",
     "locked": true,
     "points": 2,
     "schema_version": 3,
     "solution": false,
     "task": false
    }
   },
   "outputs": [],
   "source": [
    "'''TEST CELL - DO NOT DELETE'''\n",
    "assert isinstance(two_ii(), (list, tuple, np.ndarray)), \\\n",
    "    'Please make sure that the return value is a matrix.'\n",
    "assert len(two_ii()) == 2 "
   ]
  },
  {
   "cell_type": "markdown",
   "metadata": {
    "deletable": false,
    "editable": false,
    "nbgrader": {
     "cell_type": "markdown",
     "checksum": "3e80d2b10c194f70a6619124bfdf0cac",
     "grade": false,
     "grade_id": "cell-45c82ff7c57d0ccb",
     "locked": true,
     "schema_version": 3,
     "solution": false,
     "task": false
    }
   },
   "source": [
    "### (iii) What are the uncertainties in the best-fit intercept and gradient? "
   ]
  },
  {
   "cell_type": "code",
   "execution_count": null,
   "metadata": {
    "deletable": false,
    "nbgrader": {
     "cell_type": "code",
     "checksum": "e5ed31c72d3cd049ec0691e21a64d83a",
     "grade": false,
     "grade_id": "cell-f32635e579d41db7",
     "locked": false,
     "schema_version": 3,
     "solution": true,
     "task": false
    }
   },
   "outputs": [],
   "source": [
    "data = pd.read_csv('optical_activity.csv')\n",
    "concentrations = data.iloc[:,0]\n",
    "angles = data.iloc[:,1]\n",
    "angle_errors = data.iloc[:,2]\n",
    "\n",
    "def two_iii():\n",
    "    '''Your function should return the uncertainty in the gradient and intercept'''\n",
    "    gradient_uncertainty = 0\n",
    "    intercept_uncertainty = 0\n",
    "    # YOUR CODE HERE\n",
    "    return(gradient_uncertainty,intercept_uncertainty)\n",
    "\n",
    "print(two_iii())"
   ]
  },
  {
   "cell_type": "code",
   "execution_count": null,
   "metadata": {
    "deletable": false,
    "editable": false,
    "nbgrader": {
     "cell_type": "code",
     "checksum": "ce000ddbc3991dab1012254b6c272900",
     "grade": true,
     "grade_id": "cell-0e1f3d9729e50809",
     "locked": true,
     "points": 1,
     "schema_version": 3,
     "solution": false,
     "task": false
    }
   },
   "outputs": [],
   "source": [
    "'''TEST CELL - DO NOT DELETE'''\n",
    "assert isinstance(two_iii(), (list, tuple, np.ndarray)), \\\n",
    "    'Please make sure that the return value is a list/array of floats.'\n",
    "assert len(two_iii()) == 2 "
   ]
  },
  {
   "cell_type": "code",
   "execution_count": null,
   "metadata": {
    "deletable": false,
    "editable": false,
    "nbgrader": {
     "cell_type": "code",
     "checksum": "d8541ef0ada6fb48d018238cb18b2d7a",
     "grade": true,
     "grade_id": "cell-b94fe8908649d12a",
     "locked": true,
     "points": 1,
     "schema_version": 3,
     "solution": false,
     "task": false
    }
   },
   "outputs": [],
   "source": [
    "'''TEST CELL - DO NOT DELETE'''"
   ]
  },
  {
   "cell_type": "markdown",
   "metadata": {
    "deletable": false,
    "editable": false,
    "nbgrader": {
     "cell_type": "markdown",
     "checksum": "586e6c363046b6e648d44a6654206a23",
     "grade": false,
     "grade_id": "cell-245627a0850cbab9",
     "locked": true,
     "schema_version": 3,
     "solution": false,
     "task": false
    }
   },
   "source": [
    "### (iv) What optical rotation is expected for a known concentration of $C=0.080g cm^{-3}$, and what is the uncertainty? "
   ]
  },
  {
   "cell_type": "code",
   "execution_count": null,
   "metadata": {
    "deletable": false,
    "nbgrader": {
     "cell_type": "code",
     "checksum": "eaada06f34037f57a35bf49a202ba697",
     "grade": false,
     "grade_id": "cell-48ce90c9edb9a1af",
     "locked": false,
     "schema_version": 3,
     "solution": true,
     "task": false
    }
   },
   "outputs": [],
   "source": [
    "data = pd.read_csv('optical_activity.csv')\n",
    "concentrations = data.iloc[:,0]\n",
    "angles = data.iloc[:,1]\n",
    "angle_errors = data.iloc[:,2]\n",
    "\n",
    "def two_iv():\n",
    "    '''Your function should return the angle and the uncertainty'''\n",
    "    angle = 0\n",
    "    uncertainty = 0\n",
    "    # YOUR CODE HERE\n",
    "    return(angle,uncertainty)\n",
    "\n",
    "print(two_iv())"
   ]
  },
  {
   "cell_type": "code",
   "execution_count": null,
   "metadata": {
    "deletable": false,
    "editable": false,
    "nbgrader": {
     "cell_type": "code",
     "checksum": "dd21b5a64b7b4be78ff147614b3a604c",
     "grade": true,
     "grade_id": "cell-1d9ea692b906e00c",
     "locked": true,
     "points": 1,
     "schema_version": 3,
     "solution": false,
     "task": false
    }
   },
   "outputs": [],
   "source": [
    "'''TEST CELL - DO NOT DELETE'''\n",
    "assert isinstance(two_iv(), (list, tuple, np.ndarray)), \\\n",
    "    'Please make sure that the return value is a list/array of floats.'\n",
    "assert len(two_iv()) == 2 "
   ]
  },
  {
   "cell_type": "code",
   "execution_count": null,
   "metadata": {
    "deletable": false,
    "editable": false,
    "nbgrader": {
     "cell_type": "code",
     "checksum": "eb1891a2ed3d71a05ea340eb3bfcbb29",
     "grade": true,
     "grade_id": "cell-d8a2703a940a7583",
     "locked": true,
     "points": 1,
     "schema_version": 3,
     "solution": false,
     "task": false
    }
   },
   "outputs": [],
   "source": [
    "'''TEST CELL - DO NOT DELETE'''"
   ]
  },
  {
   "cell_type": "markdown",
   "metadata": {
    "deletable": false,
    "editable": false,
    "nbgrader": {
     "cell_type": "markdown",
     "checksum": "7b5712718dfa312d87631364c44e4e58",
     "grade": false,
     "grade_id": "cell-ce7c8453308eee52",
     "locked": true,
     "schema_version": 3,
     "solution": false,
     "task": false
    }
   },
   "source": [
    "### (v) What is the concentration given a measured rotation of $\\theta=70.3^{\\circ}$ and what is the uncertainty? You must return your answer in $gcm^{-3}$"
   ]
  },
  {
   "cell_type": "code",
   "execution_count": null,
   "metadata": {
    "deletable": false,
    "nbgrader": {
     "cell_type": "code",
     "checksum": "c85171495ab82c4d4b6e479305dbd48a",
     "grade": false,
     "grade_id": "cell-2a210b206abe39ca",
     "locked": false,
     "schema_version": 3,
     "solution": true,
     "task": false
    }
   },
   "outputs": [],
   "source": [
    "data = pd.read_csv('optical_activity.csv')\n",
    "concentrations = data.iloc[:,0]\n",
    "angles = data.iloc[:,1]\n",
    "angle_errors = data.iloc[:,2]\n",
    "\n",
    "def two_v():\n",
    "    '''Your function should return the concentration and uncertainty'''\n",
    "    # YOUR CODE HERE\n",
    "    return(concentration,uncertainty)\n",
    "\n",
    "print(two_v())"
   ]
  },
  {
   "cell_type": "code",
   "execution_count": null,
   "metadata": {
    "deletable": false,
    "editable": false,
    "nbgrader": {
     "cell_type": "code",
     "checksum": "c69a15a4455ba7c4d6fcc85acdd7e69c",
     "grade": true,
     "grade_id": "cell-fc6a0b34e288a268",
     "locked": true,
     "points": 1,
     "schema_version": 3,
     "solution": false,
     "task": false
    }
   },
   "outputs": [],
   "source": [
    "'''TEST CELL - DO NOT DELETE'''\n",
    "assert isinstance(two_v(), (list, tuple, np.ndarray)), \\\n",
    "    'Please make sure that the return value is a list/array of floats.'\n",
    "assert len(two_v()) == 2 "
   ]
  },
  {
   "cell_type": "code",
   "execution_count": null,
   "metadata": {
    "deletable": false,
    "editable": false,
    "nbgrader": {
     "cell_type": "code",
     "checksum": "1f0502ae7bd2a4ad0e79f3a8836061c8",
     "grade": true,
     "grade_id": "cell-173ca414fbffc47c",
     "locked": true,
     "points": 1,
     "schema_version": 3,
     "solution": false,
     "task": false
    }
   },
   "outputs": [],
   "source": [
    "'''TEST CELL - DO NOT DELETE'''"
   ]
  },
  {
   "cell_type": "markdown",
   "metadata": {
    "deletable": false,
    "editable": false,
    "nbgrader": {
     "cell_type": "markdown",
     "checksum": "7eb13e038d5252bbf274ddcfe22361ae",
     "grade": false,
     "grade_id": "cell-68476541a0ef792b",
     "locked": true,
     "schema_version": 3,
     "solution": false,
     "task": false
    }
   },
   "source": [
    "## Question 3: Error bars from a $\\chi^2$ minimisation to a non-linear function\n",
    "\n",
    "In this question we will analyse the data shown in the figure below, which is an X-ray spectrum as a function of angle.\n",
    "\n",
    "![title](diffraction.JPG)\n",
    " \n",
    "The data is contained in the file 'LorentzianData.csv'. There are three columns: the angle, the signal (in counts per second), and the error.  The number of X-rays counted in 20 seconds was recorded.\n",
    "\n",
    "The model to describe the data has four parameters:  the height of the Lorentzian lineshape, $S_0$; the angle at which the peak is centered, $\\theta_{0}$;\n",
    " the angular width of the peak, $\\Delta\\theta$; and a constant background offset, $S_{\\rm bgd}$. Mathematically, the signal, $S$, is of the form:\n",
    "\\begin{equation}\n",
    "S=S_{\\rm bgd}+\\frac{S_{0}}{1+4\\left(\\frac{\\theta-\\theta_{0}}{\\Delta\\theta}\\right)^2}.\n",
    "\\end{equation}\n",
    "\n",
    "and the function is defined by lorentzian(theta, s_0, s_bgd,delta_theta,theta_0).\n",
    "\n",
    "Required:\n",
    "<br>\n",
    "(i) Explain how the error in the count rate was calculated.\n",
    "<br>\n",
    "(ii) Perform a $\\chi^2$ minimisation.  What are the best-fit parameters?\n",
    "<br>\n",
    "(iii) Evaluate the error matrix.\n",
    "<br>\n",
    "(iv) Calculate the correlation matrix.\n",
    "<br>\n",
    "(v) What are the uncertainties in the best-fit parameters?\n",
    "<br>\n",
    "(vi) If you can plot contour plots, show the $\\chi^2$ contours for \n",
    "<br>\n",
    ">(a) background vs. peak centre. \n",
    "<br>\n",
    ">(b) background vs. peak width.  \n",
    "\n",
    "\n",
    "These figures are shown in figure 6.11 of Hughes and Hase. Comment on the shape of the contours. Only your comment will be graded. "
   ]
  },
  {
   "cell_type": "markdown",
   "metadata": {
    "deletable": false,
    "editable": false,
    "nbgrader": {
     "cell_type": "markdown",
     "checksum": "0530f5dbe3e2d8b6f472407bcaad90f7",
     "grade": false,
     "grade_id": "cell-b965fa7ac06be7a9",
     "locked": true,
     "schema_version": 3,
     "solution": false,
     "task": false
    }
   },
   "source": [
    "### (i) Explain how the error in the count rate was calculated."
   ]
  },
  {
   "cell_type": "markdown",
   "metadata": {
    "deletable": false,
    "nbgrader": {
     "cell_type": "markdown",
     "checksum": "69f12cda846d492c2dd0ab95099b9ef4",
     "grade": true,
     "grade_id": "cell-af660dec82aee39a",
     "locked": false,
     "points": 2,
     "schema_version": 3,
     "solution": true,
     "task": false
    }
   },
   "source": [
    "YOUR ANSWER HERE"
   ]
  },
  {
   "cell_type": "markdown",
   "metadata": {
    "deletable": false,
    "editable": false,
    "nbgrader": {
     "cell_type": "markdown",
     "checksum": "665283ee134e0eb19cfd5c3a42e9359a",
     "grade": false,
     "grade_id": "cell-f719a415310aea0d",
     "locked": true,
     "schema_version": 3,
     "solution": false,
     "task": false
    }
   },
   "source": [
    "### (ii) Perform a $\\chi^2$ minimisation.  What are the best-fit parameters?"
   ]
  },
  {
   "cell_type": "code",
   "execution_count": null,
   "metadata": {
    "deletable": false,
    "nbgrader": {
     "cell_type": "code",
     "checksum": "ae1f5f16a12525a85a435dec2e280583",
     "grade": false,
     "grade_id": "cell-b803d7b2c879b923",
     "locked": false,
     "schema_version": 3,
     "solution": true,
     "task": false
    }
   },
   "outputs": [],
   "source": [
    "data = pd.read_csv('LorentzianData.csv') \n",
    "\n",
    "def lorentzian(theta, s_0, s_bgd,delta_theta,theta_0):\n",
    "    return s_bgd+(s_0/(1+4*(((theta-theta_0)/delta_theta)**2)))\n",
    "\n",
    "def three_ii():\n",
    "    s_0 = 0\n",
    "    s_bgd = 0\n",
    "    delta_theta = 0\n",
    "    theta_0 = 0\n",
    "    covariance_matrix = 0\n",
    "    angles = data.iloc[:,0]\n",
    "    intensity = data.iloc[:,1]\n",
    "    intensity_errors = data.iloc[:,2]\n",
    "    # YOUR CODE HERE\n",
    "    return(s_0,s_bgd,delta_theta,theta_0,covariance_matrix)\n",
    "\n",
    "print(three_ii())"
   ]
  },
  {
   "cell_type": "code",
   "execution_count": null,
   "metadata": {
    "deletable": false,
    "editable": false,
    "nbgrader": {
     "cell_type": "code",
     "checksum": "a259e04e11279a625969f04acd078eab",
     "grade": true,
     "grade_id": "cell-e0ea799fe64f9f1a",
     "locked": true,
     "points": 2,
     "schema_version": 3,
     "solution": false,
     "task": false
    }
   },
   "outputs": [],
   "source": [
    "'''TEST CELL - DO NOT DELETE'''\n",
    "assert isinstance(three_ii(), (list, tuple, np.ndarray)), \\\n",
    "    'Please make sure that the return value is a list/array.'\n",
    "assert len(three_ii()) == 5 , 'Please make sure that you return five values' "
   ]
  },
  {
   "cell_type": "markdown",
   "metadata": {
    "deletable": false,
    "editable": false,
    "nbgrader": {
     "cell_type": "markdown",
     "checksum": "87904b908543290acc213ed83b4cecb5",
     "grade": false,
     "grade_id": "cell-bbcc2ba2381e48e5",
     "locked": true,
     "schema_version": 3,
     "solution": false,
     "task": false
    }
   },
   "source": [
    "### (iii) Evaluate the error matrix."
   ]
  },
  {
   "cell_type": "code",
   "execution_count": null,
   "metadata": {
    "deletable": false,
    "nbgrader": {
     "cell_type": "code",
     "checksum": "462b0ac7c044b31179a344e6189e7b44",
     "grade": false,
     "grade_id": "cell-4190be1416227f9e",
     "locked": false,
     "schema_version": 3,
     "solution": true,
     "task": false
    }
   },
   "outputs": [],
   "source": [
    "data = pd.read_csv('LorentzianData.csv') \n",
    "\n",
    "def three_iii():\n",
    "    '''Your function should return something of the form np.matrix([4x4])'''\n",
    "    # YOUR CODE HERE\n",
    "    return(error_matrix)\n",
    "\n",
    "print(three_iii())"
   ]
  },
  {
   "cell_type": "code",
   "execution_count": null,
   "metadata": {
    "deletable": false,
    "editable": false,
    "nbgrader": {
     "cell_type": "code",
     "checksum": "25181c1af509de5135b8ffce9d2fad97",
     "grade": true,
     "grade_id": "cell-1d1f5acb338ca208",
     "locked": true,
     "points": 2,
     "schema_version": 3,
     "solution": false,
     "task": false
    }
   },
   "outputs": [],
   "source": [
    "'''TEST CELL - DO NOT DELETE'''\n",
    "assert isinstance(three_iii(), (list, tuple, np.ndarray)), \\\n",
    "    'Please make sure that the return value is a matrix.'\n",
    "assert len(three_iii()) == 4 , 'Please make sure that you return a 4x4 matrix' "
   ]
  },
  {
   "cell_type": "markdown",
   "metadata": {
    "deletable": false,
    "editable": false,
    "nbgrader": {
     "cell_type": "markdown",
     "checksum": "42f08c41e201c4f69478238324328833",
     "grade": false,
     "grade_id": "cell-cdf84fe51f3f3f4d",
     "locked": true,
     "schema_version": 3,
     "solution": false,
     "task": false
    }
   },
   "source": [
    "### (iv) Calculate the correlation matrix."
   ]
  },
  {
   "cell_type": "code",
   "execution_count": null,
   "metadata": {
    "deletable": false,
    "nbgrader": {
     "cell_type": "code",
     "checksum": "bfd914de4c68d9e4f05fda22e94fd5b3",
     "grade": false,
     "grade_id": "cell-c7257914f67b1821",
     "locked": false,
     "schema_version": 3,
     "solution": true,
     "task": false
    }
   },
   "outputs": [],
   "source": [
    "data = pd.read_csv('LorentzianData.csv') \n",
    "\n",
    "def three_iv():\n",
    "    '''Your function should return something of the form np.matrix([[a_cc,a_cm],[a_mc,a_mm]])'''\n",
    "    # YOUR CODE HERE\n",
    "    return(correlation_matrix)\n",
    "\n",
    "print(three_iv())"
   ]
  },
  {
   "cell_type": "code",
   "execution_count": null,
   "metadata": {
    "deletable": false,
    "editable": false,
    "nbgrader": {
     "cell_type": "code",
     "checksum": "eb66459c3cfa0851ce7d841248c7c11e",
     "grade": true,
     "grade_id": "cell-2fdddf67da129349",
     "locked": true,
     "points": 2,
     "schema_version": 3,
     "solution": false,
     "task": false
    }
   },
   "outputs": [],
   "source": [
    "'''TEST CELL - DO NOT DELETE'''\n",
    "assert isinstance(three_iv(), (list, tuple, np.ndarray)), \\\n",
    "    'Please make sure that the return value is a matrix.'\n",
    "assert len(three_iv()) == 4 , 'Please make sure that you return a 4x4 matrix' "
   ]
  },
  {
   "cell_type": "markdown",
   "metadata": {
    "deletable": false,
    "editable": false,
    "nbgrader": {
     "cell_type": "markdown",
     "checksum": "ec44c4d4e4945968ef6f13a046eb14b0",
     "grade": false,
     "grade_id": "cell-e823d6820599ceee",
     "locked": true,
     "schema_version": 3,
     "solution": false,
     "task": false
    }
   },
   "source": [
    "### (v) What are the uncertainties in the best-fit parameters?"
   ]
  },
  {
   "cell_type": "code",
   "execution_count": null,
   "metadata": {
    "deletable": false,
    "nbgrader": {
     "cell_type": "code",
     "checksum": "e3e80526eb351158d64dbf9b65df9340",
     "grade": false,
     "grade_id": "cell-e6553187fe7ba54a",
     "locked": false,
     "schema_version": 3,
     "solution": true,
     "task": false
    }
   },
   "outputs": [],
   "source": [
    "data = pd.read_csv('LorentzianData.csv') \n",
    "\n",
    "def three_v():\n",
    "    uncertainty_s_0 = 0\n",
    "    uncertainty_s_bgd = 0\n",
    "    uncertainty_delta_theta = 0\n",
    "    uncertainty_theta_0 = 0\n",
    "    # YOUR CODE HERE\n",
    "    return(uncertainty_s_0,uncertainty_s_bgd,uncertainty_delta_theta,uncertainty_theta_0)\n",
    "\n",
    "print(three_v())"
   ]
  },
  {
   "cell_type": "code",
   "execution_count": null,
   "metadata": {
    "deletable": false,
    "editable": false,
    "nbgrader": {
     "cell_type": "code",
     "checksum": "adffca051818fe1b4378f17c53355d2e",
     "grade": true,
     "grade_id": "cell-b82624e7d32c9049",
     "locked": true,
     "points": 2,
     "schema_version": 3,
     "solution": false,
     "task": false
    }
   },
   "outputs": [],
   "source": [
    "'''TEST CELL - DO NOT DELETE'''"
   ]
  },
  {
   "cell_type": "markdown",
   "metadata": {
    "deletable": false,
    "editable": false,
    "nbgrader": {
     "cell_type": "markdown",
     "checksum": "c0fa22dd08ae1adba1558e79de3cae68",
     "grade": false,
     "grade_id": "cell-6837d80f4935e327",
     "locked": true,
     "schema_version": 3,
     "solution": false,
     "task": false
    }
   },
   "source": [
    "### (vi) These contours are shown in figure 6.11 of Hughes and Hase. Comment on the shape of the contours."
   ]
  },
  {
   "cell_type": "markdown",
   "metadata": {
    "deletable": false,
    "nbgrader": {
     "cell_type": "markdown",
     "checksum": "38188c6b730452eeb624cceca3f345eb",
     "grade": true,
     "grade_id": "cell-9d235bfae599fba1",
     "locked": false,
     "points": 2,
     "schema_version": 3,
     "solution": true,
     "task": false
    }
   },
   "source": [
    "YOUR ANSWER HERE"
   ]
  },
  {
   "cell_type": "markdown",
   "metadata": {
    "deletable": false,
    "editable": false,
    "nbgrader": {
     "cell_type": "markdown",
     "checksum": "81c37581c5386476f906142904fa2dba",
     "grade": false,
     "grade_id": "cell-1847db7a2c78bfde",
     "locked": true,
     "schema_version": 3,
     "solution": false,
     "task": false
    }
   },
   "source": [
    "## Question 4: Prove the following properties:\n",
    "\n",
    "Assume in this question that the uncertainties in $A$ and $B$ are correlated.\n",
    "<br>\n",
    "(i) If $Z=A\\pm B$, show that\n",
    "${\\displaystyle\\alpha_{Z}^2=\\alpha_{A}^2+\\alpha_{B}^2\\pm2\\alpha_{AB}}$.\n",
    "<br>\n",
    "(ii) If $Z=A\\times B$, show that\n",
    " ${\\displaystyle\\left(\\frac{\\alpha_Z}{Z}\\right)^2=\\left(\\frac{\\alpha_A}{A}\\right)^2+\\left(\\frac{\\alpha_B}{B}\\right)^2+2\\left(\\frac{\\alpha_{AB}}{AB}\\right)}$.\n",
    "<br>\n",
    "(iii) If ${\\displaystyle Z=\\frac{A}{B}}$, show that\n",
    "${\\displaystyle\\left(\\frac{\\alpha_Z}{Z}\\right)^2=\\left(\\frac{\\alpha_A}{A}\\right)^2+\\left(\\frac{\\alpha_B}{B}\\right)^2-2\\left(\\frac{\\alpha_{AB}}{AB}\\right)}$."
   ]
  },
  {
   "cell_type": "markdown",
   "metadata": {
    "deletable": false,
    "nbgrader": {
     "cell_type": "markdown",
     "checksum": "53fdc890b5537af87c9b3b890b921fdf",
     "grade": true,
     "grade_id": "cell-98dd0155ce1eafc8",
     "locked": false,
     "points": 6,
     "schema_version": 3,
     "solution": true,
     "task": false
    }
   },
   "source": [
    "YOUR ANSWER HERE"
   ]
  }
 ],
 "metadata": {
  "kernelspec": {
   "display_name": "Python 3 (ipykernel)",
   "language": "python",
   "name": "python3"
  },
  "language_info": {
   "codemirror_mode": {
    "name": "ipython",
    "version": 3
   },
   "file_extension": ".py",
   "mimetype": "text/x-python",
   "name": "python",
   "nbconvert_exporter": "python",
   "pygments_lexer": "ipython3",
   "version": "3.9.12"
  }
 },
 "nbformat": 4,
 "nbformat_minor": 2
}
