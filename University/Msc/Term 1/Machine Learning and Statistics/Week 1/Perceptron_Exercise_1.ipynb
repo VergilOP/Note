{
 "cells": [
  {
   "cell_type": "markdown",
   "metadata": {
    "deletable": false,
    "editable": false,
    "nbgrader": {
     "cell_type": "markdown",
     "checksum": "26abadea2cdf9d863717519cf3bb333d",
     "grade": false,
     "grade_id": "cell-dc7cbe8a9b702595",
     "locked": true,
     "schema_version": 3,
     "solution": false,
     "task": false
    }
   },
   "source": [
    "# Perceptron Exercise"
   ]
  },
  {
   "cell_type": "code",
   "execution_count": 1,
   "metadata": {},
   "outputs": [],
   "source": [
    "import sklearn.datasets\n",
    "import matplotlib.pyplot as plt\n",
    "import numpy as np"
   ]
  },
  {
   "cell_type": "markdown",
   "metadata": {},
   "source": [
    "We will use the famour iris data set"
   ]
  },
  {
   "cell_type": "code",
   "execution_count": 2,
   "metadata": {},
   "outputs": [],
   "source": [
    "data_dic = sklearn.datasets.load_iris()\n",
    "features = data_dic['data']\n",
    "targets = data_dic['target']\n",
    "c1 = features[targets==0]\n",
    "c2 = features[targets==1]\n",
    "c3 = features[targets==2]"
   ]
  },
  {
   "cell_type": "markdown",
   "metadata": {
    "deletable": false,
    "editable": false,
    "nbgrader": {
     "cell_type": "markdown",
     "checksum": "ad6e5a6f9f5fd80cd173069104cfb632",
     "grade": false,
     "grade_id": "cell-319446f6c6f20c57",
     "locked": true,
     "schema_version": 3,
     "solution": false,
     "task": false
    }
   },
   "source": [
    "This will show the data:"
   ]
  },
  {
   "cell_type": "code",
   "execution_count": 3,
   "metadata": {},
   "outputs": [
    {
     "data": {
      "image/png": "[encoded data removed]",
      "text/plain": [
       "<Figure size 432x288 with 1 Axes>"
      ]
     },
     "metadata": {
      "needs_background": "light"
     },
     "output_type": "display_data"
    }
   ],
   "source": [
    "ind1, ind2 = 0,1\n",
    "plt.scatter(c1[:,ind1],c1[:,ind2], color='red', marker='s', alpha=0.5, label=\"Setosa\")\n",
    "plt.scatter(c2[:,ind1],c2[:,ind2], color='blue', marker='x', alpha=0.5, label=\"Versicolour\")\n",
    "plt.legend()\n",
    "plt.xlabel(\"sepal length [cm]\")\n",
    "plt.ylabel(\"sepal width [cm]\");"
   ]
  },
  {
   "cell_type": "markdown",
   "metadata": {
    "deletable": false,
    "editable": false,
    "nbgrader": {
     "cell_type": "markdown",
     "checksum": "c348ea4d6a805c06616a89a580b3feee",
     "grade": false,
     "grade_id": "cell-021859f7bb1befce",
     "locked": true,
     "schema_version": 3,
     "solution": false,
     "task": false
    }
   },
   "source": [
    "This is used to get a smaller sample to play with"
   ]
  },
  {
   "cell_type": "code",
   "execution_count": 4,
   "metadata": {},
   "outputs": [],
   "source": [
    "def subSample(nData):\n",
    "    X = np.empty((2*nData,2))\n",
    "    X[:nData] = c1[:nData,:2]\n",
    "    X[nData:] = c2[:nData,:2]\n",
    "    Y = np.empty(2*nData)\n",
    "    Y[:nData] = np.ones(nData)\n",
    "    Y[nData:] = -np.ones(nData)\n",
    "    return X,Y\n",
    "\n",
    "X, Y = subSample(5)"
   ]
  },
  {
   "cell_type": "markdown",
   "metadata": {
    "deletable": false,
    "editable": false,
    "nbgrader": {
     "cell_type": "markdown",
     "checksum": "61536b16aa0c05a7f2a3d457bf13b02b",
     "grade": false,
     "grade_id": "cell-d0a9d8a0233385a5",
     "locked": true,
     "schema_version": 3,
     "solution": false,
     "task": false
    }
   },
   "source": [
    "## Exercise"
   ]
  },
  {
   "cell_type": "markdown",
   "metadata": {
    "deletable": false,
    "editable": false,
    "nbgrader": {
     "cell_type": "markdown",
     "checksum": "25bffbdeb8783db4eb3b011802db700c",
     "grade": false,
     "grade_id": "cell-96536402f756dcff",
     "locked": true,
     "schema_version": 3,
     "solution": false,
     "task": false
    }
   },
   "source": [
    "This is the decision function $\\phi$:"
   ]
  },
  {
   "cell_type": "code",
   "execution_count": 5,
   "metadata": {},
   "outputs": [],
   "source": [
    "def phi(x):\n",
    "    if x<=0:\n",
    "        return -1.0\n",
    "    else:\n",
    "        return 1.0\n",
    "    \n",
    "phi = np.vectorize(phi)"
   ]
  },
  {
   "cell_type": "markdown",
   "metadata": {
    "deletable": false,
    "editable": false,
    "nbgrader": {
     "cell_type": "markdown",
     "checksum": "b32f14807bbf94d1375f99f63351aa74",
     "grade": false,
     "grade_id": "cell-2cca13ed1424c392",
     "locked": true,
     "schema_version": 3,
     "solution": false,
     "task": false
    }
   },
   "source": [
    "Implement the function to make a prediction for an input vector `x` and a weight vector `w`. "
   ]
  },
  {
   "cell_type": "code",
   "execution_count": 6,
   "metadata": {
    "deletable": false,
    "nbgrader": {
     "cell_type": "code",
     "checksum": "fb9f352c779d95cef40df4ab6639016d",
     "grade": false,
     "grade_id": "cell-596cc24717e45eda",
     "locked": false,
     "schema_version": 3,
     "solution": true,
     "task": false
    }
   },
   "outputs": [],
   "source": [
    "def predictOne(x, w):\n",
    "    # YOUR CODE HERE\n",
    "    # your function should return either -1. or 1.\n",
    "    x_with_bias = np.hstack([1, x])\n",
    "\n",
    "    z = np.dot(x_with_bias, w)\n",
    "\n",
    "    return phi(z)"
   ]
  },
  {
   "cell_type": "code",
   "execution_count": 7,
   "metadata": {
    "deletable": false,
    "editable": false,
    "nbgrader": {
     "cell_type": "code",
     "checksum": "6e06a2acc30c63b5b03e15c53a0faf5d",
     "grade": true,
     "grade_id": "cell-018e78431b0f84d3",
     "locked": true,
     "points": 1,
     "schema_version": 3,
     "solution": false,
     "task": false
    }
   },
   "outputs": [],
   "source": [
    "assert predictOne(np.array([0.0,0.0]) , np.array([0.1,3.2,7.4])) == 1.0\n",
    "assert predictOne(np.array([0.0,0.0]), np.array([-0.1,3.2,7.4])) == -1.0\n",
    "assert predictOne(np.array([0.3,-0.7]), np.array([0.1,3.2,7.4])) == -1.0\n",
    "assert predictOne(np.array([0.3,0.7]), np.array([0.1,3.2,7.4])) == 1.0"
   ]
  },
  {
   "cell_type": "markdown",
   "metadata": {
    "deletable": false,
    "editable": false,
    "nbgrader": {
     "cell_type": "markdown",
     "checksum": "e7fce14df25c5153934719555aba8bd7",
     "grade": false,
     "grade_id": "cell-1e4d406f0b5167dc",
     "locked": true,
     "schema_version": 3,
     "solution": false,
     "task": false
    }
   },
   "source": [
    "Implement the same function but with an array of values. `X` here will be a `n_d` x `n_f` array, where `n_d` is the number of data points and `n_f` is the number of input per data point."
   ]
  },
  {
   "cell_type": "code",
   "execution_count": 8,
   "metadata": {
    "deletable": false,
    "nbgrader": {
     "cell_type": "code",
     "checksum": "a3f4fb13b5f4ee3e1bb00df73237290b",
     "grade": false,
     "grade_id": "cell-59123c9e070046dd",
     "locked": false,
     "schema_version": 3,
     "solution": true,
     "task": false
    }
   },
   "outputs": [],
   "source": [
    "def predictMany(X, w):\n",
    "    # YOUR CODE HERE\n",
    "    # your function should return a list/array of n_d values -1 or 1\n",
    "    X_with_bias = np.hstack([np.ones((X.shape[0], 1)), X])\n",
    "\n",
    "    z_values = np.dot(X_with_bias, w)\n",
    "\n",
    "    return phi(z_values)"
   ]
  },
  {
   "cell_type": "code",
   "execution_count": 9,
   "metadata": {
    "deletable": false,
    "editable": false,
    "nbgrader": {
     "cell_type": "code",
     "checksum": "94b1f3ba7d74c545294c5d13cd96da6d",
     "grade": true,
     "grade_id": "cell-6fc335ecd51ef0d7",
     "locked": true,
     "points": 2,
     "schema_version": 3,
     "solution": false,
     "task": false
    }
   },
   "outputs": [],
   "source": [
    "testX = np.array([\n",
    "    [0.0, 0.0],\n",
    "    [0.3,-0.7],\n",
    "    [0.3,0.7]\n",
    "])\n",
    "assert all(abs(elem) == 1 for elem in predictMany(testX, [0.1,3.2,7.4])), 'Your array should only contain elements with absoulte value 1.'\n",
    "assert (predictMany(testX, [0.1,3.2,7.4]) == np.array([1,-1,1])).all()"
   ]
  },
  {
   "cell_type": "markdown",
   "metadata": {
    "deletable": false,
    "editable": false,
    "nbgrader": {
     "cell_type": "markdown",
     "checksum": "b521c363648cd7d109995ae791cc981e",
     "grade": false,
     "grade_id": "cell-c23fdd938000409c",
     "locked": true,
     "schema_version": 3,
     "solution": false,
     "task": false
    }
   },
   "source": [
    "Implement the function that returns the updated weight vector according to the perceptron algorithm after running over the entire input data `X`, with labels `Y`, current weight vector `w` and learning rate `eta`. "
   ]
  },
  {
   "cell_type": "code",
   "execution_count": 10,
   "metadata": {
    "deletable": false,
    "nbgrader": {
     "cell_type": "code",
     "checksum": "6196d2854f9754628d6f1aaea1a5e05d",
     "grade": false,
     "grade_id": "cell-24fb62e759d5838b",
     "locked": false,
     "schema_version": 3,
     "solution": true,
     "task": false
    }
   },
   "outputs": [],
   "source": [
    "def update(X,Y,w,eta):\n",
    "    neww = np.array(w)\n",
    "    # YOUR CODE HERE\n",
    "    for i in range(X.shape[0]):\n",
    "        x_i = X[i]\n",
    "        y_i = Y[i]\n",
    "\n",
    "        prediction = predictOne(x_i, neww)\n",
    "        \n",
    "        if prediction != y_i:\n",
    "            neww[0]  += eta * (y_i - prediction) / 2\n",
    "            neww[1:] += eta * (y_i - prediction) / 2 * x_i\n",
    "\n",
    "    return neww"
   ]
  },
  {
   "cell_type": "code",
   "execution_count": 11,
   "metadata": {
    "deletable": false,
    "editable": false,
    "nbgrader": {
     "cell_type": "code",
     "checksum": "23a58edf649a521d0746be2c6f170dcd",
     "grade": true,
     "grade_id": "cell-dcf30aa973195628",
     "locked": true,
     "points": 2,
     "schema_version": 3,
     "solution": false,
     "task": false
    }
   },
   "outputs": [],
   "source": [
    "Xtest = np.array([(-1,),(-2,),(5,),(7,)])\n",
    "Ytest = np.array([ -1, -1, 1, 1])\n",
    "wtest = np.array([ 1.5 , 1.0])\n",
    "assert (update(Xtest,Ytest,wtest,0.1) == np.array([1.4, 1.1])).all()"
   ]
  },
  {
   "cell_type": "markdown",
   "metadata": {},
   "source": [
    "Define a function `fit` that updates the perceptron parameters until a solution is found and returns the number of steps needed to converge and the value of the weight vector."
   ]
  },
  {
   "cell_type": "code",
   "execution_count": 12,
   "metadata": {
    "deletable": false,
    "nbgrader": {
     "cell_type": "code",
     "checksum": "4977dbf56eaad08e47c0102c7f3456a1",
     "grade": false,
     "grade_id": "cell-e79469877607d0c2",
     "locked": false,
     "schema_version": 3,
     "solution": true,
     "task": false
    }
   },
   "outputs": [],
   "source": [
    "def fit(X,Y,w0,eta):\n",
    "    # YOUR CODE HERE\n",
    "    # your function should return n_steps (as a number) and w (as an array)\n",
    "    noww = np.array(w0)\n",
    "    n_steps = 0\n",
    "    \n",
    "    while True:\n",
    "        predictions = predictMany(X, noww)\n",
    "\n",
    "        if (predictions == Y).all():\n",
    "            return n_steps, noww\n",
    "        \n",
    "        noww = update(X, Y, noww, eta)\n",
    "        n_steps += 1\n",
    "\n",
    "    return n_steps, noww\n",
    "    \n",
    "    "
   ]
  },
  {
   "cell_type": "code",
   "execution_count": 13,
   "metadata": {
    "deletable": false,
    "editable": false,
    "nbgrader": {
     "cell_type": "code",
     "checksum": "214ba1914c0e5eabe89351d7cedcd453",
     "grade": true,
     "grade_id": "cell-9031049accce2a39",
     "locked": true,
     "points": 2,
     "schema_version": 3,
     "solution": false,
     "task": false
    }
   },
   "outputs": [],
   "source": [
    "Xtest = np.array([[5.1, 3.5], [4.9, 3. ], [4.7, 3.2], [4.6, 3.1], [5. , 3.6], [7. , 3.2], [6.4, 3.2], [6.9, 3.1],\n",
    "       [5.5, 2.3], [6.5, 2.8]])\n",
    "Ytest = np.array([ 1.,  1.,  1.,  1.,  1., -1., -1., -1., -1., -1.])\n",
    "\n",
    "# these values already fit the data, so we should no do any step and return the original weight vector\n",
    "test_n, test_w = fit(Xtest,Ytest,[0.2, -0.59, 0.92],0.1)\n",
    "assert len(fit(Xtest,Ytest,[0.2, -0.59, 0.92],0.1)) == 2, 'Your function needs two return values'\n",
    "assert isinstance(test_n, int), 'First return value should be an integer'\n",
    "assert isinstance(test_w, (list, tuple, np.ndarray)), 'Second return value should be an array/list/tuple'\n",
    "\n",
    "assert test_n == 0\n",
    "assert (test_w == [ 0.2 , -0.59,  0.92]).all()"
   ]
  },
  {
   "cell_type": "code",
   "execution_count": 14,
   "metadata": {
    "deletable": false,
    "editable": false,
    "nbgrader": {
     "cell_type": "code",
     "checksum": "76a54e22ade9d99dcee7937c9648865f",
     "grade": true,
     "grade_id": "cell-be2061497a2d5b6c",
     "locked": true,
     "points": 3,
     "schema_version": 3,
     "solution": false,
     "task": false
    }
   },
   "outputs": [],
   "source": [
    "# this test requires some iterations\n",
    "test_n, test_w = fit(Xtest,Ytest,[0.0, 0.0, 0.0],0.1)\n",
    "assert test_n == 10\n",
    "assert np.isclose(test_w , [ 0.2 , -0.59,  0.92]).all()"
   ]
  },
  {
   "cell_type": "markdown",
   "metadata": {
    "deletable": false,
    "editable": false,
    "nbgrader": {
     "cell_type": "markdown",
     "checksum": "5d898f4deaa6a3282e4b63f32f8bf1a8",
     "grade": false,
     "grade_id": "cell-41ee6d2d40a90a26",
     "locked": true,
     "schema_version": 3,
     "solution": false,
     "task": false
    }
   },
   "source": [
    "# Using scikit-learn\n",
    "\n",
    "This is an example on how to use the perceptron implementation in scikit-learn. Use it to investigate things like \n",
    "- does it help to randomize the input\n",
    "- what is the effect of changing the learning rate $\\eta$? "
   ]
  },
  {
   "cell_type": "code",
   "execution_count": 15,
   "metadata": {},
   "outputs": [],
   "source": [
    "from sklearn.linear_model import Perceptron\n",
    "# let's use a larger sample\n",
    "X, Y = subSample(50)"
   ]
  },
  {
   "cell_type": "markdown",
   "metadata": {},
   "source": [
    "This is uses the `Perceptron` class. Using the `max_iter=1` and `warm_start=True` options we ensure that each time the `fit` function is called only one step is performed. "
   ]
  },
  {
   "cell_type": "code",
   "execution_count": 16,
   "metadata": {},
   "outputs": [
    {
     "name": "stdout",
     "output_type": "stream",
     "text": [
      "[0.] [[-0.95  0.15]]\n",
      "[0.] [[-1.9  0.3]]\n",
      "[0.] [[-2.85  0.45]]\n",
      "[0.] [[-3.8  0.6]]\n",
      "[0.] [[-4.45  0.75]]\n",
      "[0.5] [[-2.95  2.4 ]]\n",
      "[0.5] [[-3.9   2.55]]\n",
      "[0.5] [[-4.85  2.7 ]]\n",
      "[0.5] [[-5.5   2.85]]\n",
      "[1.] [[-4.2   4.15]]\n",
      "[1.] [[-5.15  4.3 ]]\n",
      "[1.] [[-6.1   4.45]]\n",
      "[1.5] [[-4.8   5.75]]\n",
      "[1.5] [[-5.75  5.9 ]]\n",
      "[1.5] [[-6.7   6.05]]\n",
      "[1.5] [[-7.35  6.2 ]]\n",
      "[2.] [[-6.05  7.5 ]]\n",
      "[2.] [[-7.    7.65]]\n",
      "[2.] [[-7.95  7.8 ]]\n",
      "[2.] [[-8.   8.2]]\n"
     ]
    }
   ],
   "source": [
    "import warnings\n",
    "warnings.simplefilter(\"ignore\")  # suppresses annoying warnings\n",
    "\n",
    "clf = Perceptron(\n",
    "    max_iter=1 , \n",
    "    warm_start=True, \n",
    "    shuffle=False, \n",
    "    eta0=0.5)\n",
    "for i in range(20):\n",
    "    clf.fit(X, Y)\n",
    "    print (clf.intercept_,clf.coef_)"
   ]
  },
  {
   "cell_type": "code",
   "execution_count": null,
   "metadata": {},
   "outputs": [],
   "source": []
  }
 ],
 "metadata": {
  "kernelspec": {
   "display_name": "Python 3 (ipykernel)",
   "language": "python",
   "name": "python3"
  },
  "language_info": {
   "codemirror_mode": {
    "name": "ipython",
    "version": 3
   },
   "file_extension": ".py",
   "mimetype": "text/x-python",
   "name": "python",
   "nbconvert_exporter": "python",
   "pygments_lexer": "ipython3",
   "version": "3.9.12"
  }
 },
 "nbformat": 4,
 "nbformat_minor": 2
}
