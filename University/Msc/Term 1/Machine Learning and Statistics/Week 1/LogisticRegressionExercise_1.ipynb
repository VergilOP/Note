{
 "cells": [
  {
   "cell_type": "markdown",
   "metadata": {
    "deletable": false,
    "editable": false,
    "nbgrader": {
     "cell_type": "markdown",
     "checksum": "3c1064fd6a8779b8cc95e8a28c1a0be3",
     "grade": false,
     "grade_id": "cell-f1c48667aa374cfa",
     "locked": true,
     "schema_version": 3,
     "solution": false,
     "task": false
    }
   },
   "source": [
    "# Logistic regression"
   ]
  },
  {
   "cell_type": "code",
   "execution_count": 1,
   "metadata": {},
   "outputs": [],
   "source": [
    "import numpy as np\n",
    "import matplotlib.pyplot as plt\n",
    "import random"
   ]
  },
  {
   "cell_type": "markdown",
   "metadata": {},
   "source": [
    "Implement a function that returns the linear prediction for the log of the odds ratio. It should include the bias term. `X` is a $n_d\\times n_f$ array of data: $n_d$ samples with each $n_f$ features. `w` is a $n_f+1$ vector of parameters. We want the function to return a $n_d$ dimenesional vector with each component $z^{(i)}$ satisfying \n",
    "\n",
    "$$ z^{(i)} = w_0 +\\sum_{j=1}^{n_f} w_j x_j^{(i)}\\;.$$"
   ]
  },
  {
   "cell_type": "code",
   "execution_count": 2,
   "metadata": {
    "deletable": false,
    "nbgrader": {
     "cell_type": "code",
     "checksum": "f5584d8b7e3f760193daed70abb73538",
     "grade": false,
     "grade_id": "cell-edd10716d73afa98",
     "locked": false,
     "schema_version": 3,
     "solution": true,
     "task": false
    }
   },
   "outputs": [],
   "source": [
    "def z(X,w):\n",
    "    # YOUR CODE HERE\n",
    "    X_with_bias = np.hstack([np.ones((X.shape[0], 1)), X])\n",
    "    \n",
    "    z_values = np.dot(X_with_bias, w)\n",
    "    \n",
    "    return z_values\n",
    "    "
   ]
  },
  {
   "cell_type": "markdown",
   "metadata": {
    "deletable": false,
    "editable": false,
    "nbgrader": {
     "cell_type": "markdown",
     "checksum": "b40bc6b96daa80932400c23cbc7f8fe1",
     "grade": false,
     "grade_id": "cell-e7047163c4ea090b",
     "locked": true,
     "schema_version": 3,
     "solution": false,
     "task": false
    }
   },
   "source": [
    "This  cell tests your implementation:"
   ]
  },
  {
   "cell_type": "code",
   "execution_count": 3,
   "metadata": {
    "deletable": false,
    "editable": false,
    "nbgrader": {
     "cell_type": "code",
     "checksum": "1e437e371a842afb7968f45cae668c32",
     "grade": true,
     "grade_id": "cell-03b3660a3d678bb0",
     "locked": true,
     "points": 2,
     "schema_version": 3,
     "solution": false,
     "task": false
    }
   },
   "outputs": [],
   "source": [
    "Xtest = np.array([[1,2],[2,4],[3,6]])\n",
    "ytest = np.array([0,0,1])\n",
    "wtest = np.array([7,0,0])\n",
    "assert isinstance(z(Xtest,wtest), (list, tuple, np.ndarray)), 'Return value should be an array/list/tuple'\n",
    "assert (z(Xtest,wtest) == np.array([7,7,7])).all()\n",
    "wtest = np.array([7,-2,1])\n",
    "assert (z(Xtest,wtest) == np.array([7,7,7])).all()\n",
    "wtest = np.array([7,10,1])\n",
    "assert (z(Xtest,wtest) == np.array([19,31,43])).all()"
   ]
  },
  {
   "cell_type": "markdown",
   "metadata": {
    "deletable": false,
    "editable": false,
    "nbgrader": {
     "cell_type": "markdown",
     "checksum": "e4d893ef878564c1140d3842c2cd20d3",
     "grade": false,
     "grade_id": "cell-7613c07d333d033c",
     "locked": true,
     "schema_version": 3,
     "solution": false,
     "task": false
    }
   },
   "source": [
    "Implement the sigmoid function:"
   ]
  },
  {
   "cell_type": "code",
   "execution_count": 4,
   "metadata": {
    "deletable": false,
    "nbgrader": {
     "cell_type": "code",
     "checksum": "6cc899e0a3d685f2447ed222313ffa12",
     "grade": false,
     "grade_id": "cell-cc870d4c5a38620d",
     "locked": false,
     "schema_version": 3,
     "solution": true,
     "task": false
    }
   },
   "outputs": [],
   "source": [
    "def phi(z):\n",
    "    # YOUR CODE HERE\n",
    "    return 1 / (1 + np.exp(-z))"
   ]
  },
  {
   "cell_type": "markdown",
   "metadata": {
    "deletable": false,
    "editable": false,
    "nbgrader": {
     "cell_type": "markdown",
     "checksum": "7df53d89933a8cc2c12ce569808a58a6",
     "grade": false,
     "grade_id": "cell-2f6f03c177a90f4f",
     "locked": true,
     "schema_version": 3,
     "solution": false,
     "task": false
    }
   },
   "source": [
    "Test your answer:"
   ]
  },
  {
   "cell_type": "code",
   "execution_count": 5,
   "metadata": {
    "deletable": false,
    "editable": false,
    "nbgrader": {
     "cell_type": "code",
     "checksum": "fd8a33aedce7b7e2962339234196af38",
     "grade": true,
     "grade_id": "cell-f3b655f0f976f3ea",
     "locked": true,
     "points": 2,
     "schema_version": 3,
     "solution": false,
     "task": false
    }
   },
   "outputs": [],
   "source": [
    "assert phi(0)==0.5\n",
    "assert np.isclose(phi(np.linspace(-2,2,10)),np.array([0.11920292, 0.17428532, 0.2476638 , 0.33924363, 0.44467194,\n",
    "       0.55532806, 0.66075637, 0.7523362 , 0.82571468, 0.88079708])).all()"
   ]
  },
  {
   "cell_type": "markdown",
   "metadata": {
    "deletable": false,
    "editable": false,
    "nbgrader": {
     "cell_type": "markdown",
     "checksum": "606f0bc0d53bbf8164c8940168efa1e8",
     "grade": false,
     "grade_id": "cell-269415e0db8d4794",
     "locked": true,
     "schema_version": 3,
     "solution": false,
     "task": false
    }
   },
   "source": [
    "Implement a function that returns the prediction for data $X$ and parameter vector $w$"
   ]
  },
  {
   "cell_type": "code",
   "execution_count": 6,
   "metadata": {
    "deletable": false,
    "nbgrader": {
     "cell_type": "code",
     "checksum": "aa56a174c70e34a5f3aa01ce3932ca56",
     "grade": false,
     "grade_id": "cell-17614da2c6f457a1",
     "locked": false,
     "schema_version": 3,
     "solution": true,
     "task": false
    }
   },
   "outputs": [],
   "source": [
    "def predict(X,w):\n",
    "    # YOUR CODE HERE\n",
    "    z_values = z(X,w)\n",
    "    \n",
    "    predictions = phi(z_values)\n",
    "    \n",
    "    return predictions"
   ]
  },
  {
   "cell_type": "markdown",
   "metadata": {
    "deletable": false,
    "editable": false,
    "nbgrader": {
     "cell_type": "markdown",
     "checksum": "bfb65dd3c93c9a95e9883bf1d081b286",
     "grade": false,
     "grade_id": "cell-32fb7a786bc5c62f",
     "locked": true,
     "schema_version": 3,
     "solution": false,
     "task": false
    }
   },
   "source": [
    "Test your implementation:"
   ]
  },
  {
   "cell_type": "code",
   "execution_count": 7,
   "metadata": {
    "deletable": false,
    "editable": false,
    "nbgrader": {
     "cell_type": "code",
     "checksum": "4d44a25d16fd308a67a55a2e23fb08e7",
     "grade": true,
     "grade_id": "cell-5e6a202633b04b4e",
     "locked": true,
     "points": 2,
     "schema_version": 3,
     "solution": false,
     "task": false
    }
   },
   "outputs": [],
   "source": [
    "Xtest = np.array([[1,-3],[2,-4],[3,6]])\n",
    "wtest = np.array([0.01,0.01,0.01])\n",
    "assert isinstance(predict(Xtest,wtest), (list, tuple, np.ndarray)), 'Return value for this test should be an array/list/tuple'\n",
    "assert isinstance(predict(Xtest,wtest)[0], float), 'Return value should be a list of floats.'\n",
    "assert np.isclose(predict(Xtest,wtest),np.array([0.49750002, 0.49750002, 0.52497919])).all()"
   ]
  },
  {
   "cell_type": "markdown",
   "metadata": {},
   "source": [
    "Define the cross entropy loss function for data $X$, label $y$ and parameter $w$."
   ]
  },
  {
   "cell_type": "code",
   "execution_count": 8,
   "metadata": {
    "deletable": false,
    "nbgrader": {
     "cell_type": "code",
     "checksum": "c952173b80dc011a2a98c9a72a2c5c30",
     "grade": false,
     "grade_id": "cell-254f89c9a480e487",
     "locked": false,
     "schema_version": 3,
     "solution": true,
     "task": false
    }
   },
   "outputs": [],
   "source": [
    "def J(X,y,w):\n",
    "    # YOUR CODE HERE\n",
    "    predictions = predict(X,w)\n",
    "\n",
    "    loss = -np.sum(y * np.log(predictions) + (1 - y) * np.log(1 - predictions))\n",
    "    \n",
    "    return loss"
   ]
  },
  {
   "cell_type": "markdown",
   "metadata": {
    "deletable": false,
    "editable": false,
    "nbgrader": {
     "cell_type": "markdown",
     "checksum": "25bd42bea87b50c77434f43e8e9ef649",
     "grade": false,
     "grade_id": "cell-acd14ddd6cfdf2f6",
     "locked": true,
     "schema_version": 3,
     "solution": false,
     "task": false
    }
   },
   "source": [
    "Test your implementation:"
   ]
  },
  {
   "cell_type": "code",
   "execution_count": 9,
   "metadata": {
    "deletable": false,
    "editable": false,
    "nbgrader": {
     "cell_type": "code",
     "checksum": "40a300f2247ec303fd3b333fc1219408",
     "grade": true,
     "grade_id": "cell-7be0a75acc58194d",
     "locked": true,
     "points": 2,
     "schema_version": 3,
     "solution": false,
     "task": false
    }
   },
   "outputs": [],
   "source": [
    "Xtest = np.array([[1,-3],[2,-4],[3,6]])\n",
    "ytest = np.array([0,0,1])\n",
    "wtest = np.array([0.01,0.01,0.01])\n",
    "assert isinstance(J(Xtest, ytest, wtest), float), 'Return value should be a float.'\n",
    "assert np.isclose(J(Xtest, ytest, wtest), 2.020716021089296)"
   ]
  },
  {
   "cell_type": "markdown",
   "metadata": {
    "deletable": false,
    "editable": false,
    "nbgrader": {
     "cell_type": "markdown",
     "checksum": "9263f8cec7f1bb667d583e48197e8789",
     "grade": false,
     "grade_id": "cell-c5029c4b5f763683",
     "locked": true,
     "schema_version": 3,
     "solution": false,
     "task": false
    }
   },
   "source": [
    "For fitting the model we need gradient of the loss function. Implement it here:"
   ]
  },
  {
   "cell_type": "code",
   "execution_count": 10,
   "metadata": {
    "deletable": false,
    "nbgrader": {
     "cell_type": "code",
     "checksum": "d58b5930246426b25427bffa2fcbe28b",
     "grade": false,
     "grade_id": "cell-2b704fb57dbd3512",
     "locked": false,
     "schema_version": 3,
     "solution": true,
     "task": false
    }
   },
   "outputs": [],
   "source": [
    "def gradJ(X,y,w):\n",
    "    # YOUR CODE HERE\n",
    "    n_d = X.shape[0]\n",
    "    \n",
    "    X_with_bias = np.hstack([np.ones((X.shape[0], 1)), X])\n",
    "    z_values = np.dot(X_with_bias, w)\n",
    "    predictions = 1 / (1 + np.exp(-z_values))\n",
    "    \n",
    "    gradient = -np.dot(X_with_bias.T, (y - predictions))\n",
    "    \n",
    "    return gradient"
   ]
  },
  {
   "cell_type": "markdown",
   "metadata": {
    "deletable": false,
    "editable": false,
    "nbgrader": {
     "cell_type": "markdown",
     "checksum": "f5200ba69b284b43f80ad2b04f9b211f",
     "grade": false,
     "grade_id": "cell-31deb0463572775a",
     "locked": true,
     "schema_version": 3,
     "solution": false,
     "task": false
    }
   },
   "source": [
    "Test your code:"
   ]
  },
  {
   "cell_type": "code",
   "execution_count": 11,
   "metadata": {
    "deletable": false,
    "editable": false,
    "nbgrader": {
     "cell_type": "code",
     "checksum": "3b78d2734d34209185f8b995cc39cbe9",
     "grade": true,
     "grade_id": "cell-ce743752451b5223",
     "locked": true,
     "points": 2,
     "schema_version": 3,
     "solution": false,
     "task": false
    }
   },
   "outputs": [],
   "source": [
    "Xtest = np.array([[1,-3],[2,-4],[3,6]])\n",
    "ytest = np.array([0,0,1])\n",
    "wtest = np.array([0.01,0.01,0.01])\n",
    "\n",
    "assert isinstance(gradJ(Xtest,ytest,wtest), (list, tuple, np.ndarray)), 'Return value for this test should be an array/list/tuple'\n",
    "assert isinstance(gradJ(Xtest,ytest,wtest)[0], float), 'Return value should be a list of floats.'\n",
    "\n",
    "assert np.isclose(gradJ(Xtest,ytest,wtest), np.array([ 0.51997923,  0.06743762, -6.33262502])).all()"
   ]
  },
  {
   "cell_type": "markdown",
   "metadata": {
    "deletable": false,
    "editable": false,
    "nbgrader": {
     "cell_type": "markdown",
     "checksum": "bce941a29bc44d7316a4a70974b7b8bb",
     "grade": false,
     "grade_id": "cell-7a15b0691437c274",
     "locked": true,
     "schema_version": 3,
     "solution": false,
     "task": false
    }
   },
   "source": [
    "We can also test numerically that we got the gradient right:"
   ]
  },
  {
   "cell_type": "code",
   "execution_count": 12,
   "metadata": {},
   "outputs": [],
   "source": [
    "delta = 0.00001\n",
    "Jp0 = J(Xtest,ytest,wtest+[delta,0,0])\n",
    "Jp1 = J(Xtest,ytest,wtest+[0,delta,0])\n",
    "Jp2 = J(Xtest,ytest,wtest+[0,0,delta])\n",
    "J0 = J(Xtest,ytest,wtest)\n",
    "g0 = (Jp0-J0)/delta\n",
    "g1 = (Jp1-J0)/delta\n",
    "g2 = (Jp2-J0)/delta\n",
    "assert np.isclose( gradJ(Xtest,ytest,wtest), [g0, g1, g2], rtol=1e-3).all()"
   ]
  },
  {
   "cell_type": "markdown",
   "metadata": {
    "deletable": false,
    "editable": false,
    "nbgrader": {
     "cell_type": "markdown",
     "checksum": "00c122d376c338da5c0638dd73765f48",
     "grade": false,
     "grade_id": "cell-70164198740c27a1",
     "locked": true,
     "schema_version": 3,
     "solution": false,
     "task": false
    }
   },
   "source": [
    "We also need a function to calculate the score, that is the ratio of correctly predicted values to the total number of values predicted. "
   ]
  },
  {
   "cell_type": "code",
   "execution_count": 13,
   "metadata": {
    "deletable": false,
    "nbgrader": {
     "cell_type": "code",
     "checksum": "b73e219ce52c166d5c1586d3266360ee",
     "grade": false,
     "grade_id": "cell-ada33a3f1e936581",
     "locked": false,
     "schema_version": 3,
     "solution": true,
     "task": false
    }
   },
   "outputs": [],
   "source": [
    "def getScore(X,y,w):\n",
    "    # YOUR CODE HERE\n",
    "    predictions = predict(X,w)\n",
    "\n",
    "    binary_predictions = (predictions >= 0.5).astype(int)\n",
    "\n",
    "    score = np.mean(binary_predictions == y)\n",
    "    \n",
    "    return score\n"
   ]
  },
  {
   "cell_type": "code",
   "execution_count": 14,
   "metadata": {
    "deletable": false,
    "editable": false,
    "nbgrader": {
     "cell_type": "code",
     "checksum": "90cfb80192a6e52456f5b07283e3dda0",
     "grade": true,
     "grade_id": "cell-631b517866e5aa84",
     "locked": true,
     "points": 2,
     "schema_version": 3,
     "solution": false,
     "task": false
    }
   },
   "outputs": [],
   "source": [
    "Xtest = np.array([[1,-3],[2,-4],[3,6]])\n",
    "ytest = np.array([0,0,1])\n",
    "wtest = np.array([0.01,0.01,0.01])\n",
    "assert getScore(Xtest, ytest, wtest) == 1.0\n",
    "ytest = np.array([0,1,1])\n",
    "assert getScore(Xtest, ytest, wtest) == 2.0/3.0\n",
    "ytest = np.array([1,1,1])\n",
    "assert getScore(Xtest, ytest, wtest) == 1.0/3.0"
   ]
  },
  {
   "cell_type": "markdown",
   "metadata": {},
   "source": [
    "## Learning loop code\n",
    "\n",
    "Define the function `learn` that takes the data `X`, the target `y`, the learning rate `eta` and the number of steps `nsteps` as arguments and returns the three vectors:\n",
    " - the value of the parameters after each step (including before the first step)\n",
    " - the value of the loss at each step\n",
    " - the value of the score at each step\n",
    "\n",
    "Start from randomly initialized parameters in the range $[0, \\, 1]$."
   ]
  },
  {
   "cell_type": "code",
   "execution_count": 15,
   "metadata": {
    "deletable": false,
    "nbgrader": {
     "cell_type": "code",
     "checksum": "d26bdbdd16bf8bbf860876f8693af134",
     "grade": false,
     "grade_id": "cell-49058cf7e291c10c",
     "locked": false,
     "schema_version": 3,
     "solution": true,
     "task": false
    }
   },
   "outputs": [],
   "source": [
    "def learn(X,y,eta, nsteps):\n",
    "    # YOUR CODE HERE\n",
    "    w = np.random.rand(X.shape[1] + 1)\n",
    "    w_values = [w.copy()]\n",
    "    loss_values = []\n",
    "    score_values = []\n",
    "\n",
    "    for step in range(nsteps):\n",
    "        loss = J(X, y, w)\n",
    "        loss_values.append(loss)\n",
    "\n",
    "        score = getScore(X, y, w)\n",
    "        score_values.append(score)\n",
    "\n",
    "        gradient = gradJ(X, y, w)\n",
    "\n",
    "        w = w - eta * gradient\n",
    "\n",
    "        w_values.append(w.copy())\n",
    "\n",
    "    return np.array(w_values), loss_values, score_values"
   ]
  },
  {
   "cell_type": "markdown",
   "metadata": {},
   "source": [
    "This function will show you plots for the learning of your algorithm if you provide the above mentionned vectors."
   ]
  },
  {
   "cell_type": "code",
   "execution_count": 16,
   "metadata": {},
   "outputs": [],
   "source": [
    "def makePlots(ws, js, scores):\n",
    "    plt.figure(figsize=(15,10))\n",
    "    plt.subplot(221)\n",
    "    plt.plot(ws[:,0], label='$w_0$')\n",
    "    plt.plot(ws[:,1], label='$w_1$')\n",
    "    plt.plot(ws[:,2], label='$w_2$')\n",
    "    plt.legend()\n",
    "    plt.title(\"Parameters\")\n",
    "    \n",
    "    plt.subplot(222)\n",
    "    \n",
    "    plt.plot(js)\n",
    "    plt.yscale('log')\n",
    "    plt.title('loss')\n",
    "    \n",
    "    plt.subplot(223)\n",
    "    plt.plot(scores)\n",
    "    plt.title('score')"
   ]
  },
  {
   "cell_type": "markdown",
   "metadata": {},
   "source": [
    "## Cancer data\n",
    "\n",
    "We start we a dataset of benign and malignent cancer cases. We only look at two features."
   ]
  },
  {
   "cell_type": "code",
   "execution_count": 17,
   "metadata": {},
   "outputs": [
    {
     "data": {
      "image/png": "[encoded data removed]",
      "text/plain": [
       "<Figure size 432x288 with 1 Axes>"
      ]
     },
     "metadata": {
      "needs_background": "light"
     },
     "output_type": "display_data"
    }
   ],
   "source": [
    "from sklearn import datasets\n",
    "cancer = datasets.load_breast_cancer()\n",
    "#only take two features\n",
    "X = cancer.data[:,:2]\n",
    "y = cancer.target\n",
    "malignent = cancer.data[y==1]\n",
    "benign = cancer.data[y==0]\n",
    "xb, yb = benign[:,0],benign[:,1]\n",
    "xm, ym = malignent[:,0],malignent[:,1]\n",
    "plt.scatter(xb,yb,color='g',alpha=0.2,label='benign')\n",
    "plt.scatter(xm,ym,color='r',alpha=0.2,label='malignent')\n",
    "plt.legend();"
   ]
  },
  {
   "cell_type": "markdown",
   "metadata": {},
   "source": [
    "Here we normalise the features before learning."
   ]
  },
  {
   "cell_type": "code",
   "execution_count": 18,
   "metadata": {},
   "outputs": [],
   "source": [
    "av = np.average(X,axis=0)\n",
    "sc = np.std(X,axis=0)\n",
    "X = (X-av)/sc"
   ]
  },
  {
   "cell_type": "markdown",
   "metadata": {},
   "source": [
    "Experiment with different learning rates and number of steps! Try without normalising the features."
   ]
  },
  {
   "cell_type": "code",
   "execution_count": 19,
   "metadata": {},
   "outputs": [
    {
     "data": {
      "image/png": "[encoded data removed]",
      "text/plain": [
       "<Figure size 1080x720 with 3 Axes>"
      ]
     },
     "metadata": {
      "needs_background": "light"
     },
     "output_type": "display_data"
    }
   ],
   "source": [
    "ws, js, scores = learn(X, y, eta= 0.01, nsteps = 10)\n",
    "makePlots(ws, js, scores)"
   ]
  },
  {
   "cell_type": "markdown",
   "metadata": {},
   "source": [
    "## Iris dataset\n",
    "\n",
    "Here we use a different data set. This time the data is linearly separable. What is different? Is the decision boundary better than with the perceptron algorithm?"
   ]
  },
  {
   "cell_type": "code",
   "execution_count": 20,
   "metadata": {},
   "outputs": [
    {
     "data": {
      "image/png": "[encoded data removed]",
      "text/plain": [
       "<Figure size 432x288 with 1 Axes>"
      ]
     },
     "metadata": {
      "needs_background": "light"
     },
     "output_type": "display_data"
    }
   ],
   "source": [
    "from sklearn import datasets\n",
    "data_dic = datasets.load_iris()\n",
    "features = data_dic['data']\n",
    "targets = data_dic['target']\n",
    "\n",
    "c1 = features[targets==0]\n",
    "c2 = features[targets==1]\n",
    "c3 = features[targets==2]\n",
    "\n",
    "\n",
    "def subSample(nData):\n",
    "    X = np.empty((2*nData,2))\n",
    "    X[:nData] = c1[:nData,:2]\n",
    "    X[nData:] = c2[:nData,:2]\n",
    "    Y = np.empty(2*nData)\n",
    "    Y[:nData] = np.ones(nData)\n",
    "    Y[nData:] = np.zeros(nData)\n",
    "    return X,Y\n",
    "\n",
    "nData = 30\n",
    "X, Y = subSample(nData)\n",
    "\n",
    "# plot\n",
    "\n",
    "X[Y==0]\n",
    "c1 = X[Y==1]\n",
    "c2 = X[Y==0]\n",
    "plt.scatter(c1[:,0],c1[:,1], color='red', marker='s', alpha=0.5, label=\"Setosa\")\n",
    "plt.scatter(c2[:,0],c2[:,1], color='blue', marker='x', alpha=0.5, label=\"Versicolour\")\n",
    "plt.legend()\n",
    "plt.xlabel(\"sepal length [cm]\")\n",
    "plt.ylabel(\"sepal width [cm]\");\n",
    "\n"
   ]
  },
  {
   "cell_type": "markdown",
   "metadata": {},
   "source": [
    "Experiment with different step numbers and learning rates."
   ]
  },
  {
   "cell_type": "code",
   "execution_count": 21,
   "metadata": {},
   "outputs": [
    {
     "data": {
      "image/png": "[encoded data removed]",
      "text/plain": [
       "<Figure size 1080x720 with 3 Axes>"
      ]
     },
     "metadata": {
      "needs_background": "light"
     },
     "output_type": "display_data"
    }
   ],
   "source": [
    "ws, js, scores = learn(X, Y, eta= 0.001, nsteps = 10)\n",
    "makePlots(ws, js, scores)"
   ]
  },
  {
   "cell_type": "markdown",
   "metadata": {},
   "source": [
    "Does it make a difference to normalise the features? Do the parameters stabilize to a given value? Can you explain why?"
   ]
  }
 ],
 "metadata": {
  "kernelspec": {
   "display_name": "Python 3 (ipykernel)",
   "language": "python",
   "name": "python3"
  },
  "language_info": {
   "codemirror_mode": {
    "name": "ipython",
    "version": 3
   },
   "file_extension": ".py",
   "mimetype": "text/x-python",
   "name": "python",
   "nbconvert_exporter": "python",
   "pygments_lexer": "ipython3",
   "version": "3.9.12"
  }
 },
 "nbformat": 4,
 "nbformat_minor": 2
}
