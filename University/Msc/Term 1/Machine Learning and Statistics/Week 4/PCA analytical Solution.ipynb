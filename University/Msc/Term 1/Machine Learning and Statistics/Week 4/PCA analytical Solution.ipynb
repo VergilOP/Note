{
 "cells": [
  {
   "cell_type": "markdown",
   "metadata": {},
   "source": [
    "# PCA analytic exercise\n",
    "\n",
    "## Standardisation\n",
    "\n",
    "Show that if there is a relationship \n",
    "\n",
    "$y = ax +b$\n",
    "\n",
    "then the standardised values $u$ and $v$ for $x$ and $y$ satisfy the relationship \n",
    "\n",
    "$$u= \\pm v\\;,$$\n",
    "\n",
    "which means they will align on one of the diagonals of the $u-v$ graph.\n",
    "\n",
    "## Two-dimensional data variance\n",
    "\n",
    "Show that for 2 standardised variables $x$ and $y$ the eigenvectors of the data variance matrix are (1,-1) and (1,1) if there is any correlation between them.\n",
    "\n"
   ]
  },
  {
   "cell_type": "markdown",
   "metadata": {},
   "source": [
    "# Solution\n",
    "\n",
    "## Standardisation\n",
    "\n",
    "We have for $x$ \n",
    "\n",
    "$$u = \\frac{x -\\left<x\\right>}{\\sigma_x}\\;\\qquad \\mbox{with}\\qquad \\sigma_x^2 = \\left<x^2\\right> - \\left<x\\right>^2$$"
   ]
  },
  {
   "cell_type": "markdown",
   "metadata": {},
   "source": [
    "for $y$ we have\n",
    "$$ \\left<y\\right> = a\\left<x\\right> + b$$ \n",
    "\n",
    "and \n",
    "\n",
    "$$ \\sigma_y = \\left< (a x +b)^2 \\right> -  \\left< a x +b \\right>^2 = a^2 \\left<x^2\\right> + 2ab\\left<x\\right>  +b^2 -  a^2 \\left<x\\right>^2 - 2 ab\\left<x\\right> -b^2 = a^2\\left(\\left<x^2\\right> - \\left<x\\right>^2\\right) = a^2\\sigma_x^2$$ \n",
    "\n",
    "So the standardised variable is given by:\n",
    "\n",
    "$$ v= \\frac{y -\\left<y\\right>}{\\sigma_y} = \\frac{ax +b -  a\\left<x\\right> - b }{|a| \\sigma_x} = \\frac{a (x - \\left<x\\right>)}{|a| \\sigma_x} = \\frac{a}{|a|}u\\;,$$ \n",
    "\n",
    "so depending on the sign of a we get $u=\\pm v$."
   ]
  },
  {
   "cell_type": "markdown",
   "metadata": {},
   "source": [
    "## Two-dimensional data variance\n",
    "\n",
    "The data is a $n_D\\times 2$ matrix, we will call the two columns $\\vec x$ and $\\vec y$. Since $x$ and $y$ are standardised we have\n",
    "\n",
    "$$\\sum\\limits_{i=1}^{n_D} x^{(i)} = 0 \\;,\\qquad \\frac{1}{N}\\sum\\limits_{i=1}^{n_D} \\left(x^{(i)}\\right)^2 = 1  $$\n",
    "$$\\sum\\limits_{i=1}^{n_D} y^{(i)} = 0 \\;,\\qquad \\frac{1}{N}\\sum\\limits_{i=1}^{n_D} \\left(y^{(i)}\\right)^2 = 1  $$\n",
    "\n",
    "which means in terms of the column vectors:\n",
    "$$ \\vec x \\cdot \\vec x = N \\;,\\qquad \\vec y \\cdot \\vec y = N $$   \n",
    "\n",
    "The correlation of the data is given by the expectation\n",
    "\n",
    "$$\\left< (x-\\left<x\\right>)(y-\\left<y\\right>)\\right>$$\n",
    "\n",
    "and we can estimate it in the data as\n",
    "\n",
    "$$\\rho = \\frac{1}{N}\\sum\\limits_{i=1}^{n_D} (x^{(i)}-\\left<x\\right>)(y^{(i)}-\\left<y\\right>) = \\sum\\limits_{i=1}^{n_D} x^{(i)}y^{(i)}  $$\n",
    "which means in terms of the column vectors:\n",
    "$$ \\vec x \\cdot \\vec y = N \\rho $$   \n",
    "\n",
    "The data variance is given (up to normalisation) by\n",
    "\n",
    "$$ X^TX = \\left(\\begin{array}{cc}\\vec x^T & \\vec y^T\\end{array}\\right) \\left(\\begin{array}{c}\\vec x \\\\ \\vec y\\end{array}\\right) =\\left(\\begin{array}{cc} \\vec x\\cdot \\vec x & \\vec y\\cdot \\vec x \\\\ \\vec x\\cdot \\vec y &  \\vec y \\cdot \\vec y\\end{array}\\right)=\\left(\\begin{array}{cc} N & N\\rho \\\\ N\\rho & N \\end{array}\\right)=N\\left(\\begin{array}{cc} 1 & \\rho \\\\ \\rho & 1 \\end{array}\\right)\\;.$$\n",
    "\n",
    "The matrix $\\left(\\begin{array}{cc} 1 & \\rho \\\\ \\rho & 1 \\end{array}\\right)$ has eigenvectors $(1,1)$ and $(1,-1)$ with eigenvalues $1+\\rho$ and $1-\\rho$ respectively."
   ]
  }
 ],
 "metadata": {
  "kernelspec": {
   "display_name": "Python 3 (ipykernel)",
   "language": "python",
   "name": "python3"
  },
  "language_info": {
   "codemirror_mode": {
    "name": "ipython",
    "version": 3
   },
   "file_extension": ".py",
   "mimetype": "text/x-python",
   "name": "python",
   "nbconvert_exporter": "python",
   "pygments_lexer": "ipython3",
   "version": "3.9.12"
  }
 },
 "nbformat": 4,
 "nbformat_minor": 4
}
