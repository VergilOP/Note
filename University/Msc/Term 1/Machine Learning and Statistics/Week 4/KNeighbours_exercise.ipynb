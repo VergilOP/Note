{
 "cells": [
  {
   "cell_type": "code",
   "execution_count": null,
   "metadata": {},
   "outputs": [],
   "source": [
    "import numpy as np\n",
    "import matplotlib.pyplot as plt\n",
    "from sklearn import datasets\n",
    "from sklearn.preprocessing import StandardScaler\n",
    "from sklearn.neighbors import KNeighborsClassifier\n",
    "from matplotlib.colors import ListedColormap"
   ]
  },
  {
   "cell_type": "markdown",
   "metadata": {},
   "source": [
    "Use a k-neighbours model to classify the following dataset. Try several values of $k$. "
   ]
  },
  {
   "cell_type": "code",
   "execution_count": null,
   "metadata": {},
   "outputs": [],
   "source": [
    "data_dic = datasets.load_iris()\n",
    "features = data_dic['data']\n",
    "targets = data_dic['target']\n",
    "\n",
    "c1 = features[targets==0]\n",
    "c2 = features[targets==1]\n",
    "c3 = features[targets==2]\n",
    "\n",
    "ind1, ind2 = 0,1\n",
    "plt.scatter(c1[:,ind1],c1[:,ind2], color='red', marker='s', alpha=0.5, label=\"Setosa\")\n",
    "plt.scatter(c2[:,ind1],c2[:,ind2], color='blue', marker='x', alpha=0.5, label=\"Versicolour\")\n",
    "plt.scatter(c3[:,ind1],c3[:,ind2], color='green', marker='o', alpha=0.5, label=\"Versicolour\")\n",
    "plt.legend()\n",
    "plt.xlabel(\"sepal length [cm]\")\n",
    "plt.ylabel(\"sepal width [cm]\");\n",
    "def subSample(nData):\n",
    "    X = np.empty((3*nData,2))\n",
    "    X[:nData] = c1[:nData,(ind1, ind2)]\n",
    "    X[nData:2*nData] = c2[:nData,(ind1, ind2)]\n",
    "    X[2*nData:] = c3[:nData,(ind1, ind2)]\n",
    "    Y = np.empty(3*nData)\n",
    "    Y[:nData] = np.zeros(nData)\n",
    "    Y[nData:2*nData] = np.ones(nData)\n",
    "    Y[2*nData:] = 2*np.ones(nData)\n",
    "    return X,Y\n",
    "\n",
    "X, Y = subSample(50)\n",
    "scaler = StandardScaler()\n",
    "X = scaler.fit_transform(X)"
   ]
  },
  {
   "cell_type": "code",
   "execution_count": null,
   "metadata": {},
   "outputs": [],
   "source": [
    "resolution=0.01\n",
    "\n",
    "def regions3(X, y, classifier, colors = ['red','blue','green']):\n",
    "    # setup marker generator and color map\n",
    "    markers = ('s', 'x', 'o', '^', 'v')\n",
    "    cmap = ListedColormap(colors[:len(np.unique(y))])\n",
    "    # plot the decision surface\n",
    "    x1_min, x1_max = X[:, 0].min() - 0.1, X[:, 0].max() + 0.1\n",
    "    x2_min, x2_max = X[:, 1].min() - 0.1, X[:, 1].max() + 0.1\n",
    "    xx1, xx2 = np.meshgrid(np.arange(x1_min, x1_max, resolution),\n",
    "                            np.arange(x2_min, x2_max, resolution))\n",
    "    Z = classifier.predict(np.array([xx1.ravel(), xx2.ravel()]).T)\n",
    "    Z = Z.reshape(xx1.shape)\n",
    "    # inverse scaling of xx1 and xx2\n",
    "    rescaledX = scaler.inverse_transform(np.array([xx1.ravel(), xx2.ravel()]).T)\n",
    "\n",
    "    xx1_rescaled = rescaledX[:,0].reshape(xx1.shape)\n",
    "    xx2_rescaled = rescaledX[:,1].reshape(xx2.shape)\n",
    "\n",
    "    plt.contourf(xx1_rescaled, xx2_rescaled, Z, alpha=0.1, cmap=cmap)\n",
    "    plt.xlim(xx1_rescaled.min(), xx1_rescaled.max())\n",
    "    plt.ylim(xx2_rescaled.min(), xx2_rescaled.max())\n",
    "    \n",
    "    c2 = scaler.inverse_transform(X[y==2])\n",
    "    c1 = scaler.inverse_transform(X[y==1])\n",
    "    c0 = scaler.inverse_transform(X[y==0])\n",
    "    \n",
    "    xb,yb=c0[:,0],c0[:,1]\n",
    "    plt.scatter(xb,yb,color=colors[0],alpha=0.4)\n",
    "    xb,yb=c1[:,0],c1[:,1]\n",
    "    plt.scatter(xb,yb,color=colors[1],alpha=0.4)\n",
    "    xb,yb=c2[:,0],c2[:,1]\n",
    "    plt.scatter(xb,yb,color=colors[2],alpha=0.4)\n",
    "    plt.xlabel('sepal length [cm]')\n",
    "    plt.ylabel('sepal width [cm]');\n"
   ]
  },
  {
   "cell_type": "code",
   "execution_count": null,
   "metadata": {},
   "outputs": [],
   "source": [
    "for k in [2,3,4,5,8,12,20]:\n",
    "    KNclass = KNeighborsClassifier(n_neighbors=k)\n",
    "    KNclass.fit(X, Y)\n",
    "\n",
    "    regions3(X, Y, KNclass)\n",
    "    plt.title(\"n={}\".format(k))\n",
    "    plt.show()"
   ]
  }
 ],
 "metadata": {
  "kernelspec": {
   "display_name": "Python 3 (ipykernel)",
   "language": "python",
   "name": "python3"
  },
  "language_info": {
   "codemirror_mode": {
    "name": "ipython",
    "version": 3
   },
   "file_extension": ".py",
   "mimetype": "text/x-python",
   "name": "python",
   "nbconvert_exporter": "python",
   "pygments_lexer": "ipython3",
   "version": "3.9.12"
  }
 },
 "nbformat": 4,
 "nbformat_minor": 2
}
