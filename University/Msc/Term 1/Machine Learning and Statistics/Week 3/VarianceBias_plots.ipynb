{
 "cells": [
  {
   "cell_type": "code",
   "execution_count": null,
   "metadata": {},
   "outputs": [],
   "source": [
    "import numpy as np\n",
    "import matplotlib.pyplot as plt\n",
    "from scipy.optimize import curve_fit"
   ]
  },
  {
   "cell_type": "code",
   "execution_count": null,
   "metadata": {},
   "outputs": [],
   "source": [
    "def f(x):\n",
    "    return 1+0.2 * x**2"
   ]
  },
  {
   "cell_type": "code",
   "execution_count": null,
   "metadata": {},
   "outputs": [],
   "source": [
    "def m1(x,a,b):\n",
    "    return a+ b* x \n",
    "    \n"
   ]
  },
  {
   "cell_type": "code",
   "execution_count": null,
   "metadata": {},
   "outputs": [],
   "source": [
    "def varianceBias(model,nexp,ndata,nparams, trueModel):\n",
    "    allcoeffs = np.empty((nexp,nparams))\n",
    "    for i in range(nexp):\n",
    "        data = np.random.random(size=ndata)\n",
    "        y = f(data) + 0.1 * np.random.normal(size=ndata)\n",
    "        res,_ = curve_fit(model, data, y, p0=[1]+[0]*(nparams-1))\n",
    "        allcoeffs[i] = res\n",
    "    ws = np.average(allcoeffs,axis=0)\n",
    "    variance = np.std(allcoeffs,axis=0)\n",
    "\n",
    "    bias = (np.array(trueModel) - ws) **2\n",
    "    #same as wostd**2\n",
    "    #variance = np.average( (allcoeffs - [w0,w1])**2,axis=0)\n",
    "    total = np.average((allcoeffs - trueModel)**2, axis=0)\n",
    "    \n",
    "    #print (\"bias: \", bias)\n",
    "    #print (\"variance\", variance**2)\n",
    "    #print (\"total\", total)\n",
    "    #print (variance**2+bias)\n",
    "    return variance**2,bias,total"
   ]
  },
  {
   "cell_type": "code",
   "execution_count": null,
   "metadata": {},
   "outputs": [],
   "source": [
    "vs=[]\n",
    "bs=[]\n",
    "vsabs=[]\n",
    "bsabs=[]\n",
    "\n",
    "nexps = [5,6,7,8,9,10,15,20,30,40,50,60,100,200]\n",
    "for ndata in nexps:\n",
    "    v,b,t = varianceBias(m1,nexp = 1000, ndata = ndata, nparams = 2, trueModel=[1,0])\n",
    "    vs.append(v/t)\n",
    "    bs.append(b/t)\n",
    "    vsabs.append(v)\n",
    "    bsabs.append(b)"
   ]
  },
  {
   "cell_type": "code",
   "execution_count": null,
   "metadata": {},
   "outputs": [],
   "source": [
    "plt.figure(figsize=(14,7))\n",
    "plt.subplot(121)\n",
    "plt.plot(nexps,[vv[0] for vv in vs],'--', label='variance a')\n",
    "plt.plot(nexps,[vv[1] for vv in vs],'--', label='variance b')\n",
    "plt.plot(nexps,[bb[0] for bb in bs],'-', label='bias a')\n",
    "plt.plot(nexps,[bb[1] for bb in bs],'-', label='bias b')\n",
    "plt.title(\"Relative bias/variance\")\n",
    "plt.legend()\n",
    "plt.xlabel(\"data sample size\")\n",
    "\n",
    "plt.subplot(122)\n",
    "plt.plot(nexps,[vv[0] for vv in vsabs],'--', label='variance a')\n",
    "plt.plot(nexps,[vv[1] for vv in vsabs],'--', label='variance b')\n",
    "plt.plot(nexps,[bb[0] for bb in bsabs],'-', label='bias a')\n",
    "plt.plot(nexps,[bb[1] for bb in bsabs],'-', label='bias b')\n",
    "plt.title(\"Abolute bias/variance\")\n",
    "plt.legend()\n",
    "plt.xlabel(\"data sample size\")"
   ]
  },
  {
   "cell_type": "code",
   "execution_count": null,
   "metadata": {},
   "outputs": [],
   "source": [
    "def m2(x,a,b,c):\n",
    "    return a +x*(b + x* (c))\n",
    "\n",
    "varianceBias(m2,nexp = 1000, ndata = ndata, nparams = 3, trueModel=[1,0,0.2])"
   ]
  },
  {
   "cell_type": "code",
   "execution_count": null,
   "metadata": {},
   "outputs": [],
   "source": [
    "vs=[]\n",
    "bs=[]\n",
    "nexps = [5,10,20,30,40,50,60,100]\n",
    "for ndata in nexps:\n",
    "    v,b,t = varianceBias(m2,nexp = 1000, ndata = ndata, nparams = 3, trueModel=[1,0,0.2])\n",
    "    vs.append(v/t)\n",
    "    bs.append(b/t)"
   ]
  },
  {
   "cell_type": "code",
   "execution_count": null,
   "metadata": {},
   "outputs": [],
   "source": [
    "plt.plot(nexps,[vv[0] for vv in vs],'--', label='variance a')\n",
    "plt.plot(nexps,[vv[1] for vv in vs],'--', label='variance b')\n",
    "plt.plot(nexps,[vv[2] for vv in vs],'--', label='variance c')\n",
    "plt.plot(nexps,[bb[0] for bb in bs],'-', label='bias a')\n",
    "plt.plot(nexps,[bb[1] for bb in bs],'-', label='bias b')\n",
    "plt.plot(nexps,[bb[2] for bb in bs],'-', label='bias c')\n",
    "\n",
    "plt.legend()"
   ]
  },
  {
   "cell_type": "code",
   "execution_count": null,
   "metadata": {},
   "outputs": [],
   "source": [
    "def m3(x,a,b,c,d):\n",
    "    return a +x*(b + x* (c+d*x))\n",
    "\n",
    "varianceBias(m3,nexp = 1000, ndata = ndata, nparams = 4, trueModel=[1,0,0.2,0])"
   ]
  },
  {
   "cell_type": "code",
   "execution_count": null,
   "metadata": {},
   "outputs": [],
   "source": [
    "vs=[]\n",
    "bs=[]\n",
    "vsabs=[]\n",
    "bsabs=[]\n",
    "nexps = [5,6,7,8,9,10,15,20,30,40,50,60,100]\n",
    "for ndata in nexps:\n",
    "    v,b,t = varianceBias(m3,nexp = 1000, ndata = ndata, nparams = 4, trueModel=[1,0,0.2,0])\n",
    "    vs.append(v/t)\n",
    "    bs.append(b/t)\n",
    "    vsabs.append(v)\n",
    "    bsabs.append(b)\n",
    "    \n",
    "plt.figure(figsize=(14,7))\n",
    "plt.subplot(121)\n",
    "plt.plot(nexps,[vv[0] for vv in vs],'--', label='variance a')\n",
    "plt.plot(nexps,[vv[1] for vv in vs],'--', label='variance b')\n",
    "plt.plot(nexps,[vv[2] for vv in vs],'--', label='variance c')\n",
    "plt.plot(nexps,[vv[3] for vv in vs],'--', label='variance d')\n",
    "plt.plot(nexps,[bb[0] for bb in bs],'-', label='bias a')\n",
    "plt.plot(nexps,[bb[1] for bb in bs],'-', label='bias b')\n",
    "plt.plot(nexps,[bb[2] for bb in bs],'-', label='bias c')\n",
    "plt.plot(nexps,[bb[3] for bb in bs],'-', label='bias d')\n",
    "plt.title(\"Relative bias/variance\")\n",
    "plt.legend()\n",
    "plt.xlabel(\"data sample size\")\n",
    "\n",
    "plt.subplot(122)\n",
    "plt.plot(nexps,[vv[0] for vv in vsabs],'--', label='variance a')\n",
    "plt.plot(nexps,[vv[1] for vv in vsabs],'--', label='variance b')\n",
    "plt.plot(nexps,[vv[2] for vv in vsabs],'--', label='variance c')\n",
    "plt.plot(nexps,[vv[3] for vv in vsabs],'--', label='variance d')\n",
    "plt.plot(nexps,[bb[0] for bb in bsabs],'-', label='bias a')\n",
    "plt.plot(nexps,[bb[1] for bb in bsabs],'-', label='bias b')\n",
    "plt.plot(nexps,[bb[2] for bb in bsabs],'-', label='bias c')\n",
    "plt.plot(nexps,[bb[3] for bb in bsabs],'-', label='bias d')\n",
    "plt.title(\"Abolute bias/variance\")\n",
    "plt.yscale('log')\n",
    "plt.legend()\n",
    "plt.xlabel(\"data sample size\")\n"
   ]
  }
 ],
 "metadata": {
  "kernelspec": {
   "display_name": "Python 3",
   "language": "python",
   "name": "python3"
  },
  "language_info": {
   "codemirror_mode": {
    "name": "ipython",
    "version": 3
   },
   "file_extension": ".py",
   "mimetype": "text/x-python",
   "name": "python",
   "nbconvert_exporter": "python",
   "pygments_lexer": "ipython3",
   "version": "3.7.4"
  }
 },
 "nbformat": 4,
 "nbformat_minor": 2
}
